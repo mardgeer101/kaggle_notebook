{
 "cells": [
  {
   "cell_type": "code",
   "execution_count": 1,
   "id": "31eccf8d",
   "metadata": {
    "_cell_guid": "b1076dfc-b9ad-4769-8c92-a6c4dae69d19",
    "_uuid": "8f2839f25d086af736a60e9eeb907d3b93b6e0e5",
    "execution": {
     "iopub.execute_input": "2023-12-08T05:08:55.430573Z",
     "iopub.status.busy": "2023-12-08T05:08:55.430075Z",
     "iopub.status.idle": "2023-12-08T05:09:09.580436Z",
     "shell.execute_reply": "2023-12-08T05:09:09.579204Z"
    },
    "papermill": {
     "duration": 14.159529,
     "end_time": "2023-12-08T05:09:09.583196",
     "exception": false,
     "start_time": "2023-12-08T05:08:55.423667",
     "status": "completed"
    },
    "tags": []
   },
   "outputs": [],
   "source": [
    "import tensorflow as tf\n",
    "import numpy as np\n",
    "import pandas as pd\n",
    "import matplotlib.pyplot as plt\n",
    "from tensorflow.keras.utils import plot_model\n"
   ]
  },
  {
   "cell_type": "code",
   "execution_count": 2,
   "id": "82df7148",
   "metadata": {
    "execution": {
     "iopub.execute_input": "2023-12-08T05:09:09.592612Z",
     "iopub.status.busy": "2023-12-08T05:09:09.591831Z",
     "iopub.status.idle": "2023-12-08T05:09:09.649840Z",
     "shell.execute_reply": "2023-12-08T05:09:09.648315Z"
    },
    "papermill": {
     "duration": 0.066409,
     "end_time": "2023-12-08T05:09:09.653536",
     "exception": false,
     "start_time": "2023-12-08T05:09:09.587127",
     "status": "completed"
    },
    "tags": []
   },
   "outputs": [
    {
     "data": {
      "text/html": [
       "<div>\n",
       "<style scoped>\n",
       "    .dataframe tbody tr th:only-of-type {\n",
       "        vertical-align: middle;\n",
       "    }\n",
       "\n",
       "    .dataframe tbody tr th {\n",
       "        vertical-align: top;\n",
       "    }\n",
       "\n",
       "    .dataframe thead th {\n",
       "        text-align: right;\n",
       "    }\n",
       "</style>\n",
       "<table border=\"1\" class=\"dataframe\">\n",
       "  <thead>\n",
       "    <tr style=\"text-align: right;\">\n",
       "      <th></th>\n",
       "      <th>age</th>\n",
       "      <th>sex</th>\n",
       "      <th>bmi</th>\n",
       "      <th>children</th>\n",
       "      <th>smoker</th>\n",
       "      <th>region</th>\n",
       "      <th>charges</th>\n",
       "    </tr>\n",
       "  </thead>\n",
       "  <tbody>\n",
       "    <tr>\n",
       "      <th>0</th>\n",
       "      <td>19</td>\n",
       "      <td>female</td>\n",
       "      <td>27.900</td>\n",
       "      <td>0</td>\n",
       "      <td>yes</td>\n",
       "      <td>southwest</td>\n",
       "      <td>16884.92400</td>\n",
       "    </tr>\n",
       "    <tr>\n",
       "      <th>1</th>\n",
       "      <td>18</td>\n",
       "      <td>male</td>\n",
       "      <td>33.770</td>\n",
       "      <td>1</td>\n",
       "      <td>no</td>\n",
       "      <td>southeast</td>\n",
       "      <td>1725.55230</td>\n",
       "    </tr>\n",
       "    <tr>\n",
       "      <th>2</th>\n",
       "      <td>28</td>\n",
       "      <td>male</td>\n",
       "      <td>33.000</td>\n",
       "      <td>3</td>\n",
       "      <td>no</td>\n",
       "      <td>southeast</td>\n",
       "      <td>4449.46200</td>\n",
       "    </tr>\n",
       "    <tr>\n",
       "      <th>3</th>\n",
       "      <td>33</td>\n",
       "      <td>male</td>\n",
       "      <td>22.705</td>\n",
       "      <td>0</td>\n",
       "      <td>no</td>\n",
       "      <td>northwest</td>\n",
       "      <td>21984.47061</td>\n",
       "    </tr>\n",
       "    <tr>\n",
       "      <th>4</th>\n",
       "      <td>32</td>\n",
       "      <td>male</td>\n",
       "      <td>28.880</td>\n",
       "      <td>0</td>\n",
       "      <td>no</td>\n",
       "      <td>northwest</td>\n",
       "      <td>3866.85520</td>\n",
       "    </tr>\n",
       "    <tr>\n",
       "      <th>...</th>\n",
       "      <td>...</td>\n",
       "      <td>...</td>\n",
       "      <td>...</td>\n",
       "      <td>...</td>\n",
       "      <td>...</td>\n",
       "      <td>...</td>\n",
       "      <td>...</td>\n",
       "    </tr>\n",
       "    <tr>\n",
       "      <th>1333</th>\n",
       "      <td>50</td>\n",
       "      <td>male</td>\n",
       "      <td>30.970</td>\n",
       "      <td>3</td>\n",
       "      <td>no</td>\n",
       "      <td>northwest</td>\n",
       "      <td>10600.54830</td>\n",
       "    </tr>\n",
       "    <tr>\n",
       "      <th>1334</th>\n",
       "      <td>18</td>\n",
       "      <td>female</td>\n",
       "      <td>31.920</td>\n",
       "      <td>0</td>\n",
       "      <td>no</td>\n",
       "      <td>northeast</td>\n",
       "      <td>2205.98080</td>\n",
       "    </tr>\n",
       "    <tr>\n",
       "      <th>1335</th>\n",
       "      <td>18</td>\n",
       "      <td>female</td>\n",
       "      <td>36.850</td>\n",
       "      <td>0</td>\n",
       "      <td>no</td>\n",
       "      <td>southeast</td>\n",
       "      <td>1629.83350</td>\n",
       "    </tr>\n",
       "    <tr>\n",
       "      <th>1336</th>\n",
       "      <td>21</td>\n",
       "      <td>female</td>\n",
       "      <td>25.800</td>\n",
       "      <td>0</td>\n",
       "      <td>no</td>\n",
       "      <td>southwest</td>\n",
       "      <td>2007.94500</td>\n",
       "    </tr>\n",
       "    <tr>\n",
       "      <th>1337</th>\n",
       "      <td>61</td>\n",
       "      <td>female</td>\n",
       "      <td>29.070</td>\n",
       "      <td>0</td>\n",
       "      <td>yes</td>\n",
       "      <td>northwest</td>\n",
       "      <td>29141.36030</td>\n",
       "    </tr>\n",
       "  </tbody>\n",
       "</table>\n",
       "<p>1338 rows × 7 columns</p>\n",
       "</div>"
      ],
      "text/plain": [
       "      age     sex     bmi  children smoker     region      charges\n",
       "0      19  female  27.900         0    yes  southwest  16884.92400\n",
       "1      18    male  33.770         1     no  southeast   1725.55230\n",
       "2      28    male  33.000         3     no  southeast   4449.46200\n",
       "3      33    male  22.705         0     no  northwest  21984.47061\n",
       "4      32    male  28.880         0     no  northwest   3866.85520\n",
       "...   ...     ...     ...       ...    ...        ...          ...\n",
       "1333   50    male  30.970         3     no  northwest  10600.54830\n",
       "1334   18  female  31.920         0     no  northeast   2205.98080\n",
       "1335   18  female  36.850         0     no  southeast   1629.83350\n",
       "1336   21  female  25.800         0     no  southwest   2007.94500\n",
       "1337   61  female  29.070         0    yes  northwest  29141.36030\n",
       "\n",
       "[1338 rows x 7 columns]"
      ]
     },
     "execution_count": 2,
     "metadata": {},
     "output_type": "execute_result"
    }
   ],
   "source": [
    "insurance = pd.read_csv(\"/kaggle/input/insurance/insurance.csv\")\n",
    "insurance"
   ]
  },
  {
   "cell_type": "code",
   "execution_count": 3,
   "id": "46598379",
   "metadata": {
    "execution": {
     "iopub.execute_input": "2023-12-08T05:09:09.663114Z",
     "iopub.status.busy": "2023-12-08T05:09:09.662715Z",
     "iopub.status.idle": "2023-12-08T05:09:10.619189Z",
     "shell.execute_reply": "2023-12-08T05:09:10.618314Z"
    },
    "papermill": {
     "duration": 0.963957,
     "end_time": "2023-12-08T05:09:10.621439",
     "exception": false,
     "start_time": "2023-12-08T05:09:09.657482",
     "status": "completed"
    },
    "tags": []
   },
   "outputs": [
    {
     "data": {
      "text/plain": [
       "(1338, 1070, 268)"
      ]
     },
     "execution_count": 3,
     "metadata": {},
     "output_type": "execute_result"
    }
   ],
   "source": [
    "from sklearn.compose import make_column_transformer\n",
    "from sklearn.preprocessing import MinMaxScaler, OneHotEncoder\n",
    "from sklearn.model_selection import train_test_split\n",
    "\n",
    "ct = make_column_transformer(\n",
    "    (MinMaxScaler(),[\"age\",\"bmi\",\"children\"]),\n",
    "    (OneHotEncoder(handle_unknown=\"ignore\"),[\"sex\",\"smoker\",\"region\"])\n",
    ")\n",
    "\n",
    "X = insurance.drop(\"charges\", axis=1)\n",
    "y = insurance[\"charges\"]\n",
    "\n",
    "X_train, X_test, y_train, y_test = train_test_split(X, y, test_size = 0.2, random_state=42)\n",
    "\n",
    "len(X), len(X_train), len(X_test)"
   ]
  },
  {
   "cell_type": "code",
   "execution_count": 4,
   "id": "6f1b14cd",
   "metadata": {
    "execution": {
     "iopub.execute_input": "2023-12-08T05:09:10.631519Z",
     "iopub.status.busy": "2023-12-08T05:09:10.630743Z",
     "iopub.status.idle": "2023-12-08T05:09:10.665882Z",
     "shell.execute_reply": "2023-12-08T05:09:10.664742Z"
    },
    "papermill": {
     "duration": 0.04326,
     "end_time": "2023-12-08T05:09:10.668831",
     "exception": false,
     "start_time": "2023-12-08T05:09:10.625571",
     "status": "completed"
    },
    "tags": []
   },
   "outputs": [],
   "source": [
    "ct.fit(X_train)\n",
    "\n",
    "X_train_normal = ct.transform(X_train)\n",
    "X_test_normal = ct.transform(X_test)"
   ]
  },
  {
   "cell_type": "code",
   "execution_count": 5,
   "id": "ffbf46a4",
   "metadata": {
    "execution": {
     "iopub.execute_input": "2023-12-08T05:09:10.679117Z",
     "iopub.status.busy": "2023-12-08T05:09:10.678690Z",
     "iopub.status.idle": "2023-12-08T05:09:10.685885Z",
     "shell.execute_reply": "2023-12-08T05:09:10.684689Z"
    },
    "papermill": {
     "duration": 0.015023,
     "end_time": "2023-12-08T05:09:10.688170",
     "exception": false,
     "start_time": "2023-12-08T05:09:10.673147",
     "status": "completed"
    },
    "tags": []
   },
   "outputs": [
    {
     "data": {
      "text/plain": [
       "((1070, 6), (1070, 11), (1070,))"
      ]
     },
     "execution_count": 5,
     "metadata": {},
     "output_type": "execute_result"
    }
   ],
   "source": [
    "X_train.shape, X_train_normal.shape, y_train.shape"
   ]
  },
  {
   "cell_type": "code",
   "execution_count": 6,
   "id": "3a8e113f",
   "metadata": {
    "execution": {
     "iopub.execute_input": "2023-12-08T05:09:10.698359Z",
     "iopub.status.busy": "2023-12-08T05:09:10.697970Z",
     "iopub.status.idle": "2023-12-08T05:09:16.228694Z",
     "shell.execute_reply": "2023-12-08T05:09:16.227419Z"
    },
    "papermill": {
     "duration": 5.539312,
     "end_time": "2023-12-08T05:09:16.231650",
     "exception": false,
     "start_time": "2023-12-08T05:09:10.692338",
     "status": "completed"
    },
    "tags": []
   },
   "outputs": [
    {
     "name": "stdout",
     "output_type": "stream",
     "text": [
      "Epoch 1/200\n",
      "34/34 [==============================] - 1s 2ms/step - loss: 12226.4707 - mae: 12226.4707\n",
      "Epoch 2/200\n",
      "34/34 [==============================] - 0s 2ms/step - loss: 7531.9077 - mae: 7531.9077\n",
      "Epoch 3/200\n",
      "34/34 [==============================] - 0s 2ms/step - loss: 5193.0327 - mae: 5193.0327\n",
      "Epoch 4/200\n",
      "34/34 [==============================] - 0s 2ms/step - loss: 3595.0076 - mae: 3595.0076\n",
      "Epoch 5/200\n",
      "34/34 [==============================] - 0s 2ms/step - loss: 3363.8933 - mae: 3363.8933\n",
      "Epoch 6/200\n",
      "34/34 [==============================] - 0s 2ms/step - loss: 3295.9070 - mae: 3295.9070\n",
      "Epoch 7/200\n",
      "34/34 [==============================] - 0s 2ms/step - loss: 3249.8777 - mae: 3249.8777\n",
      "Epoch 8/200\n",
      "34/34 [==============================] - 0s 2ms/step - loss: 3252.8889 - mae: 3252.8889\n",
      "Epoch 9/200\n",
      "34/34 [==============================] - 0s 2ms/step - loss: 3160.5444 - mae: 3160.5444\n",
      "Epoch 10/200\n",
      "34/34 [==============================] - 0s 2ms/step - loss: 3133.3240 - mae: 3133.3240\n",
      "Epoch 11/200\n",
      "34/34 [==============================] - 0s 2ms/step - loss: 3099.8105 - mae: 3099.8105\n",
      "Epoch 12/200\n",
      "34/34 [==============================] - 0s 2ms/step - loss: 3055.1326 - mae: 3055.1326\n",
      "Epoch 13/200\n",
      "34/34 [==============================] - 0s 2ms/step - loss: 2981.0330 - mae: 2981.0330\n",
      "Epoch 14/200\n",
      "34/34 [==============================] - 0s 2ms/step - loss: 2942.4890 - mae: 2942.4890\n",
      "Epoch 15/200\n",
      "34/34 [==============================] - 0s 2ms/step - loss: 2863.8030 - mae: 2863.8030\n",
      "Epoch 16/200\n",
      "34/34 [==============================] - 0s 2ms/step - loss: 2830.1528 - mae: 2830.1528\n",
      "Epoch 17/200\n",
      "34/34 [==============================] - 0s 2ms/step - loss: 2779.5188 - mae: 2779.5188\n",
      "Epoch 18/200\n",
      "34/34 [==============================] - 0s 2ms/step - loss: 2656.1990 - mae: 2656.1990\n",
      "Epoch 19/200\n",
      "34/34 [==============================] - 0s 2ms/step - loss: 2561.0981 - mae: 2561.0981\n",
      "Epoch 20/200\n",
      "34/34 [==============================] - 0s 2ms/step - loss: 2517.4424 - mae: 2517.4424\n",
      "Epoch 21/200\n",
      "34/34 [==============================] - 0s 2ms/step - loss: 2429.0007 - mae: 2429.0007\n",
      "Epoch 22/200\n",
      "34/34 [==============================] - 0s 2ms/step - loss: 2377.6250 - mae: 2377.6250\n",
      "Epoch 23/200\n",
      "34/34 [==============================] - 0s 2ms/step - loss: 2323.6890 - mae: 2323.6890\n",
      "Epoch 24/200\n",
      "34/34 [==============================] - 0s 2ms/step - loss: 2252.7156 - mae: 2252.7156\n",
      "Epoch 25/200\n",
      "34/34 [==============================] - 0s 2ms/step - loss: 2213.4543 - mae: 2213.4543\n",
      "Epoch 26/200\n",
      "34/34 [==============================] - 0s 2ms/step - loss: 2240.3198 - mae: 2240.3198\n",
      "Epoch 27/200\n",
      "34/34 [==============================] - 0s 2ms/step - loss: 2137.8428 - mae: 2137.8428\n",
      "Epoch 28/200\n",
      "34/34 [==============================] - 0s 2ms/step - loss: 2144.3208 - mae: 2144.3208\n",
      "Epoch 29/200\n",
      "34/34 [==============================] - 0s 2ms/step - loss: 2224.6304 - mae: 2224.6304\n",
      "Epoch 30/200\n",
      "34/34 [==============================] - 0s 2ms/step - loss: 2100.3848 - mae: 2100.3848\n",
      "Epoch 31/200\n",
      "34/34 [==============================] - 0s 2ms/step - loss: 2152.7473 - mae: 2152.7473\n",
      "Epoch 32/200\n",
      "34/34 [==============================] - 0s 2ms/step - loss: 2149.5613 - mae: 2149.5613\n",
      "Epoch 33/200\n",
      "34/34 [==============================] - 0s 2ms/step - loss: 2099.5254 - mae: 2099.5254\n",
      "Epoch 34/200\n",
      "34/34 [==============================] - 0s 2ms/step - loss: 2085.2573 - mae: 2085.2573\n",
      "Epoch 35/200\n",
      "34/34 [==============================] - 0s 2ms/step - loss: 2071.4939 - mae: 2071.4939\n",
      "Epoch 36/200\n",
      "34/34 [==============================] - 0s 2ms/step - loss: 2157.5808 - mae: 2157.5808\n",
      "Epoch 37/200\n",
      "34/34 [==============================] - 0s 2ms/step - loss: 2061.5154 - mae: 2061.5154\n",
      "Epoch 38/200\n",
      "34/34 [==============================] - 0s 2ms/step - loss: 2056.0515 - mae: 2056.0515\n",
      "Epoch 39/200\n",
      "34/34 [==============================] - 0s 2ms/step - loss: 2098.9192 - mae: 2098.9192\n",
      "Epoch 40/200\n",
      "34/34 [==============================] - 0s 2ms/step - loss: 2097.2490 - mae: 2097.2490\n",
      "Epoch 41/200\n",
      "34/34 [==============================] - 0s 2ms/step - loss: 2079.0408 - mae: 2079.0408\n",
      "Epoch 42/200\n",
      "34/34 [==============================] - 0s 2ms/step - loss: 2060.2917 - mae: 2060.2917\n",
      "Epoch 43/200\n",
      "34/34 [==============================] - 0s 2ms/step - loss: 2065.9080 - mae: 2065.9080\n",
      "Epoch 44/200\n",
      "34/34 [==============================] - 0s 2ms/step - loss: 2099.2290 - mae: 2099.2290\n",
      "Epoch 45/200\n",
      "34/34 [==============================] - 0s 2ms/step - loss: 2058.5579 - mae: 2058.5579\n",
      "Epoch 46/200\n",
      "34/34 [==============================] - 0s 2ms/step - loss: 2101.8494 - mae: 2101.8494\n",
      "Epoch 47/200\n",
      "34/34 [==============================] - 0s 2ms/step - loss: 2107.4539 - mae: 2107.4539\n",
      "Epoch 48/200\n",
      "34/34 [==============================] - 0s 2ms/step - loss: 2029.1843 - mae: 2029.1843\n",
      "Epoch 49/200\n",
      "34/34 [==============================] - 0s 2ms/step - loss: 2062.4988 - mae: 2062.4988\n",
      "Epoch 50/200\n",
      "34/34 [==============================] - 0s 2ms/step - loss: 2040.3796 - mae: 2040.3796\n",
      "Epoch 51/200\n",
      "34/34 [==============================] - 0s 2ms/step - loss: 2059.6667 - mae: 2059.6667\n",
      "Epoch 52/200\n",
      "34/34 [==============================] - 0s 2ms/step - loss: 2082.9785 - mae: 2082.9785\n",
      "Epoch 53/200\n",
      "34/34 [==============================] - 0s 2ms/step - loss: 2046.6045 - mae: 2046.6045\n",
      "Epoch 54/200\n",
      "34/34 [==============================] - 0s 2ms/step - loss: 2046.5616 - mae: 2046.5616\n",
      "Epoch 55/200\n",
      "34/34 [==============================] - 0s 2ms/step - loss: 2039.7925 - mae: 2039.7925\n",
      "Epoch 56/200\n",
      "34/34 [==============================] - 0s 2ms/step - loss: 2063.1401 - mae: 2063.1401\n",
      "Epoch 57/200\n",
      "34/34 [==============================] - 0s 2ms/step - loss: 2074.0771 - mae: 2074.0771\n",
      "Epoch 58/200\n",
      "34/34 [==============================] - 0s 2ms/step - loss: 2059.9360 - mae: 2059.9360\n"
     ]
    },
    {
     "data": {
      "text/plain": [
       "<keras.src.callbacks.History at 0x7befad0e7af0>"
      ]
     },
     "execution_count": 6,
     "metadata": {},
     "output_type": "execute_result"
    }
   ],
   "source": [
    "tf.random.set_seed(42)\n",
    "\n",
    "callback = tf.keras.callbacks.EarlyStopping(monitor='loss', patience=10)\n",
    "\n",
    "insurance_model = tf.keras.Sequential([\n",
    "    tf.keras.layers.Dense(64,activation='relu'),\n",
    "    tf.keras.layers.Dense(64,activation='relu'),\n",
    "    tf.keras.layers.Dense(64,activation='relu'),\n",
    "    tf.keras.layers.Dense(1)\n",
    "])\n",
    "\n",
    "insurance_model.compile(loss = tf.keras.losses.mae,\n",
    "                       optimizer = tf.keras.optimizers.Adam(learning_rate=0.01),\n",
    "                       metrics = [\"mae\"])\n",
    "\n",
    "insurance_model.fit(X_train_normal, y_train, epochs = 200,callbacks=[callback], verbose = 1)\n",
    "#insurance_model.summary()"
   ]
  },
  {
   "cell_type": "code",
   "execution_count": 7,
   "id": "b0e48c38",
   "metadata": {
    "execution": {
     "iopub.execute_input": "2023-12-08T05:09:16.286415Z",
     "iopub.status.busy": "2023-12-08T05:09:16.285968Z",
     "iopub.status.idle": "2023-12-08T05:09:17.583932Z",
     "shell.execute_reply": "2023-12-08T05:09:17.582850Z"
    },
    "papermill": {
     "duration": 1.32868,
     "end_time": "2023-12-08T05:09:17.586532",
     "exception": false,
     "start_time": "2023-12-08T05:09:16.257852",
     "status": "completed"
    },
    "tags": []
   },
   "outputs": [
    {
     "name": "stdout",
     "output_type": "stream",
     "text": [
      "9/9 [==============================] - 0s 2ms/step - loss: 1777.8735 - mae: 1777.8735\n"
     ]
    },
    {
     "data": {
      "text/plain": [
       "[1777.87353515625, 1777.87353515625]"
      ]
     },
     "execution_count": 7,
     "metadata": {},
     "output_type": "execute_result"
    }
   ],
   "source": [
    "insurance_model.evaluate(X_test_normal, y_test)"
   ]
  }
 ],
 "metadata": {
  "kaggle": {
   "accelerator": "none",
   "dataSources": [
    {
     "datasetId": 13720,
     "sourceId": 18513,
     "sourceType": "datasetVersion"
    }
   ],
   "dockerImageVersionId": 30615,
   "isGpuEnabled": false,
   "isInternetEnabled": false,
   "language": "python",
   "sourceType": "notebook"
  },
  "kernelspec": {
   "display_name": "Python 3",
   "language": "python",
   "name": "python3"
  },
  "language_info": {
   "codemirror_mode": {
    "name": "ipython",
    "version": 3
   },
   "file_extension": ".py",
   "mimetype": "text/x-python",
   "name": "python",
   "nbconvert_exporter": "python",
   "pygments_lexer": "ipython3",
   "version": "3.10.12"
  },
  "papermill": {
   "default_parameters": {},
   "duration": 27.136832,
   "end_time": "2023-12-08T05:09:19.137348",
   "environment_variables": {},
   "exception": null,
   "input_path": "__notebook__.ipynb",
   "output_path": "__notebook__.ipynb",
   "parameters": {},
   "start_time": "2023-12-08T05:08:52.000516",
   "version": "2.4.0"
  }
 },
 "nbformat": 4,
 "nbformat_minor": 5
}
