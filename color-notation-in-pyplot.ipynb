{
 "cells": [
  {
   "cell_type": "markdown",
   "id": "2171c50a",
   "metadata": {
    "_cell_guid": "b1076dfc-b9ad-4769-8c92-a6c4dae69d19",
    "_uuid": "8f2839f25d086af736a60e9eeb907d3b93b6e0e5",
    "papermill": {
     "duration": 0.002096,
     "end_time": "2023-12-01T13:19:14.557881",
     "exception": false,
     "start_time": "2023-12-01T13:19:14.555785",
     "status": "completed"
    },
    "tags": []
   },
   "source": [
    "# Single character shorthand notation for some basic colors.\n",
    "\n",
    "## 1. `'b'` as blue\n",
    "\n",
    "## 2. `'g'` as green\n",
    "\n",
    "## 3. `'r'` as red\n",
    "\n",
    "## 4. `'c'` as cyan\n",
    "\n",
    "## 5. `'m'` as magenta\n",
    "\n",
    "## 6. `'y'` as yellow\n",
    "\n",
    "## 7. `'k'` as black\n",
    "\n",
    "## 8. `'w'` as white"
   ]
  }
 ],
 "metadata": {
  "kaggle": {
   "accelerator": "none",
   "dataSources": [],
   "dockerImageVersionId": 30587,
   "isGpuEnabled": false,
   "isInternetEnabled": false,
   "language": "python",
   "sourceType": "notebook"
  },
  "kernelspec": {
   "display_name": "Python 3",
   "language": "python",
   "name": "python3"
  },
  "language_info": {
   "codemirror_mode": {
    "name": "ipython",
    "version": 3
   },
   "file_extension": ".py",
   "mimetype": "text/x-python",
   "name": "python",
   "nbconvert_exporter": "python",
   "pygments_lexer": "ipython3",
   "version": "3.10.12"
  },
  "papermill": {
   "default_parameters": {},
   "duration": 3.878019,
   "end_time": "2023-12-01T13:19:15.082355",
   "environment_variables": {},
   "exception": null,
   "input_path": "__notebook__.ipynb",
   "output_path": "__notebook__.ipynb",
   "parameters": {},
   "start_time": "2023-12-01T13:19:11.204336",
   "version": "2.4.0"
  }
 },
 "nbformat": 4,
 "nbformat_minor": 5
}
