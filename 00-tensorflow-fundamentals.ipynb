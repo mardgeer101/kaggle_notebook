{
 "cells": [
  {
   "cell_type": "markdown",
   "id": "aaa100a5",
   "metadata": {
    "papermill": {
     "duration": 0.003055,
     "end_time": "2023-11-28T06:15:23.008452",
     "exception": false,
     "start_time": "2023-11-28T06:15:23.005397",
     "status": "completed"
    },
    "tags": []
   },
   "source": [
    "# TensorFlow Fundamentals"
   ]
  },
  {
   "cell_type": "markdown",
   "id": "39499eb1",
   "metadata": {
    "papermill": {
     "duration": 0.005901,
     "end_time": "2023-11-28T06:15:23.017615",
     "exception": false,
     "start_time": "2023-11-28T06:15:23.011714",
     "status": "completed"
    },
    "tags": []
   },
   "source": [
    "## importing tensorflow library"
   ]
  },
  {
   "cell_type": "code",
   "execution_count": 1,
   "id": "d955f889",
   "metadata": {
    "execution": {
     "iopub.execute_input": "2023-11-28T06:15:23.025430Z",
     "iopub.status.busy": "2023-11-28T06:15:23.024929Z",
     "iopub.status.idle": "2023-11-28T06:15:37.981728Z",
     "shell.execute_reply": "2023-11-28T06:15:37.980277Z"
    },
    "papermill": {
     "duration": 14.963759,
     "end_time": "2023-11-28T06:15:37.984205",
     "exception": false,
     "start_time": "2023-11-28T06:15:23.020446",
     "status": "completed"
    },
    "tags": []
   },
   "outputs": [
    {
     "name": "stdout",
     "output_type": "stream",
     "text": [
      "2.13.0\n"
     ]
    }
   ],
   "source": [
    "import tensorflow as tf\n",
    "print(tf.__version__)"
   ]
  },
  {
   "cell_type": "markdown",
   "id": "964d88ca",
   "metadata": {
    "papermill": {
     "duration": 0.002423,
     "end_time": "2023-11-28T06:15:37.989413",
     "exception": false,
     "start_time": "2023-11-28T06:15:37.986990",
     "status": "completed"
    },
    "tags": []
   },
   "source": [
    "## Creating various kinds of tensors"
   ]
  },
  {
   "cell_type": "markdown",
   "id": "bb21916d",
   "metadata": {
    "papermill": {
     "duration": 0.002717,
     "end_time": "2023-11-28T06:15:37.994693",
     "exception": false,
     "start_time": "2023-11-28T06:15:37.991976",
     "status": "completed"
    },
    "tags": []
   },
   "source": [
    "### Using `tf.constant()` with the following information:\n",
    "    1. Tensor Value\n",
    "    2. Tensor Size\n",
    "    3. Tensor Shape\n",
    "    4. Tensor Datatype\n",
    "    5. Tensor Dimension\n"
   ]
  },
  {
   "cell_type": "code",
   "execution_count": 2,
   "id": "0b39d7cd",
   "metadata": {
    "execution": {
     "iopub.execute_input": "2023-11-28T06:15:38.002244Z",
     "iopub.status.busy": "2023-11-28T06:15:38.001520Z",
     "iopub.status.idle": "2023-11-28T06:15:38.091106Z",
     "shell.execute_reply": "2023-11-28T06:15:38.089838Z"
    },
    "papermill": {
     "duration": 0.096024,
     "end_time": "2023-11-28T06:15:38.093534",
     "exception": false,
     "start_time": "2023-11-28T06:15:37.997510",
     "status": "completed"
    },
    "tags": []
   },
   "outputs": [
    {
     "name": "stdout",
     "output_type": "stream",
     "text": [
      "Scalar value: [5.]\n",
      "Scalar size: 1\n",
      "Scalar shape: (1,)\n",
      "Scalar datatype: <dtype: 'float32'>\n",
      "Scalar dimensions: 1\n"
     ]
    }
   ],
   "source": [
    "scalar = tf.constant([5],dtype=tf.float32)\n",
    "\n",
    "print(\"Scalar value:\", scalar.numpy())\n",
    "print(\"Scalar size:\", tf.size(scalar).numpy())\n",
    "print(\"Scalar shape:\", scalar.shape)\n",
    "print(\"Scalar datatype:\", scalar.dtype)\n",
    "print(\"Scalar dimensions:\", scalar.ndim)"
   ]
  },
  {
   "cell_type": "code",
   "execution_count": 3,
   "id": "4c743d67",
   "metadata": {
    "execution": {
     "iopub.execute_input": "2023-11-28T06:15:38.101154Z",
     "iopub.status.busy": "2023-11-28T06:15:38.100715Z",
     "iopub.status.idle": "2023-11-28T06:15:38.110593Z",
     "shell.execute_reply": "2023-11-28T06:15:38.109426Z"
    },
    "papermill": {
     "duration": 0.016685,
     "end_time": "2023-11-28T06:15:38.113194",
     "exception": false,
     "start_time": "2023-11-28T06:15:38.096509",
     "status": "completed"
    },
    "tags": []
   },
   "outputs": [
    {
     "name": "stdout",
     "output_type": "stream",
     "text": [
      "Vector value: [[10.  7.]\n",
      " [ 3.  4.]]\n",
      "Vector size: 4\n",
      "Vector shape: (2, 2)\n",
      "Vector datatype: <dtype: 'float32'>\n",
      "Vector dimension: 2\n"
     ]
    }
   ],
   "source": [
    "vector = tf.constant([[10,7],\n",
    "                      [3,4]],dtype=tf.float32)\n",
    "\n",
    "print(\"Vector value:\", vector.numpy())\n",
    "print(\"Vector size:\", tf.size(vector).numpy())\n",
    "print(\"Vector shape:\", vector.shape)\n",
    "print(\"Vector datatype:\", vector.dtype)\n",
    "print(\"Vector dimension:\", vector.ndim)"
   ]
  },
  {
   "cell_type": "code",
   "execution_count": 4,
   "id": "c74fea5a",
   "metadata": {
    "execution": {
     "iopub.execute_input": "2023-11-28T06:15:38.120981Z",
     "iopub.status.busy": "2023-11-28T06:15:38.120596Z",
     "iopub.status.idle": "2023-11-28T06:15:38.129356Z",
     "shell.execute_reply": "2023-11-28T06:15:38.128113Z"
    },
    "papermill": {
     "duration": 0.015804,
     "end_time": "2023-11-28T06:15:38.131958",
     "exception": false,
     "start_time": "2023-11-28T06:15:38.116154",
     "status": "completed"
    },
    "tags": []
   },
   "outputs": [
    {
     "name": "stdout",
     "output_type": "stream",
     "text": [
      "Matrix value:\n",
      " [[[3. 5. 6.]\n",
      "  [1. 2. 3.]]\n",
      "\n",
      " [[5. 6. 7.]\n",
      "  [8. 9. 5.]]]\n",
      "Matrix size: 12\n",
      "matrix shape: (2, 2, 3)\n",
      "Matrix datatype: <dtype: 'float32'>\n",
      "Matrix dimension: 3\n"
     ]
    }
   ],
   "source": [
    "matrix = tf.constant([[[3,5,6],\n",
    "                       [1,2,3]],\n",
    "                      [[5,6,7],\n",
    "                       [8,9,5]]],dtype=tf.float32)\n",
    "\n",
    "print(\"Matrix value:\\n\", matrix.numpy())\n",
    "print(\"Matrix size:\", tf.size(matrix).numpy())\n",
    "print(\"matrix shape:\", matrix.shape)\n",
    "print(\"Matrix datatype:\", matrix.dtype)\n",
    "print(\"Matrix dimension:\", matrix.ndim)"
   ]
  }
 ],
 "metadata": {
  "kaggle": {
   "accelerator": "none",
   "dataSources": [],
   "dockerImageVersionId": 30587,
   "isGpuEnabled": false,
   "isInternetEnabled": false,
   "language": "python",
   "sourceType": "notebook"
  },
  "kernelspec": {
   "display_name": "Python 3",
   "language": "python",
   "name": "python3"
  },
  "language_info": {
   "codemirror_mode": {
    "name": "ipython",
    "version": 3
   },
   "file_extension": ".py",
   "mimetype": "text/x-python",
   "name": "python",
   "nbconvert_exporter": "python",
   "pygments_lexer": "ipython3",
   "version": "3.10.12"
  },
  "papermill": {
   "default_parameters": {},
   "duration": 21.113977,
   "end_time": "2023-11-28T06:15:39.558934",
   "environment_variables": {},
   "exception": null,
   "input_path": "__notebook__.ipynb",
   "output_path": "__notebook__.ipynb",
   "parameters": {},
   "start_time": "2023-11-28T06:15:18.444957",
   "version": "2.4.0"
  }
 },
 "nbformat": 4,
 "nbformat_minor": 5
}
