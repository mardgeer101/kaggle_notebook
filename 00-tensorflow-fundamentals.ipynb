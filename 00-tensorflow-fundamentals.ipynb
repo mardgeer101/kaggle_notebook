{
 "cells": [
  {
   "cell_type": "markdown",
   "id": "51874f28",
   "metadata": {
    "papermill": {
     "duration": 0.005971,
     "end_time": "2023-11-28T14:29:13.127755",
     "exception": false,
     "start_time": "2023-11-28T14:29:13.121784",
     "status": "completed"
    },
    "tags": []
   },
   "source": [
    "# TensorFlow Fundamentals"
   ]
  },
  {
   "cell_type": "markdown",
   "id": "15267d2f",
   "metadata": {
    "papermill": {
     "duration": 0.005075,
     "end_time": "2023-11-28T14:29:13.140636",
     "exception": false,
     "start_time": "2023-11-28T14:29:13.135561",
     "status": "completed"
    },
    "tags": []
   },
   "source": [
    "## importing tensorflow library"
   ]
  },
  {
   "cell_type": "code",
   "execution_count": 1,
   "id": "17ed2389",
   "metadata": {
    "execution": {
     "iopub.execute_input": "2023-11-28T14:29:13.154433Z",
     "iopub.status.busy": "2023-11-28T14:29:13.153186Z",
     "iopub.status.idle": "2023-11-28T14:29:30.152260Z",
     "shell.execute_reply": "2023-11-28T14:29:30.150854Z"
    },
    "papermill": {
     "duration": 17.008995,
     "end_time": "2023-11-28T14:29:30.154915",
     "exception": false,
     "start_time": "2023-11-28T14:29:13.145920",
     "status": "completed"
    },
    "tags": []
   },
   "outputs": [
    {
     "name": "stdout",
     "output_type": "stream",
     "text": [
      "2.13.0\n"
     ]
    }
   ],
   "source": [
    "import tensorflow as tf\n",
    "print(tf.__version__)"
   ]
  },
  {
   "cell_type": "markdown",
   "id": "fe1b7465",
   "metadata": {
    "papermill": {
     "duration": 0.00505,
     "end_time": "2023-11-28T14:29:30.165622",
     "exception": false,
     "start_time": "2023-11-28T14:29:30.160572",
     "status": "completed"
    },
    "tags": []
   },
   "source": [
    "## Creating various kinds of tensors"
   ]
  },
  {
   "cell_type": "markdown",
   "id": "4427aa3f",
   "metadata": {
    "papermill": {
     "duration": 0.005038,
     "end_time": "2023-11-28T14:29:30.176043",
     "exception": false,
     "start_time": "2023-11-28T14:29:30.171005",
     "status": "completed"
    },
    "tags": []
   },
   "source": [
    "### Using `tf.constant()` with the following information:\n",
    "    1. Tensor Value\n",
    "    2. Tensor Size\n",
    "    3. Tensor Shape\n",
    "    4. Tensor Datatype\n",
    "    5. Tensor Dimension\n"
   ]
  },
  {
   "cell_type": "code",
   "execution_count": 2,
   "id": "b70d424b",
   "metadata": {
    "execution": {
     "iopub.execute_input": "2023-11-28T14:29:30.189306Z",
     "iopub.status.busy": "2023-11-28T14:29:30.188469Z",
     "iopub.status.idle": "2023-11-28T14:29:30.291374Z",
     "shell.execute_reply": "2023-11-28T14:29:30.289931Z"
    },
    "papermill": {
     "duration": 0.113281,
     "end_time": "2023-11-28T14:29:30.294782",
     "exception": false,
     "start_time": "2023-11-28T14:29:30.181501",
     "status": "completed"
    },
    "tags": []
   },
   "outputs": [
    {
     "name": "stdout",
     "output_type": "stream",
     "text": [
      "Scalar value: 5.0\n",
      "Scalar size: 1\n",
      "Scalar shape: ()\n",
      "Scalar datatype: <dtype: 'float32'>\n",
      "Scalar dimensions: 0\n"
     ]
    }
   ],
   "source": [
    "scalar = tf.constant(5,dtype=tf.float32)\n",
    "\n",
    "print(\"Scalar value:\", scalar.numpy())\n",
    "print(\"Scalar size:\", tf.size(scalar).numpy())\n",
    "print(\"Scalar shape:\", scalar.shape)\n",
    "print(\"Scalar datatype:\", scalar.dtype)\n",
    "print(\"Scalar dimensions:\", scalar.ndim)"
   ]
  },
  {
   "cell_type": "code",
   "execution_count": 3,
   "id": "75d4b59c",
   "metadata": {
    "execution": {
     "iopub.execute_input": "2023-11-28T14:29:30.310484Z",
     "iopub.status.busy": "2023-11-28T14:29:30.309743Z",
     "iopub.status.idle": "2023-11-28T14:29:30.323097Z",
     "shell.execute_reply": "2023-11-28T14:29:30.321788Z"
    },
    "papermill": {
     "duration": 0.023996,
     "end_time": "2023-11-28T14:29:30.326186",
     "exception": false,
     "start_time": "2023-11-28T14:29:30.302190",
     "status": "completed"
    },
    "tags": []
   },
   "outputs": [
    {
     "name": "stdout",
     "output_type": "stream",
     "text": [
      "Vector value: [10.  7.]\n",
      "Vector size: 2\n",
      "Vector shape: (2,)\n",
      "Vector datatype: <dtype: 'float32'>\n",
      "Vector dimension: 1\n"
     ]
    }
   ],
   "source": [
    "vector = tf.constant([10,7],dtype=tf.float32)\n",
    "\n",
    "print(\"Vector value:\", vector.numpy())\n",
    "print(\"Vector size:\", tf.size(vector).numpy())\n",
    "print(\"Vector shape:\", vector.shape)\n",
    "print(\"Vector datatype:\", vector.dtype)\n",
    "print(\"Vector dimension:\", vector.ndim)"
   ]
  },
  {
   "cell_type": "code",
   "execution_count": 4,
   "id": "db1c9bc9",
   "metadata": {
    "execution": {
     "iopub.execute_input": "2023-11-28T14:29:30.340465Z",
     "iopub.status.busy": "2023-11-28T14:29:30.340011Z",
     "iopub.status.idle": "2023-11-28T14:29:30.349701Z",
     "shell.execute_reply": "2023-11-28T14:29:30.348357Z"
    },
    "papermill": {
     "duration": 0.021128,
     "end_time": "2023-11-28T14:29:30.353267",
     "exception": false,
     "start_time": "2023-11-28T14:29:30.332139",
     "status": "completed"
    },
    "tags": []
   },
   "outputs": [
    {
     "name": "stdout",
     "output_type": "stream",
     "text": [
      "Matrix value:\n",
      " [[3. 5. 6.]\n",
      " [1. 2. 3.]\n",
      " [5. 6. 7.]\n",
      " [8. 9. 5.]]\n",
      "Matrix size: 12\n",
      "matrix shape: (4, 3)\n",
      "Matrix datatype: <dtype: 'float32'>\n",
      "Matrix dimension: 2\n"
     ]
    }
   ],
   "source": [
    "matrix = tf.constant([[3,5,6],\n",
    "                      [1,2,3],\n",
    "                      [5,6,7],\n",
    "                      [8,9,5]],dtype=tf.float32)\n",
    "\n",
    "print(\"Matrix value:\\n\", matrix.numpy())\n",
    "print(\"Matrix size:\", tf.size(matrix).numpy())\n",
    "print(\"matrix shape:\", matrix.shape)\n",
    "print(\"Matrix datatype:\", matrix.dtype)\n",
    "print(\"Matrix dimension:\", matrix.ndim)"
   ]
  },
  {
   "cell_type": "code",
   "execution_count": 5,
   "id": "154348ed",
   "metadata": {
    "execution": {
     "iopub.execute_input": "2023-11-28T14:29:30.367601Z",
     "iopub.status.busy": "2023-11-28T14:29:30.367082Z",
     "iopub.status.idle": "2023-11-28T14:29:30.378293Z",
     "shell.execute_reply": "2023-11-28T14:29:30.376598Z"
    },
    "papermill": {
     "duration": 0.02231,
     "end_time": "2023-11-28T14:29:30.381582",
     "exception": false,
     "start_time": "2023-11-28T14:29:30.359272",
     "status": "completed"
    },
    "tags": []
   },
   "outputs": [
    {
     "name": "stdout",
     "output_type": "stream",
     "text": [
      "Tensor valaue:\n",
      " [[[ 1.  2.  3.]\n",
      "  [ 4.  5.  6.]\n",
      "  [ 7.  8.  9.]]\n",
      "\n",
      " [[10. 11. 12.]\n",
      "  [13. 14. 15.]\n",
      "  [16. 17. 18.]]]\n",
      "Tensor size: 18\n",
      "Tensor shape: (2, 3, 3)\n",
      "Tensor datatype: <dtype: 'float32'>\n",
      "Tensor dimension: 3\n"
     ]
    }
   ],
   "source": [
    "tensor = tf.constant([[[1,2,3],\n",
    "                       [4,5,6],\n",
    "                       [7,8,9]],\n",
    "                      [[10,11,12],\n",
    "                       [13,14,15],\n",
    "                       [16,17,18]]],dtype=tf.float32)\n",
    "\n",
    "print(\"Tensor valaue:\\n\", tensor.numpy())\n",
    "print(\"Tensor size:\", tf.size(tensor).numpy())\n",
    "print(\"Tensor shape:\", tensor.shape)\n",
    "print(\"Tensor datatype:\", tensor.dtype)\n",
    "print(\"Tensor dimension:\", tensor.ndim)"
   ]
  },
  {
   "cell_type": "markdown",
   "id": "76c82a1d",
   "metadata": {
    "papermill": {
     "duration": 0.005526,
     "end_time": "2023-11-28T14:29:30.393170",
     "exception": false,
     "start_time": "2023-11-28T14:29:30.387644",
     "status": "completed"
    },
    "tags": []
   },
   "source": [
    "### Using `tf.Variable` with following information\n",
    "    1. Tensor Value\n",
    "    2. Tensor Size\n",
    "    3. Tensor Shape\n",
    "    4. Tensor Datatype\n",
    "    5. Tensor Dimension"
   ]
  },
  {
   "cell_type": "code",
   "execution_count": 6,
   "id": "0fd4d423",
   "metadata": {
    "execution": {
     "iopub.execute_input": "2023-11-28T14:29:30.407229Z",
     "iopub.status.busy": "2023-11-28T14:29:30.406787Z",
     "iopub.status.idle": "2023-11-28T14:29:30.426222Z",
     "shell.execute_reply": "2023-11-28T14:29:30.424771Z"
    },
    "papermill": {
     "duration": 0.029899,
     "end_time": "2023-11-28T14:29:30.428983",
     "exception": false,
     "start_time": "2023-11-28T14:29:30.399084",
     "status": "completed"
    },
    "tags": []
   },
   "outputs": [
    {
     "name": "stdout",
     "output_type": "stream",
     "text": [
      "Variable tensor value:\n",
      " [[1. 2. 3. 4.]\n",
      " [5. 6. 7. 8.]]\n",
      "Variable tensor size: 8\n",
      "Variable tensor shape: (2, 4)\n",
      "Variable tensor datatype: <dtype: 'float32'>\n",
      "Variable tensor dimension: 2\n"
     ]
    }
   ],
   "source": [
    "var_tensor = tf.Variable([[1,2,3,4],\n",
    "                          [5,6,7,8]],dtype=tf.float32)\n",
    "\n",
    "print(\"Variable tensor value:\\n\", var_tensor.numpy())\n",
    "print(\"Variable tensor size:\", tf.size(var_tensor).numpy())\n",
    "print(\"Variable tensor shape:\", var_tensor.shape)\n",
    "print(\"Variable tensor datatype:\", var_tensor.dtype)\n",
    "print(\"Variable tensor dimension:\", len(var_tensor.shape))"
   ]
  },
  {
   "cell_type": "markdown",
   "id": "7e9029af",
   "metadata": {
    "papermill": {
     "duration": 0.005686,
     "end_time": "2023-11-28T14:29:30.440979",
     "exception": false,
     "start_time": "2023-11-28T14:29:30.435293",
     "status": "completed"
    },
    "tags": []
   },
   "source": [
    "### Using `tf.random`\n",
    "1. `.uniform`\n",
    "2. `.normal`\n",
    "3. `.set_seed`"
   ]
  },
  {
   "cell_type": "code",
   "execution_count": 7,
   "id": "3157ea85",
   "metadata": {
    "execution": {
     "iopub.execute_input": "2023-11-28T14:29:30.455857Z",
     "iopub.status.busy": "2023-11-28T14:29:30.454878Z",
     "iopub.status.idle": "2023-11-28T14:29:30.469502Z",
     "shell.execute_reply": "2023-11-28T14:29:30.468117Z"
    },
    "papermill": {
     "duration": 0.025428,
     "end_time": "2023-11-28T14:29:30.472559",
     "exception": false,
     "start_time": "2023-11-28T14:29:30.447131",
     "status": "completed"
    },
    "tags": []
   },
   "outputs": [
    {
     "name": "stdout",
     "output_type": "stream",
     "text": [
      "uniform tensor value:\n",
      " [[[2 4 3]\n",
      "  [9 1 8]\n",
      "  [8 3 5]]\n",
      "\n",
      " [[6 6 9]\n",
      "  [9 6 1]\n",
      "  [7 5 2]]]\n",
      "uniform tensor size: 18\n",
      "uniform tensor shape: (2, 3, 3)\n",
      "uniform tensor datatype: <dtype: 'int32'>\n",
      "unoform tensor dimension: 3\n"
     ]
    }
   ],
   "source": [
    "uniform_tensor = tf.random.uniform([2,3,3], dtype=tf.int32, minval = 0, maxval = 10, seed = 42)\n",
    "\n",
    "print(\"uniform tensor value:\\n\", uniform_tensor.numpy())\n",
    "print(\"uniform tensor size:\", tf.size(uniform_tensor).numpy())\n",
    "print(\"uniform tensor shape:\", uniform_tensor.shape)\n",
    "print(\"uniform tensor datatype:\", uniform_tensor.dtype)\n",
    "print(\"unoform tensor dimension:\", uniform_tensor.ndim)"
   ]
  },
  {
   "cell_type": "code",
   "execution_count": 8,
   "id": "678d98c2",
   "metadata": {
    "execution": {
     "iopub.execute_input": "2023-11-28T14:29:30.487551Z",
     "iopub.status.busy": "2023-11-28T14:29:30.487060Z",
     "iopub.status.idle": "2023-11-28T14:29:30.508521Z",
     "shell.execute_reply": "2023-11-28T14:29:30.507347Z"
    },
    "papermill": {
     "duration": 0.031777,
     "end_time": "2023-11-28T14:29:30.510891",
     "exception": false,
     "start_time": "2023-11-28T14:29:30.479114",
     "status": "completed"
    },
    "tags": []
   },
   "outputs": [
    {
     "data": {
      "text/plain": [
       "<tf.Tensor: shape=(2, 3, 3), dtype=float32, numpy=\n",
       "array([[[-0.28077507, -0.1377521 , -0.6763296 ],\n",
       "        [ 0.02458041, -0.89358455, -0.82847327],\n",
       "        [ 1.2068944 ,  1.3810157 , -1.4557977 ]],\n",
       "\n",
       "       [[-0.24621388, -1.3608406 ,  1.0879604 ],\n",
       "        [-0.3511659 , -0.5138534 ,  3.4117208 ],\n",
       "        [ 0.05885482,  0.8918024 , -0.7528832 ]]], dtype=float32)>"
      ]
     },
     "execution_count": 8,
     "metadata": {},
     "output_type": "execute_result"
    }
   ],
   "source": [
    "normal_tensor = tf.random.normal([2,3,3], seed = 42)\n",
    "normal_tensor"
   ]
  },
  {
   "cell_type": "code",
   "execution_count": 9,
   "id": "c80504ad",
   "metadata": {
    "execution": {
     "iopub.execute_input": "2023-11-28T14:29:30.525361Z",
     "iopub.status.busy": "2023-11-28T14:29:30.524894Z",
     "iopub.status.idle": "2023-11-28T14:29:30.539152Z",
     "shell.execute_reply": "2023-11-28T14:29:30.537986Z"
    },
    "papermill": {
     "duration": 0.024641,
     "end_time": "2023-11-28T14:29:30.541620",
     "exception": false,
     "start_time": "2023-11-28T14:29:30.516979",
     "status": "completed"
    },
    "tags": []
   },
   "outputs": [
    {
     "data": {
      "text/plain": [
       "<tf.Tensor: shape=(3, 2, 2), dtype=float32, numpy=\n",
       "array([[[ 0.520786  , -0.6879559 ],\n",
       "        [ 0.3075672 ,  0.77124166]],\n",
       "\n",
       "       [[-0.5088845 ,  0.7513481 ],\n",
       "        [-2.6113875 , -0.95842814]],\n",
       "\n",
       "       [[-0.11757406,  1.7861681 ],\n",
       "        [-0.72368693, -0.7011757 ]]], dtype=float32)>"
      ]
     },
     "execution_count": 9,
     "metadata": {},
     "output_type": "execute_result"
    }
   ],
   "source": [
    "tf.random.set_seed(42)\n",
    "normal_tensor = tf.random.normal([3,2,2], seed = 10)\n",
    "normal_tensor"
   ]
  }
 ],
 "metadata": {
  "kaggle": {
   "accelerator": "none",
   "dataSources": [],
   "dockerImageVersionId": 30587,
   "isGpuEnabled": false,
   "isInternetEnabled": false,
   "language": "python",
   "sourceType": "notebook"
  },
  "kernelspec": {
   "display_name": "Python 3",
   "language": "python",
   "name": "python3"
  },
  "language_info": {
   "codemirror_mode": {
    "name": "ipython",
    "version": 3
   },
   "file_extension": ".py",
   "mimetype": "text/x-python",
   "name": "python",
   "nbconvert_exporter": "python",
   "pygments_lexer": "ipython3",
   "version": "3.10.12"
  },
  "papermill": {
   "default_parameters": {},
   "duration": 23.596955,
   "end_time": "2023-11-28T14:29:32.992177",
   "environment_variables": {},
   "exception": null,
   "input_path": "__notebook__.ipynb",
   "output_path": "__notebook__.ipynb",
   "parameters": {},
   "start_time": "2023-11-28T14:29:09.395222",
   "version": "2.4.0"
  }
 },
 "nbformat": 4,
 "nbformat_minor": 5
}
