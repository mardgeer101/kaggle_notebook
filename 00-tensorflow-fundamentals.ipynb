{
 "cells": [
  {
   "cell_type": "markdown",
   "id": "e3c9ee3e",
   "metadata": {
    "papermill": {
     "duration": 0.009692,
     "end_time": "2023-11-29T09:33:34.816943",
     "exception": false,
     "start_time": "2023-11-29T09:33:34.807251",
     "status": "completed"
    },
    "tags": []
   },
   "source": [
    "# TensorFlow Fundamentals"
   ]
  },
  {
   "cell_type": "markdown",
   "id": "956680d2",
   "metadata": {
    "papermill": {
     "duration": 0.008986,
     "end_time": "2023-11-29T09:33:34.835330",
     "exception": false,
     "start_time": "2023-11-29T09:33:34.826344",
     "status": "completed"
    },
    "tags": []
   },
   "source": [
    "## importing tensorflow library"
   ]
  },
  {
   "cell_type": "code",
   "execution_count": 1,
   "id": "bf519ff0",
   "metadata": {
    "execution": {
     "iopub.execute_input": "2023-11-29T09:33:34.855651Z",
     "iopub.status.busy": "2023-11-29T09:33:34.855142Z",
     "iopub.status.idle": "2023-11-29T09:33:47.425040Z",
     "shell.execute_reply": "2023-11-29T09:33:47.423870Z"
    },
    "papermill": {
     "duration": 12.583021,
     "end_time": "2023-11-29T09:33:47.427575",
     "exception": false,
     "start_time": "2023-11-29T09:33:34.844554",
     "status": "completed"
    },
    "tags": []
   },
   "outputs": [
    {
     "name": "stdout",
     "output_type": "stream",
     "text": [
      "2.13.0\n"
     ]
    }
   ],
   "source": [
    "import tensorflow as tf\n",
    "print(tf.__version__)"
   ]
  },
  {
   "cell_type": "markdown",
   "id": "54ec51d6",
   "metadata": {
    "papermill": {
     "duration": 0.009153,
     "end_time": "2023-11-29T09:33:47.446288",
     "exception": false,
     "start_time": "2023-11-29T09:33:47.437135",
     "status": "completed"
    },
    "tags": []
   },
   "source": [
    "## Creating various kinds of tensors"
   ]
  },
  {
   "cell_type": "markdown",
   "id": "62781f14",
   "metadata": {
    "papermill": {
     "duration": 0.008992,
     "end_time": "2023-11-29T09:33:47.464775",
     "exception": false,
     "start_time": "2023-11-29T09:33:47.455783",
     "status": "completed"
    },
    "tags": []
   },
   "source": [
    "### Using `tf.constant()` with the following information:\n",
    "    1. Tensor Value\n",
    "    2. Tensor Size\n",
    "    3. Tensor Shape\n",
    "    4. Tensor Datatype\n",
    "    5. Tensor Dimension\n"
   ]
  },
  {
   "cell_type": "code",
   "execution_count": 2,
   "id": "8823c730",
   "metadata": {
    "execution": {
     "iopub.execute_input": "2023-11-29T09:33:47.486230Z",
     "iopub.status.busy": "2023-11-29T09:33:47.485280Z",
     "iopub.status.idle": "2023-11-29T09:33:47.564324Z",
     "shell.execute_reply": "2023-11-29T09:33:47.563029Z"
    },
    "papermill": {
     "duration": 0.092519,
     "end_time": "2023-11-29T09:33:47.566709",
     "exception": false,
     "start_time": "2023-11-29T09:33:47.474190",
     "status": "completed"
    },
    "tags": []
   },
   "outputs": [
    {
     "name": "stdout",
     "output_type": "stream",
     "text": [
      "Scalar value: 5.0\n",
      "Scalar size: 1\n",
      "Scalar shape: ()\n",
      "Scalar datatype: <dtype: 'float32'>\n",
      "Scalar dimensions: 0\n"
     ]
    }
   ],
   "source": [
    "scalar = tf.constant(5,dtype=tf.float32)\n",
    "\n",
    "print(\"Scalar value:\", scalar.numpy())\n",
    "print(\"Scalar size:\", tf.size(scalar).numpy())\n",
    "print(\"Scalar shape:\", scalar.shape)\n",
    "print(\"Scalar datatype:\", scalar.dtype)\n",
    "print(\"Scalar dimensions:\", scalar.ndim)"
   ]
  },
  {
   "cell_type": "code",
   "execution_count": 3,
   "id": "99733a66",
   "metadata": {
    "execution": {
     "iopub.execute_input": "2023-11-29T09:33:47.587689Z",
     "iopub.status.busy": "2023-11-29T09:33:47.586629Z",
     "iopub.status.idle": "2023-11-29T09:33:47.597118Z",
     "shell.execute_reply": "2023-11-29T09:33:47.596350Z"
    },
    "papermill": {
     "duration": 0.023022,
     "end_time": "2023-11-29T09:33:47.599157",
     "exception": false,
     "start_time": "2023-11-29T09:33:47.576135",
     "status": "completed"
    },
    "tags": []
   },
   "outputs": [
    {
     "name": "stdout",
     "output_type": "stream",
     "text": [
      "Vector value: [10.  7.]\n",
      "Vector size: 2\n",
      "Vector shape: (2,)\n",
      "Vector datatype: <dtype: 'float32'>\n",
      "Vector dimension: 1\n"
     ]
    }
   ],
   "source": [
    "vector = tf.constant([10,7],dtype=tf.float32)\n",
    "\n",
    "print(\"Vector value:\", vector.numpy())\n",
    "print(\"Vector size:\", tf.size(vector).numpy())\n",
    "print(\"Vector shape:\", vector.shape)\n",
    "print(\"Vector datatype:\", vector.dtype)\n",
    "print(\"Vector dimension:\", vector.ndim)"
   ]
  },
  {
   "cell_type": "code",
   "execution_count": 4,
   "id": "fb2ea33f",
   "metadata": {
    "execution": {
     "iopub.execute_input": "2023-11-29T09:33:47.620283Z",
     "iopub.status.busy": "2023-11-29T09:33:47.619715Z",
     "iopub.status.idle": "2023-11-29T09:33:47.627076Z",
     "shell.execute_reply": "2023-11-29T09:33:47.625952Z"
    },
    "papermill": {
     "duration": 0.020298,
     "end_time": "2023-11-29T09:33:47.629131",
     "exception": false,
     "start_time": "2023-11-29T09:33:47.608833",
     "status": "completed"
    },
    "tags": []
   },
   "outputs": [
    {
     "name": "stdout",
     "output_type": "stream",
     "text": [
      "Matrix value:\n",
      " [[3. 5. 6.]\n",
      " [1. 2. 3.]\n",
      " [5. 6. 7.]\n",
      " [8. 9. 5.]]\n",
      "Matrix size: 12\n",
      "matrix shape: (4, 3)\n",
      "Matrix datatype: <dtype: 'float32'>\n",
      "Matrix dimension: 2\n"
     ]
    }
   ],
   "source": [
    "matrix = tf.constant([[3,5,6],\n",
    "                      [1,2,3],\n",
    "                      [5,6,7],\n",
    "                      [8,9,5]],dtype=tf.float32)\n",
    "\n",
    "print(\"Matrix value:\\n\", matrix.numpy())\n",
    "print(\"Matrix size:\", tf.size(matrix).numpy())\n",
    "print(\"matrix shape:\", matrix.shape)\n",
    "print(\"Matrix datatype:\", matrix.dtype)\n",
    "print(\"Matrix dimension:\", matrix.ndim)"
   ]
  },
  {
   "cell_type": "code",
   "execution_count": 5,
   "id": "3c5b7031",
   "metadata": {
    "execution": {
     "iopub.execute_input": "2023-11-29T09:33:47.650863Z",
     "iopub.status.busy": "2023-11-29T09:33:47.650481Z",
     "iopub.status.idle": "2023-11-29T09:33:47.657942Z",
     "shell.execute_reply": "2023-11-29T09:33:47.657038Z"
    },
    "papermill": {
     "duration": 0.021277,
     "end_time": "2023-11-29T09:33:47.660161",
     "exception": false,
     "start_time": "2023-11-29T09:33:47.638884",
     "status": "completed"
    },
    "tags": []
   },
   "outputs": [
    {
     "name": "stdout",
     "output_type": "stream",
     "text": [
      "Tensor valaue:\n",
      " [[[ 1.  2.  3.]\n",
      "  [ 4.  5.  6.]\n",
      "  [ 7.  8.  9.]]\n",
      "\n",
      " [[10. 11. 12.]\n",
      "  [13. 14. 15.]\n",
      "  [16. 17. 18.]]]\n",
      "Tensor size: 18\n",
      "Tensor shape: (2, 3, 3)\n",
      "Tensor datatype: <dtype: 'float32'>\n",
      "Tensor dimension: 3\n"
     ]
    }
   ],
   "source": [
    "tensor = tf.constant([[[1,2,3],\n",
    "                       [4,5,6],\n",
    "                       [7,8,9]],\n",
    "                      [[10,11,12],\n",
    "                       [13,14,15],\n",
    "                       [16,17,18]]],dtype=tf.float32)\n",
    "\n",
    "print(\"Tensor valaue:\\n\", tensor.numpy())\n",
    "print(\"Tensor size:\", tf.size(tensor).numpy())\n",
    "print(\"Tensor shape:\", tensor.shape)\n",
    "print(\"Tensor datatype:\", tensor.dtype)\n",
    "print(\"Tensor dimension:\", tensor.ndim)"
   ]
  },
  {
   "cell_type": "markdown",
   "id": "ff031aec",
   "metadata": {
    "papermill": {
     "duration": 0.009467,
     "end_time": "2023-11-29T09:33:47.679272",
     "exception": false,
     "start_time": "2023-11-29T09:33:47.669805",
     "status": "completed"
    },
    "tags": []
   },
   "source": [
    "### Using `tf.Variable` with following information\n",
    "    1. Tensor Value\n",
    "    2. Tensor Size\n",
    "    3. Tensor Shape\n",
    "    4. Tensor Datatype\n",
    "    5. Tensor Dimension"
   ]
  },
  {
   "cell_type": "code",
   "execution_count": 6,
   "id": "e14e1f46",
   "metadata": {
    "execution": {
     "iopub.execute_input": "2023-11-29T09:33:47.700677Z",
     "iopub.status.busy": "2023-11-29T09:33:47.699959Z",
     "iopub.status.idle": "2023-11-29T09:33:47.717313Z",
     "shell.execute_reply": "2023-11-29T09:33:47.716256Z"
    },
    "papermill": {
     "duration": 0.030567,
     "end_time": "2023-11-29T09:33:47.719428",
     "exception": false,
     "start_time": "2023-11-29T09:33:47.688861",
     "status": "completed"
    },
    "tags": []
   },
   "outputs": [
    {
     "name": "stdout",
     "output_type": "stream",
     "text": [
      "Variable tensor value:\n",
      " [[1. 2. 3. 4.]\n",
      " [5. 6. 7. 8.]]\n",
      "Variable tensor size: 8\n",
      "Variable tensor shape: (2, 4)\n",
      "Variable tensor datatype: <dtype: 'float32'>\n",
      "Variable tensor dimension: 2\n"
     ]
    }
   ],
   "source": [
    "var_tensor = tf.Variable([[1,2,3,4],\n",
    "                          [5,6,7,8]],dtype=tf.float32)\n",
    "\n",
    "print(\"Variable tensor value:\\n\", var_tensor.numpy())\n",
    "print(\"Variable tensor size:\", tf.size(var_tensor).numpy())\n",
    "print(\"Variable tensor shape:\", var_tensor.shape)\n",
    "print(\"Variable tensor datatype:\", var_tensor.dtype)\n",
    "print(\"Variable tensor dimension:\", len(var_tensor.shape))"
   ]
  },
  {
   "cell_type": "markdown",
   "id": "d6e01cf0",
   "metadata": {
    "papermill": {
     "duration": 0.009505,
     "end_time": "2023-11-29T09:33:47.738582",
     "exception": false,
     "start_time": "2023-11-29T09:33:47.729077",
     "status": "completed"
    },
    "tags": []
   },
   "source": [
    "### Using `tf.random`\n",
    "1. `.uniform`\n",
    "2. `.normal`\n",
    "3. `.set_seed`"
   ]
  },
  {
   "cell_type": "code",
   "execution_count": 7,
   "id": "dd3c1a6e",
   "metadata": {
    "execution": {
     "iopub.execute_input": "2023-11-29T09:33:47.759716Z",
     "iopub.status.busy": "2023-11-29T09:33:47.759325Z",
     "iopub.status.idle": "2023-11-29T09:33:47.770685Z",
     "shell.execute_reply": "2023-11-29T09:33:47.769478Z"
    },
    "papermill": {
     "duration": 0.024686,
     "end_time": "2023-11-29T09:33:47.772800",
     "exception": false,
     "start_time": "2023-11-29T09:33:47.748114",
     "status": "completed"
    },
    "tags": []
   },
   "outputs": [
    {
     "name": "stdout",
     "output_type": "stream",
     "text": [
      "uniform tensor value:\n",
      " [[[2 4 3]\n",
      "  [9 1 8]\n",
      "  [8 3 5]]\n",
      "\n",
      " [[6 6 9]\n",
      "  [9 6 1]\n",
      "  [7 5 2]]]\n",
      "uniform tensor size: 18\n",
      "uniform tensor shape: (2, 3, 3)\n",
      "uniform tensor datatype: <dtype: 'int32'>\n",
      "unoform tensor dimension: 3\n"
     ]
    }
   ],
   "source": [
    "uniform_tensor = tf.random.uniform([2,3,3], dtype=tf.int32, minval = 0, maxval = 10, seed = 42)\n",
    "\n",
    "print(\"uniform tensor value:\\n\", uniform_tensor.numpy())\n",
    "print(\"uniform tensor size:\", tf.size(uniform_tensor).numpy())\n",
    "print(\"uniform tensor shape:\", uniform_tensor.shape)\n",
    "print(\"uniform tensor datatype:\", uniform_tensor.dtype)\n",
    "print(\"unoform tensor dimension:\", uniform_tensor.ndim)"
   ]
  },
  {
   "cell_type": "code",
   "execution_count": 8,
   "id": "7b03c64c",
   "metadata": {
    "execution": {
     "iopub.execute_input": "2023-11-29T09:33:47.794327Z",
     "iopub.status.busy": "2023-11-29T09:33:47.793619Z",
     "iopub.status.idle": "2023-11-29T09:33:47.811821Z",
     "shell.execute_reply": "2023-11-29T09:33:47.809528Z"
    },
    "papermill": {
     "duration": 0.031304,
     "end_time": "2023-11-29T09:33:47.813893",
     "exception": false,
     "start_time": "2023-11-29T09:33:47.782589",
     "status": "completed"
    },
    "tags": []
   },
   "outputs": [
    {
     "name": "stdout",
     "output_type": "stream",
     "text": [
      "Normal tensor  value:\n",
      " [[[-0.28077507 -0.1377521  -0.6763296 ]\n",
      "  [ 0.02458041 -0.89358455 -0.82847327]\n",
      "  [ 1.2068944   1.3810157  -1.4557977 ]]\n",
      "\n",
      " [[-0.24621388 -1.3608406   1.0879604 ]\n",
      "  [-0.3511659  -0.5138534   3.4117208 ]\n",
      "  [ 0.05885482  0.8918024  -0.7528832 ]]]\n",
      "Normal tensor size: 18\n",
      "Normal tensor shape: (2, 3, 3)\n",
      "Normal tensor datatype: <dtype: 'float32'>\n",
      "Normal tensor dimension: 3\n"
     ]
    }
   ],
   "source": [
    "normal_tensor = tf.random.normal([2,3,3], seed = 42)\n",
    "\n",
    "print(\"Normal tensor  value:\\n\", normal_tensor.numpy())\n",
    "print(\"Normal tensor size:\", tf.size(normal_tensor).numpy())\n",
    "print(\"Normal tensor shape:\", normal_tensor.shape)\n",
    "print(\"Normal tensor datatype:\", normal_tensor.dtype)\n",
    "print(\"Normal tensor dimension:\", normal_tensor.ndim)"
   ]
  },
  {
   "cell_type": "code",
   "execution_count": 9,
   "id": "c53af1fe",
   "metadata": {
    "execution": {
     "iopub.execute_input": "2023-11-29T09:33:47.841199Z",
     "iopub.status.busy": "2023-11-29T09:33:47.840414Z",
     "iopub.status.idle": "2023-11-29T09:33:47.855079Z",
     "shell.execute_reply": "2023-11-29T09:33:47.853918Z"
    },
    "papermill": {
     "duration": 0.030566,
     "end_time": "2023-11-29T09:33:47.857531",
     "exception": false,
     "start_time": "2023-11-29T09:33:47.826965",
     "status": "completed"
    },
    "tags": []
   },
   "outputs": [
    {
     "name": "stdout",
     "output_type": "stream",
     "text": [
      "Normal tensor  value:\n",
      " [[[ 0.520786   -0.6879559 ]\n",
      "  [ 0.3075672   0.77124166]]\n",
      "\n",
      " [[-0.5088845   0.7513481 ]\n",
      "  [-2.6113875  -0.95842814]]\n",
      "\n",
      " [[-0.11757406  1.7861681 ]\n",
      "  [-0.72368693 -0.7011757 ]]]\n",
      "Normal tensor size: 12\n",
      "Normal tensor shape: (3, 2, 2)\n",
      "Normal tensor datatype: <dtype: 'float32'>\n",
      "Normal tensor dimension: 3\n"
     ]
    }
   ],
   "source": [
    "tf.random.set_seed(42)\n",
    "normal_tensor = tf.random.normal([3,2,2], seed = 10)\n",
    "\n",
    "print(\"Normal tensor  value:\\n\", normal_tensor.numpy())\n",
    "print(\"Normal tensor size:\", tf.size(normal_tensor).numpy())\n",
    "print(\"Normal tensor shape:\", normal_tensor.shape)\n",
    "print(\"Normal tensor datatype:\", normal_tensor.dtype)\n",
    "print(\"Normal tensor dimension:\", normal_tensor.ndim)"
   ]
  },
  {
   "cell_type": "markdown",
   "id": "61f249c3",
   "metadata": {
    "papermill": {
     "duration": 0.012797,
     "end_time": "2023-11-29T09:33:47.884961",
     "exception": false,
     "start_time": "2023-11-29T09:33:47.872164",
     "status": "completed"
    },
    "tags": []
   },
   "source": [
    "### Using\n",
    "1. `tf.zeros()`\n",
    "2. `tf.ones()`"
   ]
  },
  {
   "cell_type": "code",
   "execution_count": 10,
   "id": "17519116",
   "metadata": {
    "execution": {
     "iopub.execute_input": "2023-11-29T09:33:47.907742Z",
     "iopub.status.busy": "2023-11-29T09:33:47.906905Z",
     "iopub.status.idle": "2023-11-29T09:33:47.919702Z",
     "shell.execute_reply": "2023-11-29T09:33:47.918731Z"
    },
    "papermill": {
     "duration": 0.026467,
     "end_time": "2023-11-29T09:33:47.921879",
     "exception": false,
     "start_time": "2023-11-29T09:33:47.895412",
     "status": "completed"
    },
    "tags": []
   },
   "outputs": [
    {
     "data": {
      "text/plain": [
       "<tf.Tensor: shape=(3, 2, 3), dtype=int32, numpy=\n",
       "array([[[0, 0, 0],\n",
       "        [0, 0, 0]],\n",
       "\n",
       "       [[0, 0, 0],\n",
       "        [0, 0, 0]],\n",
       "\n",
       "       [[0, 0, 0],\n",
       "        [0, 0, 0]]], dtype=int32)>"
      ]
     },
     "execution_count": 10,
     "metadata": {},
     "output_type": "execute_result"
    }
   ],
   "source": [
    "z = tf.zeros([3,2,3],dtype=tf.int32)\n",
    "z"
   ]
  },
  {
   "cell_type": "code",
   "execution_count": 11,
   "id": "ac7e31a0",
   "metadata": {
    "execution": {
     "iopub.execute_input": "2023-11-29T09:33:47.944537Z",
     "iopub.status.busy": "2023-11-29T09:33:47.943543Z",
     "iopub.status.idle": "2023-11-29T09:33:47.952561Z",
     "shell.execute_reply": "2023-11-29T09:33:47.951500Z"
    },
    "papermill": {
     "duration": 0.022625,
     "end_time": "2023-11-29T09:33:47.954737",
     "exception": false,
     "start_time": "2023-11-29T09:33:47.932112",
     "status": "completed"
    },
    "tags": []
   },
   "outputs": [
    {
     "data": {
      "text/plain": [
       "<tf.Tensor: shape=(2, 3, 4), dtype=int32, numpy=\n",
       "array([[[1, 1, 1, 1],\n",
       "        [1, 1, 1, 1],\n",
       "        [1, 1, 1, 1]],\n",
       "\n",
       "       [[1, 1, 1, 1],\n",
       "        [1, 1, 1, 1],\n",
       "        [1, 1, 1, 1]]], dtype=int32)>"
      ]
     },
     "execution_count": 11,
     "metadata": {},
     "output_type": "execute_result"
    }
   ],
   "source": [
    "o = tf.ones([2,3,4],dtype=tf.int32)\n",
    "o"
   ]
  },
  {
   "cell_type": "markdown",
   "id": "9a7cca12",
   "metadata": {
    "papermill": {
     "duration": 0.011708,
     "end_time": "2023-11-29T09:33:48.040407",
     "exception": false,
     "start_time": "2023-11-29T09:33:48.028699",
     "status": "completed"
    },
    "tags": []
   },
   "source": [
    "## Manipulating tensors"
   ]
  },
  {
   "cell_type": "markdown",
   "id": "a116f085",
   "metadata": {
    "papermill": {
     "duration": 0.010128,
     "end_time": "2023-11-29T09:33:48.061655",
     "exception": false,
     "start_time": "2023-11-29T09:33:48.051527",
     "status": "completed"
    },
    "tags": []
   },
   "source": [
    "### Using:\n",
    "1. `tf.random.shuffle()`\n",
    "2. `tf.transpose()`\n",
    "3. `tf.reshape()`"
   ]
  },
  {
   "cell_type": "code",
   "execution_count": 12,
   "id": "cbf698a5",
   "metadata": {
    "execution": {
     "iopub.execute_input": "2023-11-29T09:33:48.084826Z",
     "iopub.status.busy": "2023-11-29T09:33:48.084061Z",
     "iopub.status.idle": "2023-11-29T09:33:48.096176Z",
     "shell.execute_reply": "2023-11-29T09:33:48.095021Z"
    },
    "papermill": {
     "duration": 0.026381,
     "end_time": "2023-11-29T09:33:48.098367",
     "exception": false,
     "start_time": "2023-11-29T09:33:48.071986",
     "status": "completed"
    },
    "tags": []
   },
   "outputs": [
    {
     "data": {
      "text/plain": [
       "<tf.Tensor: shape=(2, 3, 3), dtype=int32, numpy=\n",
       "array([[[ 9, 45,  0],\n",
       "        [36, 19, 30],\n",
       "        [42, 32, 25]],\n",
       "\n",
       "       [[11, 16, 36],\n",
       "        [47,  3,  4],\n",
       "        [25, 41,  0]]], dtype=int32)>"
      ]
     },
     "execution_count": 12,
     "metadata": {},
     "output_type": "execute_result"
    }
   ],
   "source": [
    "tf.random.set_seed(42)\n",
    "x = tf.random.uniform([2,3,3], dtype=tf.int32, minval = 0, maxval = 50, seed = 1)\n",
    "x"
   ]
  },
  {
   "cell_type": "code",
   "execution_count": 13,
   "id": "e9aa3e6b",
   "metadata": {
    "execution": {
     "iopub.execute_input": "2023-11-29T09:33:48.122177Z",
     "iopub.status.busy": "2023-11-29T09:33:48.121416Z",
     "iopub.status.idle": "2023-11-29T09:33:48.130216Z",
     "shell.execute_reply": "2023-11-29T09:33:48.129283Z"
    },
    "papermill": {
     "duration": 0.023223,
     "end_time": "2023-11-29T09:33:48.132287",
     "exception": false,
     "start_time": "2023-11-29T09:33:48.109064",
     "status": "completed"
    },
    "tags": []
   },
   "outputs": [
    {
     "data": {
      "text/plain": [
       "<tf.Tensor: shape=(2, 3, 3), dtype=int32, numpy=\n",
       "array([[[11, 16, 36],\n",
       "        [47,  3,  4],\n",
       "        [25, 41,  0]],\n",
       "\n",
       "       [[ 9, 45,  0],\n",
       "        [36, 19, 30],\n",
       "        [42, 32, 25]]], dtype=int32)>"
      ]
     },
     "execution_count": 13,
     "metadata": {},
     "output_type": "execute_result"
    }
   ],
   "source": [
    "tf.random.shuffle(x)"
   ]
  },
  {
   "cell_type": "code",
   "execution_count": 14,
   "id": "28c5eb2d",
   "metadata": {
    "execution": {
     "iopub.execute_input": "2023-11-29T09:33:48.155524Z",
     "iopub.status.busy": "2023-11-29T09:33:48.154770Z",
     "iopub.status.idle": "2023-11-29T09:33:48.170311Z",
     "shell.execute_reply": "2023-11-29T09:33:48.169235Z"
    },
    "papermill": {
     "duration": 0.030581,
     "end_time": "2023-11-29T09:33:48.173397",
     "exception": false,
     "start_time": "2023-11-29T09:33:48.142816",
     "status": "completed"
    },
    "tags": []
   },
   "outputs": [
    {
     "data": {
      "text/plain": [
       "<tf.Tensor: shape=(3, 3, 2), dtype=int32, numpy=\n",
       "array([[[ 9, 11],\n",
       "        [36, 47],\n",
       "        [42, 25]],\n",
       "\n",
       "       [[45, 16],\n",
       "        [19,  3],\n",
       "        [32, 41]],\n",
       "\n",
       "       [[ 0, 36],\n",
       "        [30,  4],\n",
       "        [25,  0]]], dtype=int32)>"
      ]
     },
     "execution_count": 14,
     "metadata": {},
     "output_type": "execute_result"
    }
   ],
   "source": [
    "tf.transpose(x)"
   ]
  },
  {
   "cell_type": "code",
   "execution_count": 15,
   "id": "9231332f",
   "metadata": {
    "execution": {
     "iopub.execute_input": "2023-11-29T09:33:48.206070Z",
     "iopub.status.busy": "2023-11-29T09:33:48.205570Z",
     "iopub.status.idle": "2023-11-29T09:33:48.212247Z",
     "shell.execute_reply": "2023-11-29T09:33:48.211172Z"
    },
    "papermill": {
     "duration": 0.025721,
     "end_time": "2023-11-29T09:33:48.215083",
     "exception": false,
     "start_time": "2023-11-29T09:33:48.189362",
     "status": "completed"
    },
    "tags": []
   },
   "outputs": [
    {
     "name": "stdout",
     "output_type": "stream",
     "text": [
      "18\n",
      "18\n",
      "18\n"
     ]
    }
   ],
   "source": [
    "print(3*3*2)\n",
    "print(2*9)\n",
    "print(6*3)"
   ]
  },
  {
   "cell_type": "code",
   "execution_count": 16,
   "id": "fe2f7c0b",
   "metadata": {
    "execution": {
     "iopub.execute_input": "2023-11-29T09:33:48.240112Z",
     "iopub.status.busy": "2023-11-29T09:33:48.238513Z",
     "iopub.status.idle": "2023-11-29T09:33:48.253488Z",
     "shell.execute_reply": "2023-11-29T09:33:48.251961Z"
    },
    "papermill": {
     "duration": 0.029771,
     "end_time": "2023-11-29T09:33:48.255755",
     "exception": false,
     "start_time": "2023-11-29T09:33:48.225984",
     "status": "completed"
    },
    "tags": []
   },
   "outputs": [
    {
     "data": {
      "text/plain": [
       "<tf.Tensor: shape=(3, 6), dtype=int32, numpy=\n",
       "array([[ 9, 45,  0, 36, 19, 30],\n",
       "       [42, 32, 25, 11, 16, 36],\n",
       "       [47,  3,  4, 25, 41,  0]], dtype=int32)>"
      ]
     },
     "execution_count": 16,
     "metadata": {},
     "output_type": "execute_result"
    }
   ],
   "source": [
    "tf.reshape(x,[3,6])"
   ]
  },
  {
   "cell_type": "markdown",
   "id": "4ebd1d62",
   "metadata": {
    "papermill": {
     "duration": 0.010918,
     "end_time": "2023-11-29T09:33:48.282021",
     "exception": false,
     "start_time": "2023-11-29T09:33:48.271103",
     "status": "completed"
    },
    "tags": []
   },
   "source": [
    "### Using\n",
    "1. `+` or `tf.add()` or `tf.math.add()`\n",
    "2. `-` or `tf.subtract()` or `tf.math.subtract()`\n",
    "3. `*` or `tf.multiply()` or `tf.math.multiply()`\n",
    "4. `/` or `tf.divide()` or `tf.math.multiply()`"
   ]
  },
  {
   "cell_type": "code",
   "execution_count": 17,
   "id": "099069e9",
   "metadata": {
    "execution": {
     "iopub.execute_input": "2023-11-29T09:33:48.306456Z",
     "iopub.status.busy": "2023-11-29T09:33:48.305843Z",
     "iopub.status.idle": "2023-11-29T09:33:48.339115Z",
     "shell.execute_reply": "2023-11-29T09:33:48.337935Z"
    },
    "papermill": {
     "duration": 0.04853,
     "end_time": "2023-11-29T09:33:48.341751",
     "exception": false,
     "start_time": "2023-11-29T09:33:48.293221",
     "status": "completed"
    },
    "tags": []
   },
   "outputs": [
    {
     "name": "stdout",
     "output_type": "stream",
     "text": [
      "original tensor:\n",
      " [[33 38 30]\n",
      " [74  8 41]\n",
      " [53 73 42]]\n",
      "\n",
      "using tf.add():\n",
      " [[43 48 40]\n",
      " [84 18 51]\n",
      " [63 83 52]]\n",
      "\n",
      "using tf.math.add()\n",
      " [[43 48 40]\n",
      " [84 18 51]\n",
      " [63 83 52]]\n",
      "\n",
      "using `+`:\n",
      " [[43 48 40]\n",
      " [84 18 51]\n",
      " [63 83 52]]\n",
      "\n",
      "using tf.subtract():\n",
      " [[23 28 20]\n",
      " [64 -2 31]\n",
      " [43 63 32]]\n",
      "\n",
      "using tf.math.subtract():\n",
      " [[23 28 20]\n",
      " [64 -2 31]\n",
      " [43 63 32]]\n",
      "\n",
      "using `-`:\n",
      " [[23 28 20]\n",
      " [64 -2 31]\n",
      " [43 63 32]]\n",
      "\n",
      "using tf.multiply():\n",
      " [[330 380 300]\n",
      " [740  80 410]\n",
      " [530 730 420]]\n",
      "\n",
      "using tf.math.multiply():\n",
      " [[330 380 300]\n",
      " [740  80 410]\n",
      " [530 730 420]]\n",
      "\n",
      "using `*`:\n",
      " [[330 380 300]\n",
      " [740  80 410]\n",
      " [530 730 420]]\n",
      "\n",
      "using tf.divide():\n",
      " [[3.3 3.8 3. ]\n",
      " [7.4 0.8 4.1]\n",
      " [5.3 7.3 4.2]]\n",
      "\n",
      "using tf.math.divide():\n",
      " [[3.3 3.8 3. ]\n",
      " [7.4 0.8 4.1]\n",
      " [5.3 7.3 4.2]]\n",
      "\n",
      "using `/`:\n",
      " [[3.3 3.8 3. ]\n",
      " [7.4 0.8 4.1]\n",
      " [5.3 7.3 4.2]]\n"
     ]
    }
   ],
   "source": [
    "tf.random.set_seed(42)\n",
    "x = tf.random.uniform([3,3], dtype = tf.int32, minval = 0, maxval = 100, seed = 42)\n",
    "\n",
    "print(\"original tensor:\\n\", x.numpy())\n",
    "print(\"\\nusing tf.add():\\n\", tf.add(x,10).numpy())\n",
    "print(\"\\nusing tf.math.add()\\n\", tf.math.add(x,10).numpy())\n",
    "print(\"\\nusing `+`:\\n\", (x+10).numpy())\n",
    "\n",
    "print(\"\\nusing tf.subtract():\\n\", tf.subtract(x,10).numpy())\n",
    "print(\"\\nusing tf.math.subtract():\\n\", tf.math.subtract(x,10).numpy())\n",
    "print(\"\\nusing `-`:\\n\", (x-10).numpy())\n",
    "\n",
    "print(\"\\nusing tf.multiply():\\n\", tf.multiply(x,10).numpy())\n",
    "print(\"\\nusing tf.math.multiply():\\n\", tf.math.multiply(x,10).numpy())\n",
    "print(\"\\nusing `*`:\\n\", (x*10).numpy())\n",
    "\n",
    "print(\"\\nusing tf.divide():\\n\", tf.divide(x,10).numpy())\n",
    "print(\"\\nusing tf.math.divide():\\n\", tf.math.divide(x,10).numpy())\n",
    "print(\"\\nusing `/`:\\n\", tf.divide(x,10).numpy())"
   ]
  },
  {
   "cell_type": "markdown",
   "id": "6af48ab1",
   "metadata": {
    "execution": {
     "iopub.execute_input": "2023-11-29T02:19:34.001907Z",
     "iopub.status.busy": "2023-11-29T02:19:34.001534Z",
     "iopub.status.idle": "2023-11-29T02:19:34.006843Z",
     "shell.execute_reply": "2023-11-29T02:19:34.005388Z",
     "shell.execute_reply.started": "2023-11-29T02:19:34.001881Z"
    },
    "papermill": {
     "duration": 0.010825,
     "end_time": "2023-11-29T09:33:48.363683",
     "exception": false,
     "start_time": "2023-11-29T09:33:48.352858",
     "status": "completed"
    },
    "tags": []
   },
   "source": [
    "### Using `tf.abs()`"
   ]
  },
  {
   "cell_type": "code",
   "execution_count": 18,
   "id": "92f87d63",
   "metadata": {
    "execution": {
     "iopub.execute_input": "2023-11-29T09:33:48.388397Z",
     "iopub.status.busy": "2023-11-29T09:33:48.387043Z",
     "iopub.status.idle": "2023-11-29T09:33:48.400782Z",
     "shell.execute_reply": "2023-11-29T09:33:48.399780Z"
    },
    "papermill": {
     "duration": 0.02816,
     "end_time": "2023-11-29T09:33:48.402845",
     "exception": false,
     "start_time": "2023-11-29T09:33:48.374685",
     "status": "completed"
    },
    "tags": []
   },
   "outputs": [
    {
     "data": {
      "text/plain": [
       "<tf.Tensor: shape=(2, 3, 4), dtype=int32, numpy=\n",
       "array([[[-67,  38,  30,  74],\n",
       "        [  8,  41,  53, -27],\n",
       "        [-58, -95,  76,  44]],\n",
       "\n",
       "       [[ -7,  67, -94,  66],\n",
       "        [-58, -57,  91, -82],\n",
       "        [-54,  90, -86,  76]]], dtype=int32)>"
      ]
     },
     "execution_count": 18,
     "metadata": {},
     "output_type": "execute_result"
    }
   ],
   "source": [
    "tf.random.set_seed(42)\n",
    "x = tf.random.uniform([2,3,4],dtype=tf.int32,minval=-100,maxval=100,seed=42)\n",
    "x"
   ]
  },
  {
   "cell_type": "code",
   "execution_count": 19,
   "id": "b32273df",
   "metadata": {
    "execution": {
     "iopub.execute_input": "2023-11-29T09:33:48.427140Z",
     "iopub.status.busy": "2023-11-29T09:33:48.426772Z",
     "iopub.status.idle": "2023-11-29T09:33:48.435184Z",
     "shell.execute_reply": "2023-11-29T09:33:48.434137Z"
    },
    "papermill": {
     "duration": 0.023119,
     "end_time": "2023-11-29T09:33:48.437274",
     "exception": false,
     "start_time": "2023-11-29T09:33:48.414155",
     "status": "completed"
    },
    "tags": []
   },
   "outputs": [
    {
     "data": {
      "text/plain": [
       "<tf.Tensor: shape=(2, 3, 4), dtype=int32, numpy=\n",
       "array([[[67, 38, 30, 74],\n",
       "        [ 8, 41, 53, 27],\n",
       "        [58, 95, 76, 44]],\n",
       "\n",
       "       [[ 7, 67, 94, 66],\n",
       "        [58, 57, 91, 82],\n",
       "        [54, 90, 86, 76]]], dtype=int32)>"
      ]
     },
     "execution_count": 19,
     "metadata": {},
     "output_type": "execute_result"
    }
   ],
   "source": [
    "tf.abs(x)"
   ]
  },
  {
   "cell_type": "markdown",
   "id": "a5fffcf3",
   "metadata": {
    "papermill": {
     "duration": 0.011131,
     "end_time": "2023-11-29T09:33:48.459910",
     "exception": false,
     "start_time": "2023-11-29T09:33:48.448779",
     "status": "completed"
    },
    "tags": []
   },
   "source": [
    "## Finding the max, min, mean, sum, variance, std dev"
   ]
  },
  {
   "cell_type": "markdown",
   "id": "85cc76f0",
   "metadata": {
    "papermill": {
     "duration": 0.01096,
     "end_time": "2023-11-29T09:33:48.482253",
     "exception": false,
     "start_time": "2023-11-29T09:33:48.471293",
     "status": "completed"
    },
    "tags": []
   },
   "source": [
    "### Using\n",
    "1. `tf.reduce_max()`\n",
    "2. `tf.reduce_min()`\n",
    "3. `tf.reduce_mean()`\n",
    "4. `tf.reduce_sum()`\n",
    "5. `tf.math.reduce_variance()`\n",
    "6. `tf.math.reduce_std()`"
   ]
  },
  {
   "cell_type": "code",
   "execution_count": 20,
   "id": "b8c6ebe2",
   "metadata": {
    "execution": {
     "iopub.execute_input": "2023-11-29T09:33:48.506606Z",
     "iopub.status.busy": "2023-11-29T09:33:48.506213Z",
     "iopub.status.idle": "2023-11-29T09:33:48.518144Z",
     "shell.execute_reply": "2023-11-29T09:33:48.516863Z"
    },
    "papermill": {
     "duration": 0.026603,
     "end_time": "2023-11-29T09:33:48.520165",
     "exception": false,
     "start_time": "2023-11-29T09:33:48.493562",
     "status": "completed"
    },
    "tags": []
   },
   "outputs": [
    {
     "data": {
      "text/plain": [
       "<tf.Tensor: shape=(3, 3, 3), dtype=int32, numpy=\n",
       "array([[[-67,  38,  30],\n",
       "        [ 74,   8,  41],\n",
       "        [ 53, -27, -58]],\n",
       "\n",
       "       [[-95,  76,  44],\n",
       "        [ -7,  67, -94],\n",
       "        [ 66, -58, -57]],\n",
       "\n",
       "       [[ 91, -82, -54],\n",
       "        [ 90, -86,  76],\n",
       "        [ -9,  -9,  46]]], dtype=int32)>"
      ]
     },
     "execution_count": 20,
     "metadata": {},
     "output_type": "execute_result"
    }
   ],
   "source": [
    "tf.random.set_seed(42)\n",
    "x = tf.random.uniform([3,3,3],dtype=tf.int32,minval=-100,maxval=100,seed=42)\n",
    "x"
   ]
  },
  {
   "cell_type": "code",
   "execution_count": 21,
   "id": "0926a048",
   "metadata": {
    "execution": {
     "iopub.execute_input": "2023-11-29T09:33:48.545298Z",
     "iopub.status.busy": "2023-11-29T09:33:48.544433Z",
     "iopub.status.idle": "2023-11-29T09:33:48.580119Z",
     "shell.execute_reply": "2023-11-29T09:33:48.579079Z"
    },
    "papermill": {
     "duration": 0.052416,
     "end_time": "2023-11-29T09:33:48.584018",
     "exception": false,
     "start_time": "2023-11-29T09:33:48.531602",
     "status": "completed"
    },
    "tags": []
   },
   "outputs": [
    {
     "name": "stdout",
     "output_type": "stream",
     "text": [
      "tensor maximum value: 91\n",
      "tensor minimum value: -95\n",
      "tensor mean value: 3\n",
      "tensor sum of elements: 97\n",
      "tensor variance: 3820.6858\n",
      "tensor standard deviation: 61.811695\n"
     ]
    }
   ],
   "source": [
    "print(\"tensor maximum value:\", tf.reduce_max(x).numpy())\n",
    "print(\"tensor minimum value:\", tf.reduce_min(x).numpy())\n",
    "print(\"tensor mean value:\", tf.reduce_mean(x).numpy())\n",
    "print(\"tensor sum of elements:\", tf.reduce_sum(x).numpy())\n",
    "print(\"tensor variance:\", tf.math.reduce_variance(tf.cast(x,dtype=tf.float32)).numpy())\n",
    "print(\"tensor standard deviation:\", tf.math.reduce_std(tf.cast(x,dtype=tf.float32)).numpy())"
   ]
  },
  {
   "cell_type": "markdown",
   "id": "fd510a16",
   "metadata": {
    "papermill": {
     "duration": 0.011001,
     "end_time": "2023-11-29T09:33:48.606378",
     "exception": false,
     "start_time": "2023-11-29T09:33:48.595377",
     "status": "completed"
    },
    "tags": []
   },
   "source": [
    "## Manipulating of tensor indeces and elements"
   ]
  },
  {
   "cell_type": "markdown",
   "id": "845c2b73",
   "metadata": {
    "papermill": {
     "duration": 0.010937,
     "end_time": "2023-11-29T09:33:48.628567",
     "exception": false,
     "start_time": "2023-11-29T09:33:48.617630",
     "status": "completed"
    },
    "tags": []
   },
   "source": [
    "### Using \n",
    "1. `[:]`\n",
    "2. `tf.argmin()`\n",
    "3. `tf.argmax()`"
   ]
  },
  {
   "cell_type": "code",
   "execution_count": 22,
   "id": "84a5a423",
   "metadata": {
    "execution": {
     "iopub.execute_input": "2023-11-29T09:33:48.654161Z",
     "iopub.status.busy": "2023-11-29T09:33:48.653199Z",
     "iopub.status.idle": "2023-11-29T09:33:48.679526Z",
     "shell.execute_reply": "2023-11-29T09:33:48.678396Z"
    },
    "papermill": {
     "duration": 0.041429,
     "end_time": "2023-11-29T09:33:48.681677",
     "exception": false,
     "start_time": "2023-11-29T09:33:48.640248",
     "status": "completed"
    },
    "tags": []
   },
   "outputs": [
    {
     "data": {
      "text/plain": [
       "(array([ 1,  3,  5,  7,  9, 11, 13, 15, 17, 19, 21, 23, 25, 27, 29, 31, 33,\n",
       "        35, 37, 39, 41, 43, 45, 47, 49, 51, 53, 55, 57, 59, 61, 63, 65, 67,\n",
       "        69, 71, 73, 75, 77, 79, 81, 83, 85, 87, 89, 91, 93, 95, 97, 99]),\n",
       " array([[21, 23, 25, 27],\n",
       "        [29, 31, 33, 35],\n",
       "        [37, 39, 41, 43],\n",
       "        [45, 47, 49, 51],\n",
       "        [53, 55, 57, 59],\n",
       "        [61, 63, 65, 67],\n",
       "        [69, 71, 73, 75],\n",
       "        [77, 79, 81, 83],\n",
       "        [85, 87, 89, 91],\n",
       "        [93, 95, 97, 99]]),\n",
       " array([[ 1,  3,  5,  7,  9, 11, 13, 15, 17, 19]]),\n",
       " 2,\n",
       " 2,\n",
       " TensorShape([10, 4]),\n",
       " TensorShape([1, 10]),\n",
       " array([[7020, 7220, 7420, 7620]]),\n",
       " TensorShape([1, 4]),\n",
       " 2)"
      ]
     },
     "execution_count": 22,
     "metadata": {},
     "output_type": "execute_result"
    }
   ],
   "source": [
    "import numpy as np\n",
    "tf.random.set_seed(42)\n",
    "x = np.arange(1,100,2)\n",
    "x = tf.constant(x)\n",
    "#x = tf.reshape(x,[5,5])\n",
    "y = x[10:]\n",
    "z = x[:10]\n",
    "\n",
    "y = tf.reshape(y,[10,4])\n",
    "z = tf.reshape(z,[1,10])\n",
    "\n",
    "matmul = tf.matmul(z,y)\n",
    "\n",
    "x.numpy(), y.numpy(),z.numpy(),y.ndim,z.ndim, y.shape, z.shape , matmul.numpy(), matmul.shape, matmul.ndim"
   ]
  },
  {
   "cell_type": "code",
   "execution_count": 23,
   "id": "96302816",
   "metadata": {
    "execution": {
     "iopub.execute_input": "2023-11-29T09:33:48.706680Z",
     "iopub.status.busy": "2023-11-29T09:33:48.705941Z",
     "iopub.status.idle": "2023-11-29T09:33:48.717148Z",
     "shell.execute_reply": "2023-11-29T09:33:48.716039Z"
    },
    "papermill": {
     "duration": 0.026357,
     "end_time": "2023-11-29T09:33:48.719507",
     "exception": false,
     "start_time": "2023-11-29T09:33:48.693150",
     "status": "completed"
    },
    "tags": []
   },
   "outputs": [
    {
     "name": "stdout",
     "output_type": "stream",
     "text": [
      "Maximum element across y-axis or 1-axis:\n",
      " [[3]\n",
      " [3]\n",
      " [3]\n",
      " [3]\n",
      " [3]\n",
      " [3]\n",
      " [3]\n",
      " [3]\n",
      " [3]\n",
      " [3]]\n",
      "Maximum element across x-axis or 0-axis:\n",
      " [9 9 9 9]\n"
     ]
    }
   ],
   "source": [
    "print(\"Maximum element across y-axis or 1-axis:\\n\", tf.reshape(tf.argmax(y,1),[10,1]).numpy()) \n",
    "print(\"Maximum element across x-axis or 0-axis:\\n\", tf.argmax(y,0).numpy())"
   ]
  },
  {
   "cell_type": "markdown",
   "id": "22a8c713",
   "metadata": {
    "papermill": {
     "duration": 0.011213,
     "end_time": "2023-11-29T09:33:48.742423",
     "exception": false,
     "start_time": "2023-11-29T09:33:48.731210",
     "status": "completed"
    },
    "tags": []
   },
   "source": [
    "## dot multiplication of tensors"
   ]
  },
  {
   "cell_type": "markdown",
   "id": "a429baf4",
   "metadata": {
    "papermill": {
     "duration": 0.011494,
     "end_time": "2023-11-29T09:33:48.765558",
     "exception": false,
     "start_time": "2023-11-29T09:33:48.754064",
     "status": "completed"
    },
    "tags": []
   },
   "source": [
    "### Using\n",
    "1. `tf.matmul()`\n",
    "2. `tf.tensordot()`\n",
    "3. `@`"
   ]
  },
  {
   "cell_type": "code",
   "execution_count": 24,
   "id": "c8bb496f",
   "metadata": {
    "execution": {
     "iopub.execute_input": "2023-11-29T09:33:48.790672Z",
     "iopub.status.busy": "2023-11-29T09:33:48.790287Z",
     "iopub.status.idle": "2023-11-29T09:33:48.806853Z",
     "shell.execute_reply": "2023-11-29T09:33:48.806124Z"
    },
    "papermill": {
     "duration": 0.032162,
     "end_time": "2023-11-29T09:33:48.809248",
     "exception": false,
     "start_time": "2023-11-29T09:33:48.777086",
     "status": "completed"
    },
    "tags": []
   },
   "outputs": [
    {
     "data": {
      "text/plain": [
       "(<tf.Tensor: shape=(3, 3), dtype=int32, numpy=\n",
       " array([[33, 38, 30],\n",
       "        [74,  8, 41],\n",
       "        [53, 73, 42]], dtype=int32)>,\n",
       " <tf.Tensor: shape=(2, 3), dtype=int32, numpy=\n",
       " array([[1, 2, 3],\n",
       "        [4, 5, 6]], dtype=int32)>,\n",
       " <tf.Tensor: shape=(3, 3, 3), dtype=int64, numpy=\n",
       " array([[[ 0,  1,  2],\n",
       "         [ 3,  4,  5],\n",
       "         [ 6,  7,  8]],\n",
       " \n",
       "        [[ 9, 10, 11],\n",
       "         [12, 13, 14],\n",
       "         [15, 16, 17]],\n",
       " \n",
       "        [[18, 19, 20],\n",
       "         [21, 22, 23],\n",
       "         [24, 25, 26]]])>)"
      ]
     },
     "execution_count": 24,
     "metadata": {},
     "output_type": "execute_result"
    }
   ],
   "source": [
    "import numpy as np\n",
    "tf.random.set_seed(42)\n",
    "\n",
    "x = tf.random.uniform([3,3],dtype=tf.int32,minval=0,maxval=100,seed=42)\n",
    "y = tf.range(1,6+1)\n",
    "y = tf.reshape(y,[2,3])\n",
    "z = np.arange(0,27)\n",
    "z = tf.reshape(tf.constant(z),[3,3,3])\n",
    "x, y, z"
   ]
  },
  {
   "cell_type": "code",
   "execution_count": 25,
   "id": "ea5c2cfc",
   "metadata": {
    "execution": {
     "iopub.execute_input": "2023-11-29T09:33:48.848355Z",
     "iopub.status.busy": "2023-11-29T09:33:48.847256Z",
     "iopub.status.idle": "2023-11-29T09:33:48.860981Z",
     "shell.execute_reply": "2023-11-29T09:33:48.860214Z"
    },
    "papermill": {
     "duration": 0.035545,
     "end_time": "2023-11-29T09:33:48.863339",
     "exception": false,
     "start_time": "2023-11-29T09:33:48.827794",
     "status": "completed"
    },
    "tags": []
   },
   "outputs": [
    {
     "data": {
      "text/plain": [
       "(<tf.Tensor: shape=(3, 2), dtype=int32, numpy=\n",
       " array([[297, 398],\n",
       "        [303, 426],\n",
       "        [482, 650]], dtype=int32)>,\n",
       " <tf.Tensor: shape=(3, 2), dtype=int32, numpy=\n",
       " array([[297, 398],\n",
       "        [303, 426],\n",
       "        [482, 650]], dtype=int32)>,\n",
       " <tf.Tensor: shape=(3, 2), dtype=int32, numpy=\n",
       " array([[297, 398],\n",
       "        [303, 426],\n",
       "        [482, 650]], dtype=int32)>)"
      ]
     },
     "execution_count": 25,
     "metadata": {},
     "output_type": "execute_result"
    }
   ],
   "source": [
    "y = tf.reshape(y,[3,2])\n",
    "matmul = tf.matmul(x,y)\n",
    "tensordot = tf.tensordot(x,y,1)\n",
    "matmul, tensordot, x@y"
   ]
  },
  {
   "cell_type": "markdown",
   "id": "8addc89d",
   "metadata": {
    "papermill": {
     "duration": 0.011698,
     "end_time": "2023-11-29T09:33:48.890140",
     "exception": false,
     "start_time": "2023-11-29T09:33:48.878442",
     "status": "completed"
    },
    "tags": []
   },
   "source": [
    "## Removing 1-dimension of tensor"
   ]
  },
  {
   "cell_type": "markdown",
   "id": "1ac865e4",
   "metadata": {
    "papermill": {
     "duration": 0.011759,
     "end_time": "2023-11-29T09:33:48.913798",
     "exception": false,
     "start_time": "2023-11-29T09:33:48.902039",
     "status": "completed"
    },
    "tags": []
   },
   "source": [
    "### using `tf.squeeze()`"
   ]
  },
  {
   "cell_type": "code",
   "execution_count": 26,
   "id": "07b56933",
   "metadata": {
    "execution": {
     "iopub.execute_input": "2023-11-29T09:33:48.939085Z",
     "iopub.status.busy": "2023-11-29T09:33:48.938681Z",
     "iopub.status.idle": "2023-11-29T09:33:48.952004Z",
     "shell.execute_reply": "2023-11-29T09:33:48.950963Z"
    },
    "papermill": {
     "duration": 0.028345,
     "end_time": "2023-11-29T09:33:48.954110",
     "exception": false,
     "start_time": "2023-11-29T09:33:48.925765",
     "status": "completed"
    },
    "tags": []
   },
   "outputs": [
    {
     "data": {
      "text/plain": [
       "<tf.Tensor: shape=(1, 1, 1, 2, 1, 3, 1, 3, 3), dtype=int64, numpy=\n",
       "array([[[[[[[[[-8, -6, -4],\n",
       "              [-2,  0,  2],\n",
       "              [ 4,  6,  8]]],\n",
       "\n",
       "\n",
       "            [[[10, 12, 14],\n",
       "              [16, 18, 20],\n",
       "              [22, 24, 26]]],\n",
       "\n",
       "\n",
       "            [[[28, 30, 32],\n",
       "              [34, 36, 38],\n",
       "              [40, 42, 44]]]]],\n",
       "\n",
       "\n",
       "\n",
       "\n",
       "          [[[[[46, 48, 50],\n",
       "              [52, 54, 56],\n",
       "              [58, 60, 62]]],\n",
       "\n",
       "\n",
       "            [[[64, 66, 68],\n",
       "              [70, 72, 74],\n",
       "              [76, 78, 80]]],\n",
       "\n",
       "\n",
       "            [[[82, 84, 86],\n",
       "              [88, 90, 92],\n",
       "              [94, 96, 98]]]]]]]]])>"
      ]
     },
     "execution_count": 26,
     "metadata": {},
     "output_type": "execute_result"
    }
   ],
   "source": [
    "tf.random.set_seed(42)\n",
    "x = np.arange(-8,100,2)\n",
    "x = tf.constant(x)\n",
    "x = tf.reshape(x,[1,1,1,2,1,3,1,3,3])\n",
    "x"
   ]
  },
  {
   "cell_type": "code",
   "execution_count": 27,
   "id": "cbca0170",
   "metadata": {
    "execution": {
     "iopub.execute_input": "2023-11-29T09:33:48.980471Z",
     "iopub.status.busy": "2023-11-29T09:33:48.979729Z",
     "iopub.status.idle": "2023-11-29T09:33:48.988728Z",
     "shell.execute_reply": "2023-11-29T09:33:48.987719Z"
    },
    "papermill": {
     "duration": 0.024824,
     "end_time": "2023-11-29T09:33:48.990822",
     "exception": false,
     "start_time": "2023-11-29T09:33:48.965998",
     "status": "completed"
    },
    "tags": []
   },
   "outputs": [
    {
     "data": {
      "text/plain": [
       "<tf.Tensor: shape=(2, 3, 3, 3), dtype=int64, numpy=\n",
       "array([[[[-8, -6, -4],\n",
       "         [-2,  0,  2],\n",
       "         [ 4,  6,  8]],\n",
       "\n",
       "        [[10, 12, 14],\n",
       "         [16, 18, 20],\n",
       "         [22, 24, 26]],\n",
       "\n",
       "        [[28, 30, 32],\n",
       "         [34, 36, 38],\n",
       "         [40, 42, 44]]],\n",
       "\n",
       "\n",
       "       [[[46, 48, 50],\n",
       "         [52, 54, 56],\n",
       "         [58, 60, 62]],\n",
       "\n",
       "        [[64, 66, 68],\n",
       "         [70, 72, 74],\n",
       "         [76, 78, 80]],\n",
       "\n",
       "        [[82, 84, 86],\n",
       "         [88, 90, 92],\n",
       "         [94, 96, 98]]]])>"
      ]
     },
     "execution_count": 27,
     "metadata": {},
     "output_type": "execute_result"
    }
   ],
   "source": [
    "tf.squeeze(x)"
   ]
  },
  {
   "cell_type": "markdown",
   "id": "2c4764b8",
   "metadata": {
    "papermill": {
     "duration": 0.011854,
     "end_time": "2023-11-29T09:33:49.016856",
     "exception": false,
     "start_time": "2023-11-29T09:33:49.005002",
     "status": "completed"
    },
    "tags": []
   },
   "source": [
    "## One_hot encoding of tensors"
   ]
  },
  {
   "cell_type": "markdown",
   "id": "0fe0f3dc",
   "metadata": {
    "papermill": {
     "duration": 0.012065,
     "end_time": "2023-11-29T09:33:49.040939",
     "exception": false,
     "start_time": "2023-11-29T09:33:49.028874",
     "status": "completed"
    },
    "tags": []
   },
   "source": [
    "### Using ` tf.one_hot()`"
   ]
  },
  {
   "cell_type": "code",
   "execution_count": 28,
   "id": "2d74f514",
   "metadata": {
    "execution": {
     "iopub.execute_input": "2023-11-29T09:33:49.067183Z",
     "iopub.status.busy": "2023-11-29T09:33:49.066414Z",
     "iopub.status.idle": "2023-11-29T09:33:49.077940Z",
     "shell.execute_reply": "2023-11-29T09:33:49.076997Z"
    },
    "papermill": {
     "duration": 0.027067,
     "end_time": "2023-11-29T09:33:49.080030",
     "exception": false,
     "start_time": "2023-11-29T09:33:49.052963",
     "status": "completed"
    },
    "tags": []
   },
   "outputs": [
    {
     "data": {
      "text/plain": [
       "<tf.Tensor: shape=(2, 4, 4), dtype=int32, numpy=\n",
       "array([[[1, 0, 0, 0],\n",
       "        [0, 1, 0, 0],\n",
       "        [0, 0, 1, 0],\n",
       "        [0, 0, 0, 1]],\n",
       "\n",
       "       [[0, 1, 0, 0],\n",
       "        [0, 0, 0, 1],\n",
       "        [1, 0, 0, 0],\n",
       "        [0, 0, 1, 0]]], dtype=int32)>"
      ]
     },
     "execution_count": 28,
     "metadata": {},
     "output_type": "execute_result"
    }
   ],
   "source": [
    "index = [[0,1,2,3],\n",
    "         [1,3,0,2]]\n",
    "depth = 4\n",
    "one_hot = tf.one_hot(index, depth, on_value = 1, off_value = 0,dtype = tf.int32)\n",
    "one_hot"
   ]
  }
 ],
 "metadata": {
  "kaggle": {
   "accelerator": "none",
   "dataSources": [],
   "dockerImageVersionId": 30587,
   "isGpuEnabled": false,
   "isInternetEnabled": false,
   "language": "python",
   "sourceType": "notebook"
  },
  "kernelspec": {
   "display_name": "Python 3",
   "language": "python",
   "name": "python3"
  },
  "language_info": {
   "codemirror_mode": {
    "name": "ipython",
    "version": 3
   },
   "file_extension": ".py",
   "mimetype": "text/x-python",
   "name": "python",
   "nbconvert_exporter": "python",
   "pygments_lexer": "ipython3",
   "version": "3.10.12"
  },
  "papermill": {
   "default_parameters": {},
   "duration": 18.595682,
   "end_time": "2023-11-29T09:33:50.414349",
   "environment_variables": {},
   "exception": null,
   "input_path": "__notebook__.ipynb",
   "output_path": "__notebook__.ipynb",
   "parameters": {},
   "start_time": "2023-11-29T09:33:31.818667",
   "version": "2.4.0"
  }
 },
 "nbformat": 4,
 "nbformat_minor": 5
}
