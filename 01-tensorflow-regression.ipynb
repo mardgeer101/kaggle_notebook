{
 "cells": [
  {
   "cell_type": "code",
   "execution_count": 1,
   "id": "efb3f04e",
   "metadata": {
    "_cell_guid": "b1076dfc-b9ad-4769-8c92-a6c4dae69d19",
    "_uuid": "8f2839f25d086af736a60e9eeb907d3b93b6e0e5",
    "execution": {
     "iopub.execute_input": "2023-11-30T06:11:54.061689Z",
     "iopub.status.busy": "2023-11-30T06:11:54.061296Z",
     "iopub.status.idle": "2023-11-30T06:12:09.097896Z",
     "shell.execute_reply": "2023-11-30T06:12:09.096909Z"
    },
    "papermill": {
     "duration": 15.051822,
     "end_time": "2023-11-30T06:12:09.100476",
     "exception": false,
     "start_time": "2023-11-30T06:11:54.048654",
     "status": "completed"
    },
    "tags": []
   },
   "outputs": [],
   "source": [
    "import tensorflow as tf\n",
    "import numpy as np\n",
    "import matplotlib.pyplot as plt\n",
    "from tensorflow.keras.utils import plot_model"
   ]
  },
  {
   "cell_type": "code",
   "execution_count": 2,
   "id": "e306af3b",
   "metadata": {
    "execution": {
     "iopub.execute_input": "2023-11-30T06:12:09.120708Z",
     "iopub.status.busy": "2023-11-30T06:12:09.119341Z",
     "iopub.status.idle": "2023-11-30T06:12:09.126105Z",
     "shell.execute_reply": "2023-11-30T06:12:09.124563Z"
    },
    "papermill": {
     "duration": 0.019382,
     "end_time": "2023-11-30T06:12:09.128670",
     "exception": false,
     "start_time": "2023-11-30T06:12:09.109288",
     "status": "completed"
    },
    "tags": []
   },
   "outputs": [
    {
     "name": "stdout",
     "output_type": "stream",
     "text": [
      "2.13.0\n",
      "1.24.3\n"
     ]
    }
   ],
   "source": [
    "print(tf.__version__)\n",
    "print(np.__version__)"
   ]
  },
  {
   "cell_type": "code",
   "execution_count": 3,
   "id": "0bbd9eca",
   "metadata": {
    "execution": {
     "iopub.execute_input": "2023-11-30T06:12:09.147693Z",
     "iopub.status.busy": "2023-11-30T06:12:09.147300Z",
     "iopub.status.idle": "2023-11-30T06:12:09.157445Z",
     "shell.execute_reply": "2023-11-30T06:12:09.156462Z"
    },
    "papermill": {
     "duration": 0.022817,
     "end_time": "2023-11-30T06:12:09.160085",
     "exception": false,
     "start_time": "2023-11-30T06:12:09.137268",
     "status": "completed"
    },
    "tags": []
   },
   "outputs": [
    {
     "data": {
      "text/plain": [
       "(array([-7, -4, -1,  2,  5,  8, 11, 14, 17]),\n",
       " array([ 3,  6,  9, 12, 15, 18, 21, 24, 27]))"
      ]
     },
     "execution_count": 3,
     "metadata": {},
     "output_type": "execute_result"
    }
   ],
   "source": [
    "array_X = np.arange(-7, 20, 3)\n",
    "array_y = np.arange(3, 30 , 3)\n",
    "\n",
    "array_X, array_y"
   ]
  },
  {
   "cell_type": "code",
   "execution_count": 4,
   "id": "22418123",
   "metadata": {
    "execution": {
     "iopub.execute_input": "2023-11-30T06:12:09.182153Z",
     "iopub.status.busy": "2023-11-30T06:12:09.180369Z",
     "iopub.status.idle": "2023-11-30T06:12:09.524036Z",
     "shell.execute_reply": "2023-11-30T06:12:09.522600Z"
    },
    "papermill": {
     "duration": 0.357866,
     "end_time": "2023-11-30T06:12:09.526654",
     "exception": false,
     "start_time": "2023-11-30T06:12:09.168788",
     "status": "completed"
    },
    "tags": []
   },
   "outputs": [
    {
     "data": {
      "image/png": "[encoded data removed]",
      "text/plain": [
       "<Figure size 1000x700 with 1 Axes>"
      ]
     },
     "metadata": {},
     "output_type": "display_data"
    }
   ],
   "source": [
    "plt.figure(figsize=(10,7))\n",
    "plt.scatter(array_X, array_y);"
   ]
  },
  {
   "cell_type": "code",
   "execution_count": 5,
   "id": "f58cefb7",
   "metadata": {
    "execution": {
     "iopub.execute_input": "2023-11-30T06:12:09.546774Z",
     "iopub.status.busy": "2023-11-30T06:12:09.545673Z",
     "iopub.status.idle": "2023-11-30T06:12:09.628540Z",
     "shell.execute_reply": "2023-11-30T06:12:09.627354Z"
    },
    "papermill": {
     "duration": 0.095241,
     "end_time": "2023-11-30T06:12:09.630720",
     "exception": false,
     "start_time": "2023-11-30T06:12:09.535479",
     "status": "completed"
    },
    "tags": []
   },
   "outputs": [
    {
     "data": {
      "text/plain": [
       "(<tf.Tensor: shape=(9,), dtype=int64, numpy=array([-7, -4, -1,  2,  5,  8, 11, 14, 17])>,\n",
       " <tf.Tensor: shape=(9,), dtype=int64, numpy=array([ 3,  6,  9, 12, 15, 18, 21, 24, 27])>)"
      ]
     },
     "execution_count": 5,
     "metadata": {},
     "output_type": "execute_result"
    }
   ],
   "source": [
    "X = tf.constant(array_X)\n",
    "y = tf.constant(array_y)\n",
    "\n",
    "X, y"
   ]
  },
  {
   "cell_type": "code",
   "execution_count": 6,
   "id": "e9c11ea6",
   "metadata": {
    "execution": {
     "iopub.execute_input": "2023-11-30T06:12:09.650452Z",
     "iopub.status.busy": "2023-11-30T06:12:09.649734Z",
     "iopub.status.idle": "2023-11-30T06:12:11.666299Z",
     "shell.execute_reply": "2023-11-30T06:12:11.665188Z"
    },
    "papermill": {
     "duration": 2.029427,
     "end_time": "2023-11-30T06:12:11.668963",
     "exception": false,
     "start_time": "2023-11-30T06:12:09.639536",
     "status": "completed"
    },
    "tags": []
   },
   "outputs": [
    {
     "name": "stdout",
     "output_type": "stream",
     "text": [
      "Epoch 1/100\n",
      "1/1 [==============================] - 1s 801ms/step - loss: 261.7202 - mae: 14.5565\n",
      "Epoch 2/100\n",
      "1/1 [==============================] - 0s 8ms/step - loss: 217.2460 - mae: 13.5862\n",
      "Epoch 3/100\n",
      "1/1 [==============================] - 0s 8ms/step - loss: 178.0740 - mae: 12.6104\n",
      "Epoch 4/100\n",
      "1/1 [==============================] - 0s 7ms/step - loss: 144.3528 - mae: 11.6311\n",
      "Epoch 5/100\n",
      "1/1 [==============================] - 0s 7ms/step - loss: 116.2253 - mae: 10.6519\n",
      "Epoch 6/100\n",
      "1/1 [==============================] - 0s 7ms/step - loss: 93.7646 - mae: 9.6778\n",
      "Epoch 7/100\n",
      "1/1 [==============================] - 0s 9ms/step - loss: 76.9533 - mae: 8.7158\n",
      "Epoch 8/100\n",
      "1/1 [==============================] - 0s 8ms/step - loss: 65.6359 - mae: 7.7762\n",
      "Epoch 9/100\n",
      "1/1 [==============================] - 0s 7ms/step - loss: 59.4448 - mae: 6.8735\n",
      "Epoch 10/100\n",
      "1/1 [==============================] - 0s 8ms/step - loss: 57.7083 - mae: 6.2799\n",
      "Epoch 11/100\n",
      "1/1 [==============================] - 0s 7ms/step - loss: 59.3813 - mae: 6.3150\n",
      "Epoch 12/100\n",
      "1/1 [==============================] - 0s 6ms/step - loss: 63.0732 - mae: 6.5462\n",
      "Epoch 13/100\n",
      "1/1 [==============================] - 0s 7ms/step - loss: 67.2504 - mae: 6.8696\n",
      "Epoch 14/100\n",
      "1/1 [==============================] - 0s 7ms/step - loss: 70.5742 - mae: 7.0752\n",
      "Epoch 15/100\n",
      "1/1 [==============================] - 0s 7ms/step - loss: 72.1917 - mae: 7.1642\n",
      "Epoch 16/100\n",
      "1/1 [==============================] - 0s 6ms/step - loss: 71.8204 - mae: 7.1465\n",
      "Epoch 17/100\n",
      "1/1 [==============================] - 0s 7ms/step - loss: 69.6452 - mae: 7.0370\n",
      "Epoch 18/100\n",
      "1/1 [==============================] - 0s 6ms/step - loss: 66.1356 - mae: 6.8528\n",
      "Epoch 19/100\n",
      "1/1 [==============================] - 0s 6ms/step - loss: 61.8716 - mae: 6.6113\n",
      "Epoch 20/100\n",
      "1/1 [==============================] - 0s 6ms/step - loss: 57.4147 - mae: 6.3289\n",
      "Epoch 21/100\n",
      "1/1 [==============================] - 0s 7ms/step - loss: 53.2264 - mae: 6.0207\n",
      "Epoch 22/100\n",
      "1/1 [==============================] - 0s 8ms/step - loss: 49.6284 - mae: 5.7651\n",
      "Epoch 23/100\n",
      "1/1 [==============================] - 0s 8ms/step - loss: 46.7925 - mae: 5.6033\n",
      "Epoch 24/100\n",
      "1/1 [==============================] - 0s 8ms/step - loss: 44.7528 - mae: 5.4467\n",
      "Epoch 25/100\n",
      "1/1 [==============================] - 0s 7ms/step - loss: 43.4332 - mae: 5.4809\n",
      "Epoch 26/100\n",
      "1/1 [==============================] - 0s 9ms/step - loss: 42.6816 - mae: 5.5613\n",
      "Epoch 27/100\n",
      "1/1 [==============================] - 0s 8ms/step - loss: 42.3070 - mae: 5.7504\n",
      "Epoch 28/100\n",
      "1/1 [==============================] - 0s 8ms/step - loss: 42.1119 - mae: 5.8953\n",
      "Epoch 29/100\n",
      "1/1 [==============================] - 0s 9ms/step - loss: 41.9193 - mae: 5.9931\n",
      "Epoch 30/100\n",
      "1/1 [==============================] - 0s 8ms/step - loss: 41.5898 - mae: 6.0427\n",
      "Epoch 31/100\n",
      "1/1 [==============================] - 0s 8ms/step - loss: 41.0313 - mae: 6.0443\n",
      "Epoch 32/100\n",
      "1/1 [==============================] - 0s 9ms/step - loss: 40.2009 - mae: 5.9998\n",
      "Epoch 33/100\n",
      "1/1 [==============================] - 0s 7ms/step - loss: 39.1007 - mae: 5.9119\n",
      "Epoch 34/100\n",
      "1/1 [==============================] - 0s 8ms/step - loss: 37.7699 - mae: 5.7845\n",
      "Epoch 35/100\n",
      "1/1 [==============================] - 0s 8ms/step - loss: 36.2743 - mae: 5.6223\n",
      "Epoch 36/100\n",
      "1/1 [==============================] - 0s 7ms/step - loss: 34.6940 - mae: 5.4308\n",
      "Epoch 37/100\n",
      "1/1 [==============================] - 0s 7ms/step - loss: 33.1119 - mae: 5.2158\n",
      "Epoch 38/100\n",
      "1/1 [==============================] - 0s 8ms/step - loss: 31.6023 - mae: 4.9840\n",
      "Epoch 39/100\n",
      "1/1 [==============================] - 0s 7ms/step - loss: 30.2214 - mae: 4.7423\n",
      "Epoch 40/100\n",
      "1/1 [==============================] - 0s 7ms/step - loss: 29.0018 - mae: 4.5179\n",
      "Epoch 41/100\n",
      "1/1 [==============================] - 0s 7ms/step - loss: 27.9489 - mae: 4.3903\n",
      "Epoch 42/100\n",
      "1/1 [==============================] - 0s 6ms/step - loss: 27.0424 - mae: 4.2651\n",
      "Epoch 43/100\n",
      "1/1 [==============================] - 0s 7ms/step - loss: 26.2423 - mae: 4.1791\n",
      "Epoch 44/100\n",
      "1/1 [==============================] - 0s 8ms/step - loss: 25.4967 - mae: 4.1316\n",
      "Epoch 45/100\n",
      "1/1 [==============================] - 0s 7ms/step - loss: 24.7522 - mae: 4.0760\n",
      "Epoch 46/100\n",
      "1/1 [==============================] - 0s 7ms/step - loss: 23.9641 - mae: 4.0118\n",
      "Epoch 47/100\n",
      "1/1 [==============================] - 0s 7ms/step - loss: 23.1033 - mae: 3.9388\n",
      "Epoch 48/100\n",
      "1/1 [==============================] - 0s 6ms/step - loss: 22.1604 - mae: 3.8575\n",
      "Epoch 49/100\n",
      "1/1 [==============================] - 0s 6ms/step - loss: 21.1453 - mae: 3.7684\n",
      "Epoch 50/100\n",
      "1/1 [==============================] - 0s 6ms/step - loss: 20.0825 - mae: 3.6724\n",
      "Epoch 51/100\n",
      "1/1 [==============================] - 0s 8ms/step - loss: 19.0047 - mae: 3.5708\n",
      "Epoch 52/100\n",
      "1/1 [==============================] - 0s 7ms/step - loss: 17.9454 - mae: 3.4650\n",
      "Epoch 53/100\n",
      "1/1 [==============================] - 0s 7ms/step - loss: 16.9320 - mae: 3.3562\n",
      "Epoch 54/100\n",
      "1/1 [==============================] - 0s 8ms/step - loss: 15.9817 - mae: 3.2743\n",
      "Epoch 55/100\n",
      "1/1 [==============================] - 0s 8ms/step - loss: 15.0996 - mae: 3.2156\n",
      "Epoch 56/100\n",
      "1/1 [==============================] - 0s 8ms/step - loss: 14.2794 - mae: 3.1534\n",
      "Epoch 57/100\n",
      "1/1 [==============================] - 0s 8ms/step - loss: 13.5069 - mae: 3.0863\n",
      "Epoch 58/100\n",
      "1/1 [==============================] - 0s 7ms/step - loss: 12.7635 - mae: 3.0532\n",
      "Epoch 59/100\n",
      "1/1 [==============================] - 0s 7ms/step - loss: 12.0315 - mae: 3.0059\n",
      "Epoch 60/100\n",
      "1/1 [==============================] - 0s 9ms/step - loss: 11.2976 - mae: 2.9388\n",
      "Epoch 61/100\n",
      "1/1 [==============================] - 0s 6ms/step - loss: 10.5555 - mae: 2.8519\n",
      "Epoch 62/100\n",
      "1/1 [==============================] - 0s 7ms/step - loss: 9.8065 - mae: 2.7462\n",
      "Epoch 63/100\n",
      "1/1 [==============================] - 0s 7ms/step - loss: 9.0586 - mae: 2.6239\n",
      "Epoch 64/100\n",
      "1/1 [==============================] - 0s 6ms/step - loss: 8.3242 - mae: 2.4880\n",
      "Epoch 65/100\n",
      "1/1 [==============================] - 0s 7ms/step - loss: 7.6167 - mae: 2.3421\n",
      "Epoch 66/100\n",
      "1/1 [==============================] - 0s 6ms/step - loss: 6.9477 - mae: 2.2084\n",
      "Epoch 67/100\n",
      "1/1 [==============================] - 0s 6ms/step - loss: 6.3243 - mae: 2.0922\n",
      "Epoch 68/100\n",
      "1/1 [==============================] - 0s 7ms/step - loss: 5.7480 - mae: 1.9770\n",
      "Epoch 69/100\n",
      "1/1 [==============================] - 0s 7ms/step - loss: 5.2155 - mae: 1.8642\n",
      "Epoch 70/100\n",
      "1/1 [==============================] - 0s 7ms/step - loss: 4.7197 - mae: 1.7730\n",
      "Epoch 71/100\n",
      "1/1 [==============================] - 0s 7ms/step - loss: 4.2528 - mae: 1.6866\n",
      "Epoch 72/100\n",
      "1/1 [==============================] - 0s 7ms/step - loss: 3.8083 - mae: 1.5976\n",
      "Epoch 73/100\n",
      "1/1 [==============================] - 0s 7ms/step - loss: 3.3831 - mae: 1.5063\n",
      "Epoch 74/100\n",
      "1/1 [==============================] - 0s 7ms/step - loss: 2.9778 - mae: 1.4130\n",
      "Epoch 75/100\n",
      "1/1 [==============================] - 0s 6ms/step - loss: 2.5958 - mae: 1.3184\n",
      "Epoch 76/100\n",
      "1/1 [==============================] - 0s 6ms/step - loss: 2.2425 - mae: 1.2232\n",
      "Epoch 77/100\n",
      "1/1 [==============================] - 0s 7ms/step - loss: 1.9225 - mae: 1.1296\n",
      "Epoch 78/100\n",
      "1/1 [==============================] - 0s 8ms/step - loss: 1.6383 - mae: 1.0559\n",
      "Epoch 79/100\n",
      "1/1 [==============================] - 0s 7ms/step - loss: 1.3895 - mae: 0.9836\n",
      "Epoch 80/100\n",
      "1/1 [==============================] - 0s 8ms/step - loss: 1.1731 - mae: 0.9178\n",
      "Epoch 81/100\n",
      "1/1 [==============================] - 0s 6ms/step - loss: 0.9840 - mae: 0.8656\n",
      "Epoch 82/100\n",
      "1/1 [==============================] - 0s 6ms/step - loss: 0.8171 - mae: 0.8067\n",
      "Epoch 83/100\n",
      "1/1 [==============================] - 0s 7ms/step - loss: 0.6681 - mae: 0.7405\n",
      "Epoch 84/100\n",
      "1/1 [==============================] - 0s 8ms/step - loss: 0.5347 - mae: 0.6672\n",
      "Epoch 85/100\n",
      "1/1 [==============================] - 0s 7ms/step - loss: 0.4166 - mae: 0.5880\n",
      "Epoch 86/100\n",
      "1/1 [==============================] - 0s 7ms/step - loss: 0.3146 - mae: 0.5049\n",
      "Epoch 87/100\n",
      "1/1 [==============================] - 0s 8ms/step - loss: 0.2299 - mae: 0.4203\n",
      "Epoch 88/100\n",
      "1/1 [==============================] - 0s 6ms/step - loss: 0.1628 - mae: 0.3385\n",
      "Epoch 89/100\n",
      "1/1 [==============================] - 0s 7ms/step - loss: 0.1122 - mae: 0.2742\n",
      "Epoch 90/100\n",
      "1/1 [==============================] - 0s 8ms/step - loss: 0.0759 - mae: 0.2258\n",
      "Epoch 91/100\n",
      "1/1 [==============================] - 0s 8ms/step - loss: 0.0506 - mae: 0.1872\n",
      "Epoch 92/100\n",
      "1/1 [==============================] - 0s 9ms/step - loss: 0.0329 - mae: 0.1529\n",
      "Epoch 93/100\n",
      "1/1 [==============================] - 0s 8ms/step - loss: 0.0204 - mae: 0.1239\n",
      "Epoch 94/100\n",
      "1/1 [==============================] - 0s 8ms/step - loss: 0.0116 - mae: 0.0933\n",
      "Epoch 95/100\n",
      "1/1 [==============================] - 0s 8ms/step - loss: 0.0059 - mae: 0.0646\n",
      "Epoch 96/100\n",
      "1/1 [==============================] - 0s 7ms/step - loss: 0.0036 - mae: 0.0547\n",
      "Epoch 97/100\n",
      "1/1 [==============================] - 0s 8ms/step - loss: 0.0049 - mae: 0.0672\n",
      "Epoch 98/100\n",
      "1/1 [==============================] - 0s 6ms/step - loss: 0.0094 - mae: 0.0799\n",
      "Epoch 99/100\n",
      "1/1 [==============================] - 0s 7ms/step - loss: 0.0164 - mae: 0.1049\n",
      "Epoch 100/100\n",
      "1/1 [==============================] - 0s 7ms/step - loss: 0.0247 - mae: 0.1291\n"
     ]
    },
    {
     "data": {
      "text/plain": [
       "<keras.src.callbacks.History at 0x796cd5e095d0>"
      ]
     },
     "execution_count": 6,
     "metadata": {},
     "output_type": "execute_result"
    }
   ],
   "source": [
    "tf.random.set_seed(42)\n",
    "\n",
    "model = tf.keras.Sequential([\n",
    "    tf.keras.layers.Dense(50, activation = None),\n",
    "    tf.keras.layers.Dense(1)\n",
    "])\n",
    "\n",
    "model.compile(loss = tf.keras.losses.mse,\n",
    "             optimizer = tf.keras.optimizers.Adam(learning_rate = 0.01),\n",
    "             metrics=[\"mae\"])\n",
    "\n",
    "model.fit(tf.expand_dims(X, axis = -1), y, epochs = 100, verbose = 1)"
   ]
  },
  {
   "cell_type": "code",
   "execution_count": 7,
   "id": "99347e5d",
   "metadata": {
    "execution": {
     "iopub.execute_input": "2023-11-30T06:12:11.747649Z",
     "iopub.status.busy": "2023-11-30T06:12:11.746758Z",
     "iopub.status.idle": "2023-11-30T06:12:11.927193Z",
     "shell.execute_reply": "2023-11-30T06:12:11.925908Z"
    },
    "papermill": {
     "duration": 0.222237,
     "end_time": "2023-11-30T06:12:11.929595",
     "exception": false,
     "start_time": "2023-11-30T06:12:11.707358",
     "status": "completed"
    },
    "tags": []
   },
   "outputs": [
    {
     "name": "stdout",
     "output_type": "stream",
     "text": [
      "1/1 [==============================] - 0s 117ms/step\n"
     ]
    },
    {
     "data": {
      "text/plain": [
       "array([[29.812222]], dtype=float32)"
      ]
     },
     "execution_count": 7,
     "metadata": {},
     "output_type": "execute_result"
    }
   ],
   "source": [
    "model.predict([20])"
   ]
  },
  {
   "cell_type": "code",
   "execution_count": 8,
   "id": "7ba626aa",
   "metadata": {
    "execution": {
     "iopub.execute_input": "2023-11-30T06:12:12.005329Z",
     "iopub.status.busy": "2023-11-30T06:12:12.004915Z",
     "iopub.status.idle": "2023-11-30T06:12:12.017639Z",
     "shell.execute_reply": "2023-11-30T06:12:12.016307Z"
    },
    "papermill": {
     "duration": 0.053684,
     "end_time": "2023-11-30T06:12:12.020242",
     "exception": false,
     "start_time": "2023-11-30T06:12:11.966558",
     "status": "completed"
    },
    "tags": []
   },
   "outputs": [
    {
     "data": {
      "text/plain": [
       "(<tf.Tensor: shape=(50,), dtype=int32, numpy=\n",
       " array([-100,  -96,  -92,  -88,  -84,  -80,  -76,  -72,  -68,  -64,  -60,\n",
       "         -56,  -52,  -48,  -44,  -40,  -36,  -32,  -28,  -24,  -20,  -16,\n",
       "         -12,   -8,   -4,    0,    4,    8,   12,   16,   20,   24,   28,\n",
       "          32,   36,   40,   44,   48,   52,   56,   60,   64,   68,   72,\n",
       "          76,   80,   84,   88,   92,   96], dtype=int32)>,\n",
       " <tf.Tensor: shape=(50,), dtype=int32, numpy=\n",
       " array([-90, -86, -82, -78, -74, -70, -66, -62, -58, -54, -50, -46, -42,\n",
       "        -38, -34, -30, -26, -22, -18, -14, -10,  -6,  -2,   2,   6,  10,\n",
       "         14,  18,  22,  26,  30,  34,  38,  42,  46,  50,  54,  58,  62,\n",
       "         66,  70,  74,  78,  82,  86,  90,  94,  98, 102, 106], dtype=int32)>)"
      ]
     },
     "execution_count": 8,
     "metadata": {},
     "output_type": "execute_result"
    }
   ],
   "source": [
    "X = tf.range(-100, 100, 4)\n",
    "y = X + 10\n",
    "X, y"
   ]
  },
  {
   "cell_type": "code",
   "execution_count": 9,
   "id": "d1363074",
   "metadata": {
    "execution": {
     "iopub.execute_input": "2023-11-30T06:12:12.100220Z",
     "iopub.status.busy": "2023-11-30T06:12:12.098936Z",
     "iopub.status.idle": "2023-11-30T06:12:12.115561Z",
     "shell.execute_reply": "2023-11-30T06:12:12.114672Z"
    },
    "papermill": {
     "duration": 0.058523,
     "end_time": "2023-11-30T06:12:12.118189",
     "exception": false,
     "start_time": "2023-11-30T06:12:12.059666",
     "status": "completed"
    },
    "tags": []
   },
   "outputs": [
    {
     "data": {
      "text/plain": [
       "(<tf.Tensor: shape=(40,), dtype=int32, numpy=\n",
       " array([-100,  -96,  -92,  -88,  -84,  -80,  -76,  -72,  -68,  -64,  -60,\n",
       "         -56,  -52,  -48,  -44,  -40,  -36,  -32,  -28,  -24,  -20,  -16,\n",
       "         -12,   -8,   -4,    0,    4,    8,   12,   16,   20,   24,   28,\n",
       "          32,   36,   40,   44,   48,   52,   56], dtype=int32)>,\n",
       " <tf.Tensor: shape=(10,), dtype=int32, numpy=array([60, 64, 68, 72, 76, 80, 84, 88, 92, 96], dtype=int32)>,\n",
       " <tf.Tensor: shape=(40,), dtype=int32, numpy=\n",
       " array([-90, -86, -82, -78, -74, -70, -66, -62, -58, -54, -50, -46, -42,\n",
       "        -38, -34, -30, -26, -22, -18, -14, -10,  -6,  -2,   2,   6,  10,\n",
       "         14,  18,  22,  26,  30,  34,  38,  42,  46,  50,  54,  58,  62,\n",
       "         66], dtype=int32)>,\n",
       " <tf.Tensor: shape=(10,), dtype=int32, numpy=array([ 70,  74,  78,  82,  86,  90,  94,  98, 102, 106], dtype=int32)>)"
      ]
     },
     "execution_count": 9,
     "metadata": {},
     "output_type": "execute_result"
    }
   ],
   "source": [
    "X_train = X[:40]\n",
    "y_train = y[:40]\n",
    "\n",
    "X_test = X[40:]\n",
    "y_test = y[40:]\n",
    "\n",
    "X_train, X_test, y_train, y_test"
   ]
  },
  {
   "cell_type": "code",
   "execution_count": 10,
   "id": "8a63a4f6",
   "metadata": {
    "execution": {
     "iopub.execute_input": "2023-11-30T06:12:12.195714Z",
     "iopub.status.busy": "2023-11-30T06:12:12.195308Z",
     "iopub.status.idle": "2023-11-30T06:12:12.840317Z",
     "shell.execute_reply": "2023-11-30T06:12:12.839005Z"
    },
    "papermill": {
     "duration": 0.686506,
     "end_time": "2023-11-30T06:12:12.842967",
     "exception": false,
     "start_time": "2023-11-30T06:12:12.156461",
     "status": "completed"
    },
    "tags": []
   },
   "outputs": [
    {
     "data": {
      "image/png": "[encoded data removed]",
      "text/plain": [
       "<Figure size 1000x700 with 1 Axes>"
      ]
     },
     "metadata": {},
     "output_type": "display_data"
    }
   ],
   "source": [
    "plt.figure(figsize=(10,7))\n",
    "plt.scatter(X_train, y_train,c=\"b\",label=\"training data\")\n",
    "plt.scatter(X_test, y_test, c=\"g\",label=\"Test data\")\n",
    "plt.legend();"
   ]
  },
  {
   "cell_type": "code",
   "execution_count": 11,
   "id": "789bba38",
   "metadata": {
    "execution": {
     "iopub.execute_input": "2023-11-30T06:12:12.920896Z",
     "iopub.status.busy": "2023-11-30T06:12:12.920458Z",
     "iopub.status.idle": "2023-11-30T06:12:12.973269Z",
     "shell.execute_reply": "2023-11-30T06:12:12.972215Z"
    },
    "papermill": {
     "duration": 0.095279,
     "end_time": "2023-11-30T06:12:12.975951",
     "exception": false,
     "start_time": "2023-11-30T06:12:12.880672",
     "status": "completed"
    },
    "tags": []
   },
   "outputs": [],
   "source": [
    "tf.random.set_seed(42)\n",
    "\n",
    "model = tf.keras.Sequential()\n",
    "model.add(tf.keras.layers.Dense(1,input_shape = [1]))\n",
    "\n",
    "model.compile(optimizer = tf.keras.optimizers.Adam(learning_rate = 0.01),\n",
    "             loss = tf.keras.losses.mse,\n",
    "             metrics = [\"mse\"])\n"
   ]
  },
  {
   "cell_type": "code",
   "execution_count": 12,
   "id": "23b10730",
   "metadata": {
    "execution": {
     "iopub.execute_input": "2023-11-30T06:12:13.056098Z",
     "iopub.status.busy": "2023-11-30T06:12:13.054900Z",
     "iopub.status.idle": "2023-11-30T06:12:13.071611Z",
     "shell.execute_reply": "2023-11-30T06:12:13.070153Z"
    },
    "papermill": {
     "duration": 0.061587,
     "end_time": "2023-11-30T06:12:13.076237",
     "exception": false,
     "start_time": "2023-11-30T06:12:13.014650",
     "status": "completed"
    },
    "tags": []
   },
   "outputs": [
    {
     "name": "stdout",
     "output_type": "stream",
     "text": [
      "Model: \"sequential_1\"\n",
      "_________________________________________________________________\n",
      " Layer (type)                Output Shape              Param #   \n",
      "=================================================================\n",
      " dense_2 (Dense)             (None, 1)                 2         \n",
      "                                                                 \n",
      "=================================================================\n",
      "Total params: 2 (8.00 Byte)\n",
      "Trainable params: 2 (8.00 Byte)\n",
      "Non-trainable params: 0 (0.00 Byte)\n",
      "_________________________________________________________________\n"
     ]
    }
   ],
   "source": [
    "model.summary()"
   ]
  },
  {
   "cell_type": "code",
   "execution_count": 13,
   "id": "d740422b",
   "metadata": {
    "execution": {
     "iopub.execute_input": "2023-11-30T06:12:13.157330Z",
     "iopub.status.busy": "2023-11-30T06:12:13.156549Z",
     "iopub.status.idle": "2023-11-30T06:12:13.412041Z",
     "shell.execute_reply": "2023-11-30T06:12:13.411165Z"
    },
    "papermill": {
     "duration": 0.298259,
     "end_time": "2023-11-30T06:12:13.414291",
     "exception": false,
     "start_time": "2023-11-30T06:12:13.116032",
     "status": "completed"
    },
    "tags": []
   },
   "outputs": [
    {
     "data": {
      "image/png": "[encoded data removed]",
      "text/plain": [
       "<IPython.core.display.Image object>"
      ]
     },
     "execution_count": 13,
     "metadata": {},
     "output_type": "execute_result"
    }
   ],
   "source": [
    "plot_model(model, show_shapes = True)"
   ]
  },
  {
   "cell_type": "code",
   "execution_count": 14,
   "id": "e5687520",
   "metadata": {
    "execution": {
     "iopub.execute_input": "2023-11-30T06:12:13.496474Z",
     "iopub.status.busy": "2023-11-30T06:12:13.495805Z",
     "iopub.status.idle": "2023-11-30T06:12:15.265487Z",
     "shell.execute_reply": "2023-11-30T06:12:15.264301Z"
    },
    "papermill": {
     "duration": 1.813905,
     "end_time": "2023-11-30T06:12:15.268277",
     "exception": false,
     "start_time": "2023-11-30T06:12:13.454372",
     "status": "completed"
    },
    "tags": []
   },
   "outputs": [
    {
     "name": "stdout",
     "output_type": "stream",
     "text": [
      "Epoch 1/100\n",
      "2/2 [==============================] - 0s 10ms/step - loss: 17922.7812 - mse: 17922.7812\n",
      "Epoch 2/100\n",
      "2/2 [==============================] - 0s 7ms/step - loss: 17644.9219 - mse: 17644.9219\n",
      "Epoch 3/100\n",
      "2/2 [==============================] - 0s 5ms/step - loss: 17376.2305 - mse: 17376.2305\n",
      "Epoch 4/100\n",
      "2/2 [==============================] - 0s 5ms/step - loss: 17106.1992 - mse: 17106.1992\n",
      "Epoch 5/100\n",
      "2/2 [==============================] - 0s 5ms/step - loss: 16847.9805 - mse: 16847.9805\n",
      "Epoch 6/100\n",
      "2/2 [==============================] - 0s 5ms/step - loss: 16585.0137 - mse: 16585.0137\n",
      "Epoch 7/100\n",
      "2/2 [==============================] - 0s 5ms/step - loss: 16323.4092 - mse: 16323.4092\n",
      "Epoch 8/100\n",
      "2/2 [==============================] - 0s 6ms/step - loss: 16047.4160 - mse: 16047.4160\n",
      "Epoch 9/100\n",
      "2/2 [==============================] - 0s 5ms/step - loss: 15811.0752 - mse: 15811.0752\n",
      "Epoch 10/100\n",
      "2/2 [==============================] - 0s 6ms/step - loss: 15564.1895 - mse: 15564.1895\n",
      "Epoch 11/100\n",
      "2/2 [==============================] - 0s 6ms/step - loss: 15300.6484 - mse: 15300.6484\n",
      "Epoch 12/100\n",
      "2/2 [==============================] - 0s 6ms/step - loss: 15056.9502 - mse: 15056.9502\n",
      "Epoch 13/100\n",
      "2/2 [==============================] - 0s 5ms/step - loss: 14798.3096 - mse: 14798.3096\n",
      "Epoch 14/100\n",
      "2/2 [==============================] - 0s 5ms/step - loss: 14559.8545 - mse: 14559.8545\n",
      "Epoch 15/100\n",
      "2/2 [==============================] - 0s 5ms/step - loss: 14323.7549 - mse: 14323.7549\n",
      "Epoch 16/100\n",
      "2/2 [==============================] - 0s 5ms/step - loss: 14079.4404 - mse: 14079.4404\n",
      "Epoch 17/100\n",
      "2/2 [==============================] - 0s 5ms/step - loss: 13842.8535 - mse: 13842.8535\n",
      "Epoch 18/100\n",
      "2/2 [==============================] - 0s 5ms/step - loss: 13608.4814 - mse: 13608.4814\n",
      "Epoch 19/100\n",
      "2/2 [==============================] - 0s 5ms/step - loss: 13384.3691 - mse: 13384.3691\n",
      "Epoch 20/100\n",
      "2/2 [==============================] - 0s 6ms/step - loss: 13156.5801 - mse: 13156.5801\n",
      "Epoch 21/100\n",
      "2/2 [==============================] - 0s 6ms/step - loss: 12934.8672 - mse: 12934.8672\n",
      "Epoch 22/100\n",
      "2/2 [==============================] - 0s 5ms/step - loss: 12724.7363 - mse: 12724.7363\n",
      "Epoch 23/100\n",
      "2/2 [==============================] - 0s 7ms/step - loss: 12509.7695 - mse: 12509.7695\n",
      "Epoch 24/100\n",
      "2/2 [==============================] - 0s 6ms/step - loss: 12291.7354 - mse: 12291.7354\n",
      "Epoch 25/100\n",
      "2/2 [==============================] - 0s 6ms/step - loss: 12087.0186 - mse: 12087.0186\n",
      "Epoch 26/100\n",
      "2/2 [==============================] - 0s 5ms/step - loss: 11885.3965 - mse: 11885.3965\n",
      "Epoch 27/100\n",
      "2/2 [==============================] - 0s 5ms/step - loss: 11676.1533 - mse: 11676.1533\n",
      "Epoch 28/100\n",
      "2/2 [==============================] - 0s 5ms/step - loss: 11483.3389 - mse: 11483.3389\n",
      "Epoch 29/100\n",
      "2/2 [==============================] - 0s 6ms/step - loss: 11265.5391 - mse: 11265.5391\n",
      "Epoch 30/100\n",
      "2/2 [==============================] - 0s 5ms/step - loss: 11059.7217 - mse: 11059.7217\n",
      "Epoch 31/100\n",
      "2/2 [==============================] - 0s 5ms/step - loss: 10881.6055 - mse: 10881.6055\n",
      "Epoch 32/100\n",
      "2/2 [==============================] - 0s 5ms/step - loss: 10675.2090 - mse: 10675.2090\n",
      "Epoch 33/100\n",
      "2/2 [==============================] - 0s 5ms/step - loss: 10478.4268 - mse: 10478.4268\n",
      "Epoch 34/100\n",
      "2/2 [==============================] - 0s 5ms/step - loss: 10298.9102 - mse: 10298.9102\n",
      "Epoch 35/100\n",
      "2/2 [==============================] - 0s 5ms/step - loss: 10107.9473 - mse: 10107.9473\n",
      "Epoch 36/100\n",
      "2/2 [==============================] - 0s 6ms/step - loss: 9937.7324 - mse: 9937.7324\n",
      "Epoch 37/100\n",
      "2/2 [==============================] - 0s 5ms/step - loss: 9761.2510 - mse: 9761.2510\n",
      "Epoch 38/100\n",
      "2/2 [==============================] - 0s 6ms/step - loss: 9592.0840 - mse: 9592.0840\n",
      "Epoch 39/100\n",
      "2/2 [==============================] - 0s 5ms/step - loss: 9428.3926 - mse: 9428.3926\n",
      "Epoch 40/100\n",
      "2/2 [==============================] - 0s 6ms/step - loss: 9264.7520 - mse: 9264.7520\n",
      "Epoch 41/100\n",
      "2/2 [==============================] - 0s 6ms/step - loss: 9107.0254 - mse: 9107.0254\n",
      "Epoch 42/100\n",
      "2/2 [==============================] - 0s 7ms/step - loss: 8950.2490 - mse: 8950.2490\n",
      "Epoch 43/100\n",
      "2/2 [==============================] - 0s 6ms/step - loss: 8783.1777 - mse: 8783.1777\n",
      "Epoch 44/100\n",
      "2/2 [==============================] - 0s 5ms/step - loss: 8639.6299 - mse: 8639.6299\n",
      "Epoch 45/100\n",
      "2/2 [==============================] - 0s 5ms/step - loss: 8485.1748 - mse: 8485.1748\n",
      "Epoch 46/100\n",
      "2/2 [==============================] - 0s 4ms/step - loss: 8342.2168 - mse: 8342.2168\n",
      "Epoch 47/100\n",
      "2/2 [==============================] - 0s 6ms/step - loss: 8190.3813 - mse: 8190.3813\n",
      "Epoch 48/100\n",
      "2/2 [==============================] - 0s 8ms/step - loss: 8053.5693 - mse: 8053.5693\n",
      "Epoch 49/100\n",
      "2/2 [==============================] - 0s 8ms/step - loss: 7915.6274 - mse: 7915.6274\n",
      "Epoch 50/100\n",
      "2/2 [==============================] - 0s 8ms/step - loss: 7783.5483 - mse: 7783.5483\n",
      "Epoch 51/100\n",
      "2/2 [==============================] - 0s 11ms/step - loss: 7641.3804 - mse: 7641.3804\n",
      "Epoch 52/100\n",
      "2/2 [==============================] - 0s 8ms/step - loss: 7517.4897 - mse: 7517.4897\n",
      "Epoch 53/100\n",
      "2/2 [==============================] - 0s 6ms/step - loss: 7376.0049 - mse: 7376.0049\n",
      "Epoch 54/100\n",
      "2/2 [==============================] - 0s 6ms/step - loss: 7240.9326 - mse: 7240.9326\n",
      "Epoch 55/100\n",
      "2/2 [==============================] - 0s 5ms/step - loss: 7111.0811 - mse: 7111.0811\n",
      "Epoch 56/100\n",
      "2/2 [==============================] - 0s 5ms/step - loss: 6971.0342 - mse: 6971.0342\n",
      "Epoch 57/100\n",
      "2/2 [==============================] - 0s 5ms/step - loss: 6841.7056 - mse: 6841.7056\n",
      "Epoch 58/100\n",
      "2/2 [==============================] - 0s 6ms/step - loss: 6707.8608 - mse: 6707.8608\n",
      "Epoch 59/100\n",
      "2/2 [==============================] - 0s 6ms/step - loss: 6584.9619 - mse: 6584.9619\n",
      "Epoch 60/100\n",
      "2/2 [==============================] - 0s 5ms/step - loss: 6456.1919 - mse: 6456.1919\n",
      "Epoch 61/100\n",
      "2/2 [==============================] - 0s 6ms/step - loss: 6337.2749 - mse: 6337.2749\n",
      "Epoch 62/100\n",
      "2/2 [==============================] - 0s 5ms/step - loss: 6219.6074 - mse: 6219.6074\n",
      "Epoch 63/100\n",
      "2/2 [==============================] - 0s 5ms/step - loss: 6101.3247 - mse: 6101.3247\n",
      "Epoch 64/100\n",
      "2/2 [==============================] - 0s 5ms/step - loss: 5984.4854 - mse: 5984.4854\n",
      "Epoch 65/100\n",
      "2/2 [==============================] - 0s 5ms/step - loss: 5869.4624 - mse: 5869.4624\n",
      "Epoch 66/100\n",
      "2/2 [==============================] - 0s 5ms/step - loss: 5758.5205 - mse: 5758.5205\n",
      "Epoch 67/100\n",
      "2/2 [==============================] - 0s 5ms/step - loss: 5645.4585 - mse: 5645.4585\n",
      "Epoch 68/100\n",
      "2/2 [==============================] - 0s 5ms/step - loss: 5532.5820 - mse: 5532.5820\n",
      "Epoch 69/100\n",
      "2/2 [==============================] - 0s 5ms/step - loss: 5428.6562 - mse: 5428.6562\n",
      "Epoch 70/100\n",
      "2/2 [==============================] - 0s 7ms/step - loss: 5316.4312 - mse: 5316.4312\n",
      "Epoch 71/100\n",
      "2/2 [==============================] - 0s 5ms/step - loss: 5213.3770 - mse: 5213.3770\n",
      "Epoch 72/100\n",
      "2/2 [==============================] - 0s 5ms/step - loss: 5110.3530 - mse: 5110.3530\n",
      "Epoch 73/100\n",
      "2/2 [==============================] - 0s 5ms/step - loss: 5002.3662 - mse: 5002.3662\n",
      "Epoch 74/100\n",
      "2/2 [==============================] - 0s 6ms/step - loss: 4909.1392 - mse: 4909.1392\n",
      "Epoch 75/100\n",
      "2/2 [==============================] - 0s 5ms/step - loss: 4805.1138 - mse: 4805.1138\n",
      "Epoch 76/100\n",
      "2/2 [==============================] - 0s 5ms/step - loss: 4705.6768 - mse: 4705.6768\n",
      "Epoch 77/100\n",
      "2/2 [==============================] - 0s 5ms/step - loss: 4611.8618 - mse: 4611.8618\n",
      "Epoch 78/100\n",
      "2/2 [==============================] - 0s 5ms/step - loss: 4511.4419 - mse: 4511.4419\n",
      "Epoch 79/100\n",
      "2/2 [==============================] - 0s 5ms/step - loss: 4415.9717 - mse: 4415.9717\n",
      "Epoch 80/100\n",
      "2/2 [==============================] - 0s 5ms/step - loss: 4327.3604 - mse: 4327.3604\n",
      "Epoch 81/100\n",
      "2/2 [==============================] - 0s 6ms/step - loss: 4239.7939 - mse: 4239.7939\n",
      "Epoch 82/100\n",
      "2/2 [==============================] - 0s 6ms/step - loss: 4145.5522 - mse: 4145.5522\n",
      "Epoch 83/100\n",
      "2/2 [==============================] - 0s 5ms/step - loss: 4063.9380 - mse: 4063.9380\n",
      "Epoch 84/100\n",
      "2/2 [==============================] - 0s 5ms/step - loss: 3973.8306 - mse: 3973.8306\n",
      "Epoch 85/100\n",
      "2/2 [==============================] - 0s 5ms/step - loss: 3897.7708 - mse: 3897.7708\n",
      "Epoch 86/100\n",
      "2/2 [==============================] - 0s 6ms/step - loss: 3815.3867 - mse: 3815.3867\n",
      "Epoch 87/100\n",
      "2/2 [==============================] - 0s 5ms/step - loss: 3733.0969 - mse: 3733.0969\n",
      "Epoch 88/100\n",
      "2/2 [==============================] - 0s 5ms/step - loss: 3655.9937 - mse: 3655.9937\n",
      "Epoch 89/100\n",
      "2/2 [==============================] - 0s 5ms/step - loss: 3572.2563 - mse: 3572.2563\n",
      "Epoch 90/100\n",
      "2/2 [==============================] - 0s 7ms/step - loss: 3496.4128 - mse: 3496.4128\n",
      "Epoch 91/100\n",
      "2/2 [==============================] - 0s 6ms/step - loss: 3415.3367 - mse: 3415.3367\n",
      "Epoch 92/100\n",
      "2/2 [==============================] - 0s 5ms/step - loss: 3342.9082 - mse: 3342.9082\n",
      "Epoch 93/100\n",
      "2/2 [==============================] - 0s 7ms/step - loss: 3267.3008 - mse: 3267.3008\n",
      "Epoch 94/100\n",
      "2/2 [==============================] - 0s 6ms/step - loss: 3194.4207 - mse: 3194.4207\n",
      "Epoch 95/100\n",
      "2/2 [==============================] - 0s 6ms/step - loss: 3126.8679 - mse: 3126.8679\n",
      "Epoch 96/100\n",
      "2/2 [==============================] - 0s 5ms/step - loss: 3054.6953 - mse: 3054.6953\n",
      "Epoch 97/100\n",
      "2/2 [==============================] - 0s 6ms/step - loss: 2991.9656 - mse: 2991.9656\n",
      "Epoch 98/100\n",
      "2/2 [==============================] - 0s 5ms/step - loss: 2924.7666 - mse: 2924.7666\n",
      "Epoch 99/100\n",
      "2/2 [==============================] - 0s 4ms/step - loss: 2859.6069 - mse: 2859.6069\n",
      "Epoch 100/100\n",
      "2/2 [==============================] - 0s 5ms/step - loss: 2796.7720 - mse: 2796.7720\n"
     ]
    },
    {
     "data": {
      "text/plain": [
       "<keras.src.callbacks.History at 0x796cd5e097e0>"
      ]
     },
     "execution_count": 14,
     "metadata": {},
     "output_type": "execute_result"
    }
   ],
   "source": [
    "model.fit(X_train, y_train, epochs = 100)"
   ]
  },
  {
   "cell_type": "code",
   "execution_count": 15,
   "id": "f05ee45a",
   "metadata": {
    "execution": {
     "iopub.execute_input": "2023-11-30T06:12:15.467905Z",
     "iopub.status.busy": "2023-11-30T06:12:15.467444Z",
     "iopub.status.idle": "2023-11-30T06:12:15.591695Z",
     "shell.execute_reply": "2023-11-30T06:12:15.590808Z"
    },
    "papermill": {
     "duration": 0.196646,
     "end_time": "2023-11-30T06:12:15.593919",
     "exception": false,
     "start_time": "2023-11-30T06:12:15.397273",
     "status": "completed"
    },
    "tags": []
   },
   "outputs": [
    {
     "name": "stdout",
     "output_type": "stream",
     "text": [
      "1/1 [==============================] - 0s 50ms/step\n"
     ]
    },
    {
     "data": {
      "text/plain": [
       "array([[ -7.2685456],\n",
       "       [ -7.6655717],\n",
       "       [ -8.062597 ],\n",
       "       [ -8.459623 ],\n",
       "       [ -8.856649 ],\n",
       "       [ -9.253675 ],\n",
       "       [ -9.6507015],\n",
       "       [-10.047728 ],\n",
       "       [-10.444754 ],\n",
       "       [-10.84178  ]], dtype=float32)"
      ]
     },
     "execution_count": 15,
     "metadata": {},
     "output_type": "execute_result"
    }
   ],
   "source": [
    "y_preds = model.predict(X_test)\n",
    "y_preds"
   ]
  },
  {
   "cell_type": "code",
   "execution_count": 16,
   "id": "161c9518",
   "metadata": {
    "execution": {
     "iopub.execute_input": "2023-11-30T06:12:15.735711Z",
     "iopub.status.busy": "2023-11-30T06:12:15.733432Z",
     "iopub.status.idle": "2023-11-30T06:12:15.742617Z",
     "shell.execute_reply": "2023-11-30T06:12:15.741767Z"
    },
    "papermill": {
     "duration": 0.08251,
     "end_time": "2023-11-30T06:12:15.745044",
     "exception": false,
     "start_time": "2023-11-30T06:12:15.662534",
     "status": "completed"
    },
    "tags": []
   },
   "outputs": [],
   "source": [
    "def plot_predictions(train_data = X_train,\n",
    "                    train_label = y_train,\n",
    "                    test_data = X_test,\n",
    "                    test_label = y_test,\n",
    "                    predictions = y_preds):\n",
    "    plt.figure(figsize = [10,7])\n",
    "    plt.scatter(train_data, train_label, c=\"b\", label=\"training data\")\n",
    "    plt.scatter(test_data, test_label, c=\"g\", label=\"testing data\")\n",
    "    plt.scatter(test_data, predictions, c=\"r\", label=\"predictions\")\n",
    "    plt.legend();"
   ]
  },
  {
   "cell_type": "code",
   "execution_count": 17,
   "id": "cfdfd25e",
   "metadata": {
    "execution": {
     "iopub.execute_input": "2023-11-30T06:12:15.885512Z",
     "iopub.status.busy": "2023-11-30T06:12:15.884297Z",
     "iopub.status.idle": "2023-11-30T06:12:16.362648Z",
     "shell.execute_reply": "2023-11-30T06:12:16.361279Z"
    },
    "papermill": {
     "duration": 0.551577,
     "end_time": "2023-11-30T06:12:16.365596",
     "exception": false,
     "start_time": "2023-11-30T06:12:15.814019",
     "status": "completed"
    },
    "tags": []
   },
   "outputs": [
    {
     "data": {
      "image/png": "[encoded data removed]",
      "text/plain": [
       "<Figure size 1000x700 with 1 Axes>"
      ]
     },
     "metadata": {},
     "output_type": "display_data"
    }
   ],
   "source": [
    "plot_predictions(train_data = X_train,\n",
    "                    train_label = y_train,\n",
    "                    test_data = X_test,\n",
    "                    test_label = y_test,\n",
    "                    predictions = y_preds)"
   ]
  },
  {
   "cell_type": "code",
   "execution_count": 18,
   "id": "45c52de4",
   "metadata": {
    "execution": {
     "iopub.execute_input": "2023-11-30T06:12:16.507063Z",
     "iopub.status.busy": "2023-11-30T06:12:16.505917Z",
     "iopub.status.idle": "2023-11-30T06:12:16.604039Z",
     "shell.execute_reply": "2023-11-30T06:12:16.603044Z"
    },
    "papermill": {
     "duration": 0.1722,
     "end_time": "2023-11-30T06:12:16.606771",
     "exception": false,
     "start_time": "2023-11-30T06:12:16.434571",
     "status": "completed"
    },
    "tags": []
   },
   "outputs": [],
   "source": [
    "tf.random.set_seed(42)\n",
    "\n",
    "model = tf.keras.Sequential([\n",
    "    tf.keras.layers.Dense(50, input_shape = [1], name = \"input_layer\"),\n",
    "    tf.keras.layers.Dense(100, input_shape = [1], name = \"hidden_layer_1\"),\n",
    "    tf.keras.layers.Dense(20, input_shape = [1], name = \"hidden_layer_2\"),\n",
    "    tf.keras.layers.Dense(1, name = \"output_layer\")\n",
    "])\n",
    "\n",
    "model.compile(optimizer = tf.keras.optimizers.Adam(learning_rate = 0.01),\n",
    "             loss = tf.keras.losses.mse,\n",
    "             metrics = [\"mse\"])"
   ]
  },
  {
   "cell_type": "code",
   "execution_count": 19,
   "id": "ed84dab4",
   "metadata": {
    "execution": {
     "iopub.execute_input": "2023-11-30T06:12:16.748128Z",
     "iopub.status.busy": "2023-11-30T06:12:16.747070Z",
     "iopub.status.idle": "2023-11-30T06:12:16.773637Z",
     "shell.execute_reply": "2023-11-30T06:12:16.772398Z"
    },
    "papermill": {
     "duration": 0.103507,
     "end_time": "2023-11-30T06:12:16.780313",
     "exception": false,
     "start_time": "2023-11-30T06:12:16.676806",
     "status": "completed"
    },
    "tags": []
   },
   "outputs": [
    {
     "name": "stdout",
     "output_type": "stream",
     "text": [
      "Model: \"sequential_2\"\n",
      "_________________________________________________________________\n",
      " Layer (type)                Output Shape              Param #   \n",
      "=================================================================\n",
      " input_layer (Dense)         (None, 50)                100       \n",
      "                                                                 \n",
      " hidden_layer_1 (Dense)      (None, 100)               5100      \n",
      "                                                                 \n",
      " hidden_layer_2 (Dense)      (None, 20)                2020      \n",
      "                                                                 \n",
      " output_layer (Dense)        (None, 1)                 21        \n",
      "                                                                 \n",
      "=================================================================\n",
      "Total params: 7241 (28.29 KB)\n",
      "Trainable params: 7241 (28.29 KB)\n",
      "Non-trainable params: 0 (0.00 Byte)\n",
      "_________________________________________________________________\n"
     ]
    }
   ],
   "source": [
    "model.summary()"
   ]
  },
  {
   "cell_type": "code",
   "execution_count": 20,
   "id": "72940d23",
   "metadata": {
    "execution": {
     "iopub.execute_input": "2023-11-30T06:12:16.927292Z",
     "iopub.status.busy": "2023-11-30T06:12:16.926866Z",
     "iopub.status.idle": "2023-11-30T06:12:17.005609Z",
     "shell.execute_reply": "2023-11-30T06:12:17.004163Z"
    },
    "papermill": {
     "duration": 0.15603,
     "end_time": "2023-11-30T06:12:17.008664",
     "exception": false,
     "start_time": "2023-11-30T06:12:16.852634",
     "status": "completed"
    },
    "tags": []
   },
   "outputs": [
    {
     "data": {
      "image/png": "[encoded data removed]",
      "text/plain": [
       "<IPython.core.display.Image object>"
      ]
     },
     "execution_count": 20,
     "metadata": {},
     "output_type": "execute_result"
    }
   ],
   "source": [
    "plot_model(model, show_shapes = True)"
   ]
  },
  {
   "cell_type": "code",
   "execution_count": 21,
   "id": "b906ee48",
   "metadata": {
    "execution": {
     "iopub.execute_input": "2023-11-30T06:12:17.157341Z",
     "iopub.status.busy": "2023-11-30T06:12:17.156468Z",
     "iopub.status.idle": "2023-11-30T06:12:19.473628Z",
     "shell.execute_reply": "2023-11-30T06:12:19.472447Z"
    },
    "papermill": {
     "duration": 2.394134,
     "end_time": "2023-11-30T06:12:19.476045",
     "exception": false,
     "start_time": "2023-11-30T06:12:17.081911",
     "status": "completed"
    },
    "tags": []
   },
   "outputs": [
    {
     "name": "stdout",
     "output_type": "stream",
     "text": [
      "Epoch 1/100\n",
      "2/2 [==============================] - 1s 10ms/step - loss: 3087.6675 - mse: 3087.6675\n",
      "Epoch 2/100\n",
      "2/2 [==============================] - 0s 8ms/step - loss: 962.6595 - mse: 962.6595\n",
      "Epoch 3/100\n",
      "2/2 [==============================] - 0s 5ms/step - loss: 884.1147 - mse: 884.1147\n",
      "Epoch 4/100\n",
      "2/2 [==============================] - 0s 7ms/step - loss: 522.5558 - mse: 522.5558\n",
      "Epoch 5/100\n",
      "2/2 [==============================] - 0s 6ms/step - loss: 121.3838 - mse: 121.3838\n",
      "Epoch 6/100\n",
      "2/2 [==============================] - 0s 6ms/step - loss: 542.7830 - mse: 542.7830\n",
      "Epoch 7/100\n",
      "2/2 [==============================] - 0s 7ms/step - loss: 208.0360 - mse: 208.0360\n",
      "Epoch 8/100\n",
      "2/2 [==============================] - 0s 5ms/step - loss: 111.8776 - mse: 111.8776\n",
      "Epoch 9/100\n",
      "2/2 [==============================] - 0s 6ms/step - loss: 237.0972 - mse: 237.0972\n",
      "Epoch 10/100\n",
      "2/2 [==============================] - 0s 6ms/step - loss: 178.8366 - mse: 178.8366\n",
      "Epoch 11/100\n",
      "2/2 [==============================] - 0s 6ms/step - loss: 75.4615 - mse: 75.4615\n",
      "Epoch 12/100\n",
      "2/2 [==============================] - 0s 6ms/step - loss: 94.3207 - mse: 94.3207\n",
      "Epoch 13/100\n",
      "2/2 [==============================] - 0s 5ms/step - loss: 115.0222 - mse: 115.0222\n",
      "Epoch 14/100\n",
      "2/2 [==============================] - 0s 6ms/step - loss: 64.3797 - mse: 64.3797\n",
      "Epoch 15/100\n",
      "2/2 [==============================] - 0s 5ms/step - loss: 61.7826 - mse: 61.7826\n",
      "Epoch 16/100\n",
      "2/2 [==============================] - 0s 6ms/step - loss: 87.4789 - mse: 87.4789\n",
      "Epoch 17/100\n",
      "2/2 [==============================] - 0s 5ms/step - loss: 72.4197 - mse: 72.4197\n",
      "Epoch 18/100\n",
      "2/2 [==============================] - 0s 6ms/step - loss: 49.5679 - mse: 49.5679\n",
      "Epoch 19/100\n",
      "2/2 [==============================] - 0s 6ms/step - loss: 54.1432 - mse: 54.1432\n",
      "Epoch 20/100\n",
      "2/2 [==============================] - 0s 6ms/step - loss: 54.6520 - mse: 54.6520\n",
      "Epoch 21/100\n",
      "2/2 [==============================] - 0s 6ms/step - loss: 38.9123 - mse: 38.9123\n",
      "Epoch 22/100\n",
      "2/2 [==============================] - 0s 5ms/step - loss: 38.1621 - mse: 38.1621\n",
      "Epoch 23/100\n",
      "2/2 [==============================] - 0s 6ms/step - loss: 41.5970 - mse: 41.5970\n",
      "Epoch 24/100\n",
      "2/2 [==============================] - 0s 6ms/step - loss: 35.3965 - mse: 35.3965\n",
      "Epoch 25/100\n",
      "2/2 [==============================] - 0s 6ms/step - loss: 29.4486 - mse: 29.4486\n",
      "Epoch 26/100\n",
      "2/2 [==============================] - 0s 7ms/step - loss: 27.9724 - mse: 27.9724\n",
      "Epoch 27/100\n",
      "2/2 [==============================] - 0s 6ms/step - loss: 26.2985 - mse: 26.2985\n",
      "Epoch 28/100\n",
      "2/2 [==============================] - 0s 6ms/step - loss: 22.4251 - mse: 22.4251\n",
      "Epoch 29/100\n",
      "2/2 [==============================] - 0s 6ms/step - loss: 22.0552 - mse: 22.0552\n",
      "Epoch 30/100\n",
      "2/2 [==============================] - 0s 6ms/step - loss: 21.8388 - mse: 21.8388\n",
      "Epoch 31/100\n",
      "2/2 [==============================] - 0s 6ms/step - loss: 18.3890 - mse: 18.3890\n",
      "Epoch 32/100\n",
      "2/2 [==============================] - 0s 6ms/step - loss: 16.2868 - mse: 16.2868\n",
      "Epoch 33/100\n",
      "2/2 [==============================] - 0s 6ms/step - loss: 14.9812 - mse: 14.9812\n",
      "Epoch 34/100\n",
      "2/2 [==============================] - 0s 6ms/step - loss: 12.9214 - mse: 12.9214\n",
      "Epoch 35/100\n",
      "2/2 [==============================] - 0s 5ms/step - loss: 11.7347 - mse: 11.7347\n",
      "Epoch 36/100\n",
      "2/2 [==============================] - 0s 5ms/step - loss: 11.0703 - mse: 11.0703\n",
      "Epoch 37/100\n",
      "2/2 [==============================] - 0s 5ms/step - loss: 9.4808 - mse: 9.4808\n",
      "Epoch 38/100\n",
      "2/2 [==============================] - 0s 6ms/step - loss: 7.8816 - mse: 7.8816\n",
      "Epoch 39/100\n",
      "2/2 [==============================] - 0s 8ms/step - loss: 7.0124 - mse: 7.0124\n",
      "Epoch 40/100\n",
      "2/2 [==============================] - 0s 10ms/step - loss: 5.5676 - mse: 5.5676\n",
      "Epoch 41/100\n",
      "2/2 [==============================] - 0s 5ms/step - loss: 4.9665 - mse: 4.9665\n",
      "Epoch 42/100\n",
      "2/2 [==============================] - 0s 6ms/step - loss: 4.0984 - mse: 4.0984\n",
      "Epoch 43/100\n",
      "2/2 [==============================] - 0s 5ms/step - loss: 3.1209 - mse: 3.1209\n",
      "Epoch 44/100\n",
      "2/2 [==============================] - 0s 6ms/step - loss: 2.4231 - mse: 2.4231\n",
      "Epoch 45/100\n",
      "2/2 [==============================] - 0s 6ms/step - loss: 1.7687 - mse: 1.7687\n",
      "Epoch 46/100\n",
      "2/2 [==============================] - 0s 6ms/step - loss: 1.4714 - mse: 1.4714\n",
      "Epoch 47/100\n",
      "2/2 [==============================] - 0s 6ms/step - loss: 1.0060 - mse: 1.0060\n",
      "Epoch 48/100\n",
      "2/2 [==============================] - 0s 6ms/step - loss: 0.5972 - mse: 0.5972\n",
      "Epoch 49/100\n",
      "2/2 [==============================] - 0s 6ms/step - loss: 0.4991 - mse: 0.4991\n",
      "Epoch 50/100\n",
      "2/2 [==============================] - 0s 6ms/step - loss: 0.2831 - mse: 0.2831\n",
      "Epoch 51/100\n",
      "2/2 [==============================] - 0s 6ms/step - loss: 0.1394 - mse: 0.1394\n",
      "Epoch 52/100\n",
      "2/2 [==============================] - 0s 7ms/step - loss: 0.0821 - mse: 0.0821\n",
      "Epoch 53/100\n",
      "2/2 [==============================] - 0s 6ms/step - loss: 0.0182 - mse: 0.0182\n",
      "Epoch 54/100\n",
      "2/2 [==============================] - 0s 6ms/step - loss: 0.0126 - mse: 0.0126\n",
      "Epoch 55/100\n",
      "2/2 [==============================] - 0s 7ms/step - loss: 0.0057 - mse: 0.0057\n",
      "Epoch 56/100\n",
      "2/2 [==============================] - 0s 6ms/step - loss: 0.0297 - mse: 0.0297\n",
      "Epoch 57/100\n",
      "2/2 [==============================] - 0s 6ms/step - loss: 0.0344 - mse: 0.0344\n",
      "Epoch 58/100\n",
      "2/2 [==============================] - 0s 7ms/step - loss: 0.0432 - mse: 0.0432\n",
      "Epoch 59/100\n",
      "2/2 [==============================] - 0s 6ms/step - loss: 0.0542 - mse: 0.0542\n",
      "Epoch 60/100\n",
      "2/2 [==============================] - 0s 6ms/step - loss: 0.0547 - mse: 0.0547\n",
      "Epoch 61/100\n",
      "2/2 [==============================] - 0s 7ms/step - loss: 0.0559 - mse: 0.0559\n",
      "Epoch 62/100\n",
      "2/2 [==============================] - 0s 6ms/step - loss: 0.0513 - mse: 0.0513\n",
      "Epoch 63/100\n",
      "2/2 [==============================] - 0s 6ms/step - loss: 0.0462 - mse: 0.0462\n",
      "Epoch 64/100\n",
      "2/2 [==============================] - 0s 6ms/step - loss: 0.0409 - mse: 0.0409\n",
      "Epoch 65/100\n",
      "2/2 [==============================] - 0s 7ms/step - loss: 0.0324 - mse: 0.0324\n",
      "Epoch 66/100\n",
      "2/2 [==============================] - 0s 8ms/step - loss: 0.0245 - mse: 0.0245\n",
      "Epoch 67/100\n",
      "2/2 [==============================] - 0s 6ms/step - loss: 0.0177 - mse: 0.0177\n",
      "Epoch 68/100\n",
      "2/2 [==============================] - 0s 6ms/step - loss: 0.0124 - mse: 0.0124\n",
      "Epoch 69/100\n",
      "2/2 [==============================] - 0s 8ms/step - loss: 0.0086 - mse: 0.0086\n",
      "Epoch 70/100\n",
      "2/2 [==============================] - 0s 6ms/step - loss: 0.0046 - mse: 0.0046\n",
      "Epoch 71/100\n",
      "2/2 [==============================] - 0s 6ms/step - loss: 0.0028 - mse: 0.0028\n",
      "Epoch 72/100\n",
      "2/2 [==============================] - 0s 5ms/step - loss: 0.0016 - mse: 0.0016\n",
      "Epoch 73/100\n",
      "2/2 [==============================] - 0s 5ms/step - loss: 4.2764e-04 - mse: 4.2764e-04\n",
      "Epoch 74/100\n",
      "2/2 [==============================] - 0s 6ms/step - loss: 2.4176e-04 - mse: 2.4176e-04\n",
      "Epoch 75/100\n",
      "2/2 [==============================] - 0s 7ms/step - loss: 9.4596e-05 - mse: 9.4596e-05\n",
      "Epoch 76/100\n",
      "2/2 [==============================] - 0s 5ms/step - loss: 3.6072e-04 - mse: 3.6072e-04\n",
      "Epoch 77/100\n",
      "2/2 [==============================] - 0s 5ms/step - loss: 4.6430e-04 - mse: 4.6430e-04\n",
      "Epoch 78/100\n",
      "2/2 [==============================] - 0s 6ms/step - loss: 8.2366e-04 - mse: 8.2366e-04\n",
      "Epoch 79/100\n",
      "2/2 [==============================] - 0s 7ms/step - loss: 8.5101e-04 - mse: 8.5101e-04\n",
      "Epoch 80/100\n",
      "2/2 [==============================] - 0s 8ms/step - loss: 0.0011 - mse: 0.0011\n",
      "Epoch 81/100\n",
      "2/2 [==============================] - 0s 9ms/step - loss: 8.7600e-04 - mse: 8.7600e-04\n",
      "Epoch 82/100\n",
      "2/2 [==============================] - 0s 7ms/step - loss: 0.0013 - mse: 0.0013\n",
      "Epoch 83/100\n",
      "2/2 [==============================] - 0s 8ms/step - loss: 8.4719e-04 - mse: 8.4719e-04\n",
      "Epoch 84/100\n",
      "2/2 [==============================] - 0s 6ms/step - loss: 8.3610e-04 - mse: 8.3610e-04\n",
      "Epoch 85/100\n",
      "2/2 [==============================] - 0s 6ms/step - loss: 5.3148e-04 - mse: 5.3148e-04\n",
      "Epoch 86/100\n",
      "2/2 [==============================] - 0s 6ms/step - loss: 5.7463e-04 - mse: 5.7463e-04\n",
      "Epoch 87/100\n",
      "2/2 [==============================] - 0s 5ms/step - loss: 2.7424e-04 - mse: 2.7424e-04\n",
      "Epoch 88/100\n",
      "2/2 [==============================] - 0s 6ms/step - loss: 2.9125e-04 - mse: 2.9125e-04\n",
      "Epoch 89/100\n",
      "2/2 [==============================] - 0s 6ms/step - loss: 9.4647e-05 - mse: 9.4647e-05\n",
      "Epoch 90/100\n",
      "2/2 [==============================] - 0s 6ms/step - loss: 1.0612e-04 - mse: 1.0612e-04\n",
      "Epoch 91/100\n",
      "2/2 [==============================] - 0s 5ms/step - loss: 2.4047e-05 - mse: 2.4047e-05\n",
      "Epoch 92/100\n",
      "2/2 [==============================] - 0s 6ms/step - loss: 3.1530e-05 - mse: 3.1530e-05\n",
      "Epoch 93/100\n",
      "2/2 [==============================] - 0s 5ms/step - loss: 9.3375e-06 - mse: 9.3375e-06\n",
      "Epoch 94/100\n",
      "2/2 [==============================] - 0s 6ms/step - loss: 1.8887e-05 - mse: 1.8887e-05\n",
      "Epoch 95/100\n",
      "2/2 [==============================] - 0s 5ms/step - loss: 1.8347e-05 - mse: 1.8347e-05\n",
      "Epoch 96/100\n",
      "2/2 [==============================] - 0s 6ms/step - loss: 2.4736e-05 - mse: 2.4736e-05\n",
      "Epoch 97/100\n",
      "2/2 [==============================] - 0s 6ms/step - loss: 2.6501e-05 - mse: 2.6501e-05\n",
      "Epoch 98/100\n",
      "2/2 [==============================] - 0s 5ms/step - loss: 2.6967e-05 - mse: 2.6967e-05\n",
      "Epoch 99/100\n",
      "2/2 [==============================] - 0s 5ms/step - loss: 2.4648e-05 - mse: 2.4648e-05\n",
      "Epoch 100/100\n",
      "2/2 [==============================] - 0s 5ms/step - loss: 2.3266e-05 - mse: 2.3266e-05\n"
     ]
    },
    {
     "data": {
      "text/plain": [
       "<keras.src.callbacks.History at 0x796ccad1c7f0>"
      ]
     },
     "execution_count": 21,
     "metadata": {},
     "output_type": "execute_result"
    }
   ],
   "source": [
    "model.fit(X_train, y_train, epochs = 100)"
   ]
  },
  {
   "cell_type": "code",
   "execution_count": 22,
   "id": "c1d4a114",
   "metadata": {
    "execution": {
     "iopub.execute_input": "2023-11-30T06:12:19.682578Z",
     "iopub.status.busy": "2023-11-30T06:12:19.682174Z",
     "iopub.status.idle": "2023-11-30T06:12:19.816890Z",
     "shell.execute_reply": "2023-11-30T06:12:19.815679Z"
    },
    "papermill": {
     "duration": 0.241022,
     "end_time": "2023-11-30T06:12:19.819426",
     "exception": false,
     "start_time": "2023-11-30T06:12:19.578404",
     "status": "completed"
    },
    "tags": []
   },
   "outputs": [
    {
     "name": "stdout",
     "output_type": "stream",
     "text": [
      "1/1 [==============================] - 0s 71ms/step\n"
     ]
    },
    {
     "data": {
      "text/plain": [
       "array([[ 70.00506 ],\n",
       "       [ 74.005104],\n",
       "       [ 78.00512 ],\n",
       "       [ 82.005165],\n",
       "       [ 86.00518 ],\n",
       "       [ 90.00522 ],\n",
       "       [ 94.00523 ],\n",
       "       [ 98.00528 ],\n",
       "       [102.0053  ],\n",
       "       [106.00533 ]], dtype=float32)"
      ]
     },
     "execution_count": 22,
     "metadata": {},
     "output_type": "execute_result"
    }
   ],
   "source": [
    "y_preds = model.predict(X_test)\n",
    "y_preds"
   ]
  },
  {
   "cell_type": "code",
   "execution_count": 23,
   "id": "c2bba43c",
   "metadata": {
    "execution": {
     "iopub.execute_input": "2023-11-30T06:12:20.039505Z",
     "iopub.status.busy": "2023-11-30T06:12:20.039106Z",
     "iopub.status.idle": "2023-11-30T06:12:20.046506Z",
     "shell.execute_reply": "2023-11-30T06:12:20.045382Z"
    },
    "papermill": {
     "duration": 0.110287,
     "end_time": "2023-11-30T06:12:20.048781",
     "exception": false,
     "start_time": "2023-11-30T06:12:19.938494",
     "status": "completed"
    },
    "tags": []
   },
   "outputs": [],
   "source": [
    "def plot_predictions(train_data = X_train,\n",
    "                    train_label = y_train,\n",
    "                    test_data = X_test,\n",
    "                    test_label = y_test,\n",
    "                    predictions = y_preds):\n",
    "    plt.figure(figsize = [10,7])\n",
    "    plt.scatter(train_data, train_label, c=\"b\", label=\"training data\")\n",
    "    plt.scatter(test_data, test_label, c=\"g\", label=\"testing data\")\n",
    "    plt.scatter(test_data, predictions, c=\"r\", label=\"predictions\")\n",
    "    plt.legend();"
   ]
  },
  {
   "cell_type": "code",
   "execution_count": 24,
   "id": "bab4134e",
   "metadata": {
    "execution": {
     "iopub.execute_input": "2023-11-30T06:12:20.252192Z",
     "iopub.status.busy": "2023-11-30T06:12:20.251275Z",
     "iopub.status.idle": "2023-11-30T06:12:20.725086Z",
     "shell.execute_reply": "2023-11-30T06:12:20.723878Z"
    },
    "papermill": {
     "duration": 0.578563,
     "end_time": "2023-11-30T06:12:20.727568",
     "exception": false,
     "start_time": "2023-11-30T06:12:20.149005",
     "status": "completed"
    },
    "tags": []
   },
   "outputs": [
    {
     "data": {
      "image/png": "[encoded data removed]",
      "text/plain": [
       "<Figure size 1000x700 with 1 Axes>"
      ]
     },
     "metadata": {},
     "output_type": "display_data"
    }
   ],
   "source": [
    "plot_predictions(train_data = X_train,\n",
    "                    train_label = y_train,\n",
    "                    test_data = X_test,\n",
    "                    test_label = y_test,\n",
    "                    predictions = y_preds)"
   ]
  }
 ],
 "metadata": {
  "kaggle": {
   "accelerator": "none",
   "dataSources": [],
   "dockerImageVersionId": 30587,
   "isGpuEnabled": false,
   "isInternetEnabled": false,
   "language": "python",
   "sourceType": "notebook"
  },
  "kernelspec": {
   "display_name": "Python 3",
   "language": "python",
   "name": "python3"
  },
  "language_info": {
   "codemirror_mode": {
    "name": "ipython",
    "version": 3
   },
   "file_extension": ".py",
   "mimetype": "text/x-python",
   "name": "python",
   "nbconvert_exporter": "python",
   "pygments_lexer": "ipython3",
   "version": "3.10.12"
  },
  "papermill": {
   "default_parameters": {},
   "duration": 32.543506,
   "end_time": "2023-11-30T06:12:23.085379",
   "environment_variables": {},
   "exception": null,
   "input_path": "__notebook__.ipynb",
   "output_path": "__notebook__.ipynb",
   "parameters": {},
   "start_time": "2023-11-30T06:11:50.541873",
   "version": "2.4.0"
  }
 },
 "nbformat": 4,
 "nbformat_minor": 5
}
