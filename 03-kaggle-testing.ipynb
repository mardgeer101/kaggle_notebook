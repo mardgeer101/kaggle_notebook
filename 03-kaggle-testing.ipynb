{
 "cells": [
  {
   "cell_type": "code",
   "execution_count": 1,
   "id": "fa09e427",
   "metadata": {
    "execution": {
     "iopub.execute_input": "2023-12-01T14:48:06.635177Z",
     "iopub.status.busy": "2023-12-01T14:48:06.634466Z",
     "iopub.status.idle": "2023-12-01T14:48:21.301587Z",
     "shell.execute_reply": "2023-12-01T14:48:21.300540Z"
    },
    "papermill": {
     "duration": 14.679898,
     "end_time": "2023-12-01T14:48:21.304199",
     "exception": false,
     "start_time": "2023-12-01T14:48:06.624301",
     "status": "completed"
    },
    "tags": []
   },
   "outputs": [],
   "source": [
    "import tensorflow as tf\n",
    "import numpy as np\n",
    "import matplotlib.pyplot as plt\n",
    "from tensorflow.keras.utils import plot_model"
   ]
  },
  {
   "cell_type": "code",
   "execution_count": 2,
   "id": "1fdbe6f8",
   "metadata": {
    "execution": {
     "iopub.execute_input": "2023-12-01T14:48:21.321949Z",
     "iopub.status.busy": "2023-12-01T14:48:21.321273Z",
     "iopub.status.idle": "2023-12-01T14:48:21.419912Z",
     "shell.execute_reply": "2023-12-01T14:48:21.419199Z"
    },
    "papermill": {
     "duration": 0.109901,
     "end_time": "2023-12-01T14:48:21.422053",
     "exception": false,
     "start_time": "2023-12-01T14:48:21.312152",
     "status": "completed"
    },
    "tags": []
   },
   "outputs": [
    {
     "data": {
      "text/plain": [
       "(<tf.Tensor: shape=(50,), dtype=int32, numpy=\n",
       " array([-100,  -96,  -92,  -88,  -84,  -80,  -76,  -72,  -68,  -64,  -60,\n",
       "         -56,  -52,  -48,  -44,  -40,  -36,  -32,  -28,  -24,  -20,  -16,\n",
       "         -12,   -8,   -4,    0,    4,    8,   12,   16,   20,   24,   28,\n",
       "          32,   36,   40,   44,   48,   52,   56,   60,   64,   68,   72,\n",
       "          76,   80,   84,   88,   92,   96], dtype=int32)>,\n",
       " <tf.Tensor: shape=(50,), dtype=int32, numpy=\n",
       " array([-50, -46, -42, -38, -34, -30, -26, -22, -18, -14, -10,  -6,  -2,\n",
       "          2,   6,  10,  14,  18,  22,  26,  30,  34,  38,  42,  46,  50,\n",
       "         54,  58,  62,  66,  70,  74,  78,  82,  86,  90,  94,  98, 102,\n",
       "        106, 110, 114, 118, 122, 126, 130, 134, 138, 142, 146], dtype=int32)>)"
      ]
     },
     "execution_count": 2,
     "metadata": {},
     "output_type": "execute_result"
    }
   ],
   "source": [
    "X = tf.range(-100, 100, 4)\n",
    "y = X + 50\n",
    "\n",
    "X, y"
   ]
  },
  {
   "cell_type": "code",
   "execution_count": 3,
   "id": "0f5fb992",
   "metadata": {
    "execution": {
     "iopub.execute_input": "2023-12-01T14:48:21.439731Z",
     "iopub.status.busy": "2023-12-01T14:48:21.438818Z",
     "iopub.status.idle": "2023-12-01T14:48:21.458270Z",
     "shell.execute_reply": "2023-12-01T14:48:21.457230Z"
    },
    "papermill": {
     "duration": 0.030659,
     "end_time": "2023-12-01T14:48:21.460590",
     "exception": false,
     "start_time": "2023-12-01T14:48:21.429931",
     "status": "completed"
    },
    "tags": []
   },
   "outputs": [
    {
     "data": {
      "text/plain": [
       "(<tf.Tensor: shape=(40,), dtype=int32, numpy=\n",
       " array([-100,  -96,  -92,  -88,  -84,  -80,  -76,  -72,  -68,  -64,  -60,\n",
       "         -56,  -52,  -48,  -44,  -40,  -36,  -32,  -28,  -24,  -20,  -16,\n",
       "         -12,   -8,   -4,    0,    4,    8,   12,   16,   20,   24,   28,\n",
       "          32,   36,   40,   44,   48,   52,   56], dtype=int32)>,\n",
       " <tf.Tensor: shape=(40,), dtype=int32, numpy=\n",
       " array([-50, -46, -42, -38, -34, -30, -26, -22, -18, -14, -10,  -6,  -2,\n",
       "          2,   6,  10,  14,  18,  22,  26,  30,  34,  38,  42,  46,  50,\n",
       "         54,  58,  62,  66,  70,  74,  78,  82,  86,  90,  94,  98, 102,\n",
       "        106], dtype=int32)>,\n",
       " <tf.Tensor: shape=(10,), dtype=int32, numpy=array([60, 64, 68, 72, 76, 80, 84, 88, 92, 96], dtype=int32)>,\n",
       " <tf.Tensor: shape=(10,), dtype=int32, numpy=array([110, 114, 118, 122, 126, 130, 134, 138, 142, 146], dtype=int32)>)"
      ]
     },
     "execution_count": 3,
     "metadata": {},
     "output_type": "execute_result"
    }
   ],
   "source": [
    "X_train = X[:40]\n",
    "y_train = y[:40]\n",
    "\n",
    "X_test = X[40:]\n",
    "y_test = y[40:]\n",
    "\n",
    "X_train, y_train, X_test, y_test"
   ]
  },
  {
   "cell_type": "code",
   "execution_count": 4,
   "id": "df2dcf2e",
   "metadata": {
    "execution": {
     "iopub.execute_input": "2023-12-01T14:48:21.478304Z",
     "iopub.status.busy": "2023-12-01T14:48:21.477926Z",
     "iopub.status.idle": "2023-12-01T14:48:21.839089Z",
     "shell.execute_reply": "2023-12-01T14:48:21.837798Z"
    },
    "papermill": {
     "duration": 0.373255,
     "end_time": "2023-12-01T14:48:21.841883",
     "exception": false,
     "start_time": "2023-12-01T14:48:21.468628",
     "status": "completed"
    },
    "tags": []
   },
   "outputs": [
    {
     "data": {
      "image/png": "[encoded data removed]",
      "text/plain": [
       "<Figure size 1000x700 with 1 Axes>"
      ]
     },
     "metadata": {},
     "output_type": "display_data"
    }
   ],
   "source": [
    "plt.figure(figsize=[10,7])\n",
    "plt.scatter(X_train, y_train, c=\"b\", label=\"Training data\")\n",
    "plt.scatter(X_test, y_test, c=\"g\", label=\"Test data\")\n",
    "plt.legend();"
   ]
  },
  {
   "cell_type": "markdown",
   "id": "f6a9e9cd",
   "metadata": {
    "papermill": {
     "duration": 0.007974,
     "end_time": "2023-12-01T14:48:21.858723",
     "exception": false,
     "start_time": "2023-12-01T14:48:21.850749",
     "status": "completed"
    },
    "tags": []
   },
   "source": [
    "## Creating model_1\n",
    "\n",
    "### Parameters of model_1\n",
    "1. no. of layers = 1\n",
    "2. no. of neurons = 1\n",
    "3. loss = mae\n",
    "4. optimizer = SGD\n",
    "5. epochs = 100"
   ]
  },
  {
   "cell_type": "code",
   "execution_count": 5,
   "id": "36afdfd9",
   "metadata": {
    "execution": {
     "iopub.execute_input": "2023-12-01T14:48:21.877196Z",
     "iopub.status.busy": "2023-12-01T14:48:21.876839Z",
     "iopub.status.idle": "2023-12-01T14:48:21.979620Z",
     "shell.execute_reply": "2023-12-01T14:48:21.978396Z"
    },
    "papermill": {
     "duration": 0.114772,
     "end_time": "2023-12-01T14:48:21.982148",
     "exception": false,
     "start_time": "2023-12-01T14:48:21.867376",
     "status": "completed"
    },
    "tags": []
   },
   "outputs": [
    {
     "name": "stdout",
     "output_type": "stream",
     "text": [
      "Model: \"sequential\"\n",
      "_________________________________________________________________\n",
      " Layer (type)                Output Shape              Param #   \n",
      "=================================================================\n",
      " Layer_1 (Dense)             (None, 1)                 2         \n",
      "                                                                 \n",
      "=================================================================\n",
      "Total params: 2 (8.00 Byte)\n",
      "Trainable params: 2 (8.00 Byte)\n",
      "Non-trainable params: 0 (0.00 Byte)\n",
      "_________________________________________________________________\n"
     ]
    }
   ],
   "source": [
    "tf.random.set_seed(40)\n",
    "model_1 = tf.keras.Sequential([\n",
    "    tf.keras.layers.Dense(1, input_shape=[1], name=\"Layer_1\")\n",
    "])\n",
    "\n",
    "model_1.compile(loss = tf.keras.losses.mae,\n",
    "             optimizer = tf.keras.optimizers.SGD(),\n",
    "             metrics = [\"mae\"])\n",
    "\n",
    "model_1.summary()"
   ]
  },
  {
   "cell_type": "code",
   "execution_count": 6,
   "id": "121aeb54",
   "metadata": {
    "execution": {
     "iopub.execute_input": "2023-12-01T14:48:22.002504Z",
     "iopub.status.busy": "2023-12-01T14:48:22.002088Z",
     "iopub.status.idle": "2023-12-01T14:48:22.264700Z",
     "shell.execute_reply": "2023-12-01T14:48:22.263078Z"
    },
    "papermill": {
     "duration": 0.27634,
     "end_time": "2023-12-01T14:48:22.267865",
     "exception": false,
     "start_time": "2023-12-01T14:48:21.991525",
     "status": "completed"
    },
    "tags": []
   },
   "outputs": [
    {
     "data": {
      "image/png": "[encoded data removed]",
      "text/plain": [
       "<IPython.core.display.Image object>"
      ]
     },
     "execution_count": 6,
     "metadata": {},
     "output_type": "execute_result"
    }
   ],
   "source": [
    "plot_model(model_1, show_shapes=True)"
   ]
  },
  {
   "cell_type": "code",
   "execution_count": 7,
   "id": "04f0ff09",
   "metadata": {
    "execution": {
     "iopub.execute_input": "2023-12-01T14:48:22.287860Z",
     "iopub.status.busy": "2023-12-01T14:48:22.287482Z",
     "iopub.status.idle": "2023-12-01T14:48:25.283590Z",
     "shell.execute_reply": "2023-12-01T14:48:25.282611Z"
    },
    "papermill": {
     "duration": 3.008401,
     "end_time": "2023-12-01T14:48:25.285657",
     "exception": false,
     "start_time": "2023-12-01T14:48:22.277256",
     "status": "completed"
    },
    "tags": []
   },
   "outputs": [
    {
     "name": "stdout",
     "output_type": "stream",
     "text": [
      "Epoch 1/100\n",
      "2/2 [==============================] - 0s 11ms/step - loss: 54.3747 - mae: 54.3747\n",
      "Epoch 2/100\n",
      "2/2 [==============================] - 0s 4ms/step - loss: 44.7778 - mae: 44.7778\n",
      "Epoch 3/100\n",
      "2/2 [==============================] - 0s 3ms/step - loss: 38.2131 - mae: 38.2131\n",
      "Epoch 4/100\n",
      "2/2 [==============================] - 0s 5ms/step - loss: 39.7908 - mae: 39.7908\n",
      "Epoch 5/100\n",
      "2/2 [==============================] - 0s 4ms/step - loss: 38.7280 - mae: 38.7280\n",
      "Epoch 6/100\n",
      "2/2 [==============================] - 0s 5ms/step - loss: 38.0432 - mae: 38.0432\n",
      "Epoch 7/100\n",
      "2/2 [==============================] - 0s 6ms/step - loss: 38.2372 - mae: 38.2372\n",
      "Epoch 8/100\n",
      "2/2 [==============================] - 0s 4ms/step - loss: 39.6006 - mae: 39.6006\n",
      "Epoch 9/100\n",
      "2/2 [==============================] - 0s 4ms/step - loss: 40.5550 - mae: 40.5550\n",
      "Epoch 10/100\n",
      "2/2 [==============================] - 0s 7ms/step - loss: 39.9732 - mae: 39.9732\n",
      "Epoch 11/100\n",
      "2/2 [==============================] - 0s 5ms/step - loss: 38.3187 - mae: 38.3187\n",
      "Epoch 12/100\n",
      "2/2 [==============================] - 0s 6ms/step - loss: 41.0615 - mae: 41.0615\n",
      "Epoch 13/100\n",
      "2/2 [==============================] - 0s 6ms/step - loss: 38.4500 - mae: 38.4500\n",
      "Epoch 14/100\n",
      "2/2 [==============================] - 0s 6ms/step - loss: 39.5345 - mae: 39.5345\n",
      "Epoch 15/100\n",
      "2/2 [==============================] - 0s 4ms/step - loss: 40.9472 - mae: 40.9472\n",
      "Epoch 16/100\n",
      "2/2 [==============================] - 0s 6ms/step - loss: 43.4018 - mae: 43.4018\n",
      "Epoch 17/100\n",
      "2/2 [==============================] - 0s 4ms/step - loss: 38.0356 - mae: 38.0356\n",
      "Epoch 18/100\n",
      "2/2 [==============================] - 0s 4ms/step - loss: 39.8883 - mae: 39.8883\n",
      "Epoch 19/100\n",
      "2/2 [==============================] - 0s 7ms/step - loss: 40.7080 - mae: 40.7080\n",
      "Epoch 20/100\n",
      "2/2 [==============================] - 0s 6ms/step - loss: 38.0923 - mae: 38.0923\n",
      "Epoch 21/100\n",
      "2/2 [==============================] - 0s 6ms/step - loss: 37.9178 - mae: 37.9178\n",
      "Epoch 22/100\n",
      "2/2 [==============================] - 0s 7ms/step - loss: 39.1605 - mae: 39.1605\n",
      "Epoch 23/100\n",
      "2/2 [==============================] - 0s 4ms/step - loss: 38.7385 - mae: 38.7385\n",
      "Epoch 24/100\n",
      "2/2 [==============================] - 0s 6ms/step - loss: 39.5753 - mae: 39.5753\n",
      "Epoch 25/100\n",
      "2/2 [==============================] - 0s 5ms/step - loss: 37.9303 - mae: 37.9303\n",
      "Epoch 26/100\n",
      "2/2 [==============================] - 0s 7ms/step - loss: 39.0841 - mae: 39.0841\n",
      "Epoch 27/100\n",
      "2/2 [==============================] - 0s 6ms/step - loss: 38.0070 - mae: 38.0070\n",
      "Epoch 28/100\n",
      "2/2 [==============================] - 0s 5ms/step - loss: 38.8212 - mae: 38.8212\n",
      "Epoch 29/100\n",
      "2/2 [==============================] - 0s 5ms/step - loss: 40.2528 - mae: 40.2528\n",
      "Epoch 30/100\n",
      "2/2 [==============================] - 0s 5ms/step - loss: 40.4102 - mae: 40.4102\n",
      "Epoch 31/100\n",
      "2/2 [==============================] - 0s 5ms/step - loss: 38.3234 - mae: 38.3234\n",
      "Epoch 32/100\n",
      "2/2 [==============================] - 0s 5ms/step - loss: 37.8919 - mae: 37.8919\n",
      "Epoch 33/100\n",
      "2/2 [==============================] - 0s 6ms/step - loss: 38.2798 - mae: 38.2798\n",
      "Epoch 34/100\n",
      "2/2 [==============================] - 0s 6ms/step - loss: 38.1692 - mae: 38.1692\n",
      "Epoch 35/100\n",
      "2/2 [==============================] - 0s 5ms/step - loss: 42.1454 - mae: 42.1454\n",
      "Epoch 36/100\n",
      "2/2 [==============================] - 0s 5ms/step - loss: 39.1845 - mae: 39.1845\n",
      "Epoch 37/100\n",
      "2/2 [==============================] - 0s 4ms/step - loss: 38.1896 - mae: 38.1896\n",
      "Epoch 38/100\n",
      "2/2 [==============================] - 0s 6ms/step - loss: 37.9713 - mae: 37.9713\n",
      "Epoch 39/100\n",
      "2/2 [==============================] - 0s 5ms/step - loss: 37.7784 - mae: 37.7784\n",
      "Epoch 40/100\n",
      "2/2 [==============================] - 0s 6ms/step - loss: 38.0798 - mae: 38.0798\n",
      "Epoch 41/100\n",
      "2/2 [==============================] - 0s 6ms/step - loss: 37.8979 - mae: 37.8979\n",
      "Epoch 42/100\n",
      "2/2 [==============================] - 0s 7ms/step - loss: 39.8231 - mae: 39.8231\n",
      "Epoch 43/100\n",
      "2/2 [==============================] - 0s 5ms/step - loss: 42.5539 - mae: 42.5539\n",
      "Epoch 44/100\n",
      "2/2 [==============================] - 0s 6ms/step - loss: 38.3977 - mae: 38.3977\n",
      "Epoch 45/100\n",
      "2/2 [==============================] - 0s 5ms/step - loss: 37.5929 - mae: 37.5929\n",
      "Epoch 46/100\n",
      "2/2 [==============================] - 0s 7ms/step - loss: 39.8542 - mae: 39.8542\n",
      "Epoch 47/100\n",
      "2/2 [==============================] - 0s 6ms/step - loss: 37.8275 - mae: 37.8275\n",
      "Epoch 48/100\n",
      "2/2 [==============================] - 0s 5ms/step - loss: 37.8590 - mae: 37.8590\n",
      "Epoch 49/100\n",
      "2/2 [==============================] - 0s 6ms/step - loss: 40.6840 - mae: 40.6840\n",
      "Epoch 50/100\n",
      "2/2 [==============================] - 0s 5ms/step - loss: 37.9253 - mae: 37.9253\n",
      "Epoch 51/100\n",
      "2/2 [==============================] - 0s 6ms/step - loss: 37.5658 - mae: 37.5658\n",
      "Epoch 52/100\n",
      "2/2 [==============================] - 0s 8ms/step - loss: 37.5762 - mae: 37.5762\n",
      "Epoch 53/100\n",
      "2/2 [==============================] - 0s 6ms/step - loss: 39.1893 - mae: 39.1893\n",
      "Epoch 54/100\n",
      "2/2 [==============================] - 0s 5ms/step - loss: 39.0185 - mae: 39.0185\n",
      "Epoch 55/100\n",
      "2/2 [==============================] - 0s 6ms/step - loss: 39.7887 - mae: 39.7887\n",
      "Epoch 56/100\n",
      "2/2 [==============================] - 0s 6ms/step - loss: 37.6235 - mae: 37.6235\n",
      "Epoch 57/100\n",
      "2/2 [==============================] - 0s 6ms/step - loss: 38.8878 - mae: 38.8878\n",
      "Epoch 58/100\n",
      "2/2 [==============================] - 0s 6ms/step - loss: 39.1101 - mae: 39.1101\n",
      "Epoch 59/100\n",
      "2/2 [==============================] - 0s 8ms/step - loss: 37.4644 - mae: 37.4644\n",
      "Epoch 60/100\n",
      "2/2 [==============================] - 0s 4ms/step - loss: 38.5161 - mae: 38.5161\n",
      "Epoch 61/100\n",
      "2/2 [==============================] - 0s 7ms/step - loss: 39.4644 - mae: 39.4644\n",
      "Epoch 62/100\n",
      "2/2 [==============================] - 0s 7ms/step - loss: 37.9703 - mae: 37.9703\n",
      "Epoch 63/100\n",
      "2/2 [==============================] - 0s 7ms/step - loss: 38.4229 - mae: 38.4229\n",
      "Epoch 64/100\n",
      "2/2 [==============================] - 0s 5ms/step - loss: 37.7474 - mae: 37.7474\n",
      "Epoch 65/100\n",
      "2/2 [==============================] - 0s 6ms/step - loss: 37.5542 - mae: 37.5542\n",
      "Epoch 66/100\n",
      "2/2 [==============================] - 0s 5ms/step - loss: 38.1132 - mae: 38.1132\n",
      "Epoch 67/100\n",
      "2/2 [==============================] - 0s 5ms/step - loss: 41.1464 - mae: 41.1464\n",
      "Epoch 68/100\n",
      "2/2 [==============================] - 0s 5ms/step - loss: 38.1265 - mae: 38.1265\n",
      "Epoch 69/100\n",
      "2/2 [==============================] - 0s 5ms/step - loss: 38.2721 - mae: 38.2721\n",
      "Epoch 70/100\n",
      "2/2 [==============================] - 0s 5ms/step - loss: 37.9279 - mae: 37.9279\n",
      "Epoch 71/100\n",
      "2/2 [==============================] - 0s 4ms/step - loss: 37.6263 - mae: 37.6263\n",
      "Epoch 72/100\n",
      "2/2 [==============================] - 0s 7ms/step - loss: 37.3351 - mae: 37.3351\n",
      "Epoch 73/100\n",
      "2/2 [==============================] - 0s 4ms/step - loss: 37.3279 - mae: 37.3279\n",
      "Epoch 74/100\n",
      "2/2 [==============================] - 0s 7ms/step - loss: 37.3987 - mae: 37.3987\n",
      "Epoch 75/100\n",
      "2/2 [==============================] - 0s 5ms/step - loss: 37.3972 - mae: 37.3972\n",
      "Epoch 76/100\n",
      "2/2 [==============================] - 0s 6ms/step - loss: 40.0843 - mae: 40.0843\n",
      "Epoch 77/100\n",
      "2/2 [==============================] - 0s 5ms/step - loss: 37.3379 - mae: 37.3379\n",
      "Epoch 78/100\n",
      "2/2 [==============================] - 0s 4ms/step - loss: 38.1434 - mae: 38.1434\n",
      "Epoch 79/100\n",
      "2/2 [==============================] - 0s 4ms/step - loss: 40.3028 - mae: 40.3028\n",
      "Epoch 80/100\n",
      "2/2 [==============================] - 0s 6ms/step - loss: 38.5796 - mae: 38.5796\n",
      "Epoch 81/100\n",
      "2/2 [==============================] - 0s 4ms/step - loss: 38.9337 - mae: 38.9337\n",
      "Epoch 82/100\n",
      "2/2 [==============================] - 0s 4ms/step - loss: 37.5763 - mae: 37.5763\n",
      "Epoch 83/100\n",
      "2/2 [==============================] - 0s 4ms/step - loss: 38.4420 - mae: 38.4420\n",
      "Epoch 84/100\n",
      "2/2 [==============================] - 0s 5ms/step - loss: 38.1394 - mae: 38.1394\n",
      "Epoch 85/100\n",
      "2/2 [==============================] - 0s 5ms/step - loss: 39.2309 - mae: 39.2309\n",
      "Epoch 86/100\n",
      "2/2 [==============================] - 0s 8ms/step - loss: 38.6280 - mae: 38.6280\n",
      "Epoch 87/100\n",
      "2/2 [==============================] - 0s 7ms/step - loss: 39.9176 - mae: 39.9176\n",
      "Epoch 88/100\n",
      "2/2 [==============================] - 0s 5ms/step - loss: 38.0511 - mae: 38.0511\n",
      "Epoch 89/100\n",
      "2/2 [==============================] - 0s 4ms/step - loss: 37.4168 - mae: 37.4168\n",
      "Epoch 90/100\n",
      "2/2 [==============================] - 0s 5ms/step - loss: 41.7689 - mae: 41.7689\n",
      "Epoch 91/100\n",
      "2/2 [==============================] - 0s 5ms/step - loss: 37.6716 - mae: 37.6716\n",
      "Epoch 92/100\n",
      "2/2 [==============================] - 0s 5ms/step - loss: 43.7889 - mae: 43.7889\n",
      "Epoch 93/100\n",
      "2/2 [==============================] - 0s 7ms/step - loss: 37.1179 - mae: 37.1179\n",
      "Epoch 94/100\n",
      "2/2 [==============================] - 0s 5ms/step - loss: 37.8008 - mae: 37.8008\n",
      "Epoch 95/100\n",
      "2/2 [==============================] - 0s 6ms/step - loss: 40.6949 - mae: 40.6949\n",
      "Epoch 96/100\n",
      "2/2 [==============================] - 0s 6ms/step - loss: 37.7512 - mae: 37.7512\n",
      "Epoch 97/100\n",
      "2/2 [==============================] - 0s 6ms/step - loss: 38.0909 - mae: 38.0909\n",
      "Epoch 98/100\n",
      "2/2 [==============================] - 0s 5ms/step - loss: 40.7671 - mae: 40.7671\n",
      "Epoch 99/100\n",
      "2/2 [==============================] - 0s 6ms/step - loss: 38.0540 - mae: 38.0540\n",
      "Epoch 100/100\n",
      "2/2 [==============================] - 0s 8ms/step - loss: 39.5373 - mae: 39.5373\n"
     ]
    },
    {
     "data": {
      "text/plain": [
       "<keras.src.callbacks.History at 0x7e4cfb900880>"
      ]
     },
     "execution_count": 7,
     "metadata": {},
     "output_type": "execute_result"
    }
   ],
   "source": [
    "model_1.fit(X_train, y_train, epochs=100)"
   ]
  },
  {
   "cell_type": "code",
   "execution_count": 8,
   "id": "a8a8c37e",
   "metadata": {
    "execution": {
     "iopub.execute_input": "2023-12-01T14:48:25.343280Z",
     "iopub.status.busy": "2023-12-01T14:48:25.342875Z",
     "iopub.status.idle": "2023-12-01T14:48:25.499256Z",
     "shell.execute_reply": "2023-12-01T14:48:25.497906Z"
    },
    "papermill": {
     "duration": 0.188279,
     "end_time": "2023-12-01T14:48:25.501751",
     "exception": false,
     "start_time": "2023-12-01T14:48:25.313472",
     "status": "completed"
    },
    "tags": []
   },
   "outputs": [
    {
     "name": "stdout",
     "output_type": "stream",
     "text": [
      "1/1 [==============================] - 0s 78ms/step\n"
     ]
    },
    {
     "data": {
      "text/plain": [
       "(array([[28.148716],\n",
       "        [29.92638 ],\n",
       "        [31.704044],\n",
       "        [33.48171 ],\n",
       "        [35.259373],\n",
       "        [37.037037],\n",
       "        [38.8147  ],\n",
       "        [40.592365],\n",
       "        [42.37003 ],\n",
       "        [44.147697]], dtype=float32),\n",
       " <tf.Tensor: shape=(10,), dtype=int32, numpy=array([110, 114, 118, 122, 126, 130, 134, 138, 142, 146], dtype=int32)>)"
      ]
     },
     "execution_count": 8,
     "metadata": {},
     "output_type": "execute_result"
    }
   ],
   "source": [
    "y_pred_1 = model_1.predict(X_test)\n",
    "y_pred_1, y_test"
   ]
  },
  {
   "cell_type": "code",
   "execution_count": 9,
   "id": "534ffeb9",
   "metadata": {
    "execution": {
     "iopub.execute_input": "2023-12-01T14:48:25.565902Z",
     "iopub.status.busy": "2023-12-01T14:48:25.565477Z",
     "iopub.status.idle": "2023-12-01T14:48:25.936334Z",
     "shell.execute_reply": "2023-12-01T14:48:25.933605Z"
    },
    "papermill": {
     "duration": 0.406421,
     "end_time": "2023-12-01T14:48:25.939883",
     "exception": false,
     "start_time": "2023-12-01T14:48:25.533462",
     "status": "completed"
    },
    "tags": []
   },
   "outputs": [
    {
     "data": {
      "image/png": "[encoded data removed]",
      "text/plain": [
       "<Figure size 1000x700 with 1 Axes>"
      ]
     },
     "metadata": {},
     "output_type": "display_data"
    }
   ],
   "source": [
    "plt.figure(figsize=(10,7))\n",
    "plt.scatter(X_train, y_train, c=\"b\", label = \"Training data\")\n",
    "plt.scatter(X_test, y_test, c=\"g\", label = \"test data\")\n",
    "plt.scatter(X_test, y_pred_1, c=\"r\", label = \"predictions\")\n",
    "plt.legend();"
   ]
  },
  {
   "cell_type": "markdown",
   "id": "fb9041f9",
   "metadata": {
    "papermill": {
     "duration": 0.028399,
     "end_time": "2023-12-01T14:48:25.996957",
     "exception": false,
     "start_time": "2023-12-01T14:48:25.968558",
     "status": "completed"
    },
    "tags": []
   },
   "source": [
    "## Conclusion\n",
    "\n",
    "1. predicted values vs. test values are too far using simple model"
   ]
  },
  {
   "cell_type": "markdown",
   "id": "70121623",
   "metadata": {
    "papermill": {
     "duration": 0.028649,
     "end_time": "2023-12-01T14:48:26.160118",
     "exception": false,
     "start_time": "2023-12-01T14:48:26.131469",
     "status": "completed"
    },
    "tags": []
   },
   "source": [
    "## Creating model_2"
   ]
  },
  {
   "cell_type": "markdown",
   "id": "0f79af39",
   "metadata": {
    "papermill": {
     "duration": 0.028742,
     "end_time": "2023-12-01T14:48:26.218187",
     "exception": false,
     "start_time": "2023-12-01T14:48:26.189445",
     "status": "completed"
    },
    "tags": []
   },
   "source": [
    "### Parameters of model_2\n",
    "\n",
    "1. no. of layers = 2\n",
    "2. no. of neurons = 1 and 50\n",
    "3. loss = mae\n",
    "4. optimizer = SGD\n",
    "5. epochs = 100\n",
    "6. learning_rate = 0.01"
   ]
  },
  {
   "cell_type": "code",
   "execution_count": 10,
   "id": "0a5481cc",
   "metadata": {
    "execution": {
     "iopub.execute_input": "2023-12-01T14:48:26.277811Z",
     "iopub.status.busy": "2023-12-01T14:48:26.277464Z",
     "iopub.status.idle": "2023-12-01T14:48:26.349946Z",
     "shell.execute_reply": "2023-12-01T14:48:26.348933Z"
    },
    "papermill": {
     "duration": 0.102798,
     "end_time": "2023-12-01T14:48:26.351647",
     "exception": false,
     "start_time": "2023-12-01T14:48:26.248849",
     "status": "completed"
    },
    "tags": []
   },
   "outputs": [
    {
     "name": "stdout",
     "output_type": "stream",
     "text": [
      "Model: \"sequential_1\"\n",
      "_________________________________________________________________\n",
      " Layer (type)                Output Shape              Param #   \n",
      "=================================================================\n",
      " input_layer (Dense)         (None, 50)                100       \n",
      "                                                                 \n",
      " output_layer (Dense)        (None, 1)                 51        \n",
      "                                                                 \n",
      "=================================================================\n",
      "Total params: 151 (604.00 Byte)\n",
      "Trainable params: 151 (604.00 Byte)\n",
      "Non-trainable params: 0 (0.00 Byte)\n",
      "_________________________________________________________________\n"
     ]
    }
   ],
   "source": [
    "tf.random.set_seed(42)\n",
    "model_2 = tf.keras.Sequential([\n",
    "    tf.keras.layers.Dense(50, input_shape = [1],name=\"input_layer\"),\n",
    "    tf.keras.layers.Dense(1,name=\"output_layer\")\n",
    "])\n",
    "\n",
    "model_2.compile(loss = tf.keras.losses.mae,\n",
    "               optimizer = tf.keras.optimizers.SGD(learning_rate = 0.01),\n",
    "               metrics = [\"mae\"])\n",
    "\n",
    "model_2.summary()"
   ]
  },
  {
   "cell_type": "code",
   "execution_count": 11,
   "id": "f9c536e9",
   "metadata": {
    "execution": {
     "iopub.execute_input": "2023-12-01T14:48:26.412301Z",
     "iopub.status.busy": "2023-12-01T14:48:26.411508Z",
     "iopub.status.idle": "2023-12-01T14:48:26.459435Z",
     "shell.execute_reply": "2023-12-01T14:48:26.458385Z"
    },
    "papermill": {
     "duration": 0.080701,
     "end_time": "2023-12-01T14:48:26.461366",
     "exception": false,
     "start_time": "2023-12-01T14:48:26.380665",
     "status": "completed"
    },
    "tags": []
   },
   "outputs": [
    {
     "data": {
      "image/png": "[encoded data removed]",
      "text/plain": [
       "<IPython.core.display.Image object>"
      ]
     },
     "execution_count": 11,
     "metadata": {},
     "output_type": "execute_result"
    }
   ],
   "source": [
    "plot_model(model_2, show_shapes=True)"
   ]
  },
  {
   "cell_type": "code",
   "execution_count": 12,
   "id": "9f865ad8",
   "metadata": {
    "execution": {
     "iopub.execute_input": "2023-12-01T14:48:26.523032Z",
     "iopub.status.busy": "2023-12-01T14:48:26.521418Z",
     "iopub.status.idle": "2023-12-01T14:48:29.694597Z",
     "shell.execute_reply": "2023-12-01T14:48:29.693845Z"
    },
    "papermill": {
     "duration": 3.205836,
     "end_time": "2023-12-01T14:48:29.696964",
     "exception": false,
     "start_time": "2023-12-01T14:48:26.491128",
     "status": "completed"
    },
    "tags": []
   },
   "outputs": [
    {
     "name": "stdout",
     "output_type": "stream",
     "text": [
      "Epoch 1/100\n",
      "2/2 [==============================] - 0s 7ms/step - loss: 45.7585 - mae: 45.7585\n",
      "Epoch 2/100\n",
      "2/2 [==============================] - 0s 6ms/step - loss: 45.1202 - mae: 45.1202\n",
      "Epoch 3/100\n",
      "2/2 [==============================] - 0s 5ms/step - loss: 52.3196 - mae: 52.3196\n",
      "Epoch 4/100\n",
      "2/2 [==============================] - 0s 4ms/step - loss: 38.5493 - mae: 38.5493\n",
      "Epoch 5/100\n",
      "2/2 [==============================] - 0s 6ms/step - loss: 40.2419 - mae: 40.2419\n",
      "Epoch 6/100\n",
      "2/2 [==============================] - 0s 5ms/step - loss: 41.4587 - mae: 41.4587\n",
      "Epoch 7/100\n",
      "2/2 [==============================] - 0s 5ms/step - loss: 38.1411 - mae: 38.1411\n",
      "Epoch 8/100\n",
      "2/2 [==============================] - 0s 6ms/step - loss: 38.3307 - mae: 38.3307\n",
      "Epoch 9/100\n",
      "2/2 [==============================] - 0s 6ms/step - loss: 47.6113 - mae: 47.6113\n",
      "Epoch 10/100\n",
      "2/2 [==============================] - 0s 5ms/step - loss: 44.1363 - mae: 44.1363\n",
      "Epoch 11/100\n",
      "2/2 [==============================] - 0s 4ms/step - loss: 38.5783 - mae: 38.5783\n",
      "Epoch 12/100\n",
      "2/2 [==============================] - 0s 6ms/step - loss: 38.7481 - mae: 38.7481\n",
      "Epoch 13/100\n",
      "2/2 [==============================] - 0s 6ms/step - loss: 39.8746 - mae: 39.8746\n",
      "Epoch 14/100\n",
      "2/2 [==============================] - 0s 6ms/step - loss: 45.6292 - mae: 45.6292\n",
      "Epoch 15/100\n",
      "2/2 [==============================] - 0s 8ms/step - loss: 40.3110 - mae: 40.3110\n",
      "Epoch 16/100\n",
      "2/2 [==============================] - 0s 7ms/step - loss: 37.8226 - mae: 37.8226\n",
      "Epoch 17/100\n",
      "2/2 [==============================] - 0s 6ms/step - loss: 38.6515 - mae: 38.6515\n",
      "Epoch 18/100\n",
      "2/2 [==============================] - 0s 6ms/step - loss: 41.1310 - mae: 41.1310\n",
      "Epoch 19/100\n",
      "2/2 [==============================] - 0s 5ms/step - loss: 39.1112 - mae: 39.1112\n",
      "Epoch 20/100\n",
      "2/2 [==============================] - 0s 6ms/step - loss: 38.4344 - mae: 38.4344\n",
      "Epoch 21/100\n",
      "2/2 [==============================] - 0s 5ms/step - loss: 38.4682 - mae: 38.4682\n",
      "Epoch 22/100\n",
      "2/2 [==============================] - 0s 6ms/step - loss: 38.0800 - mae: 38.0800\n",
      "Epoch 23/100\n",
      "2/2 [==============================] - 0s 4ms/step - loss: 37.6968 - mae: 37.6968\n",
      "Epoch 24/100\n",
      "2/2 [==============================] - 0s 7ms/step - loss: 37.8546 - mae: 37.8546\n",
      "Epoch 25/100\n",
      "2/2 [==============================] - 0s 6ms/step - loss: 39.0305 - mae: 39.0305\n",
      "Epoch 26/100\n",
      "2/2 [==============================] - 0s 7ms/step - loss: 37.6483 - mae: 37.6483\n",
      "Epoch 27/100\n",
      "2/2 [==============================] - 0s 7ms/step - loss: 37.6382 - mae: 37.6382\n",
      "Epoch 28/100\n",
      "2/2 [==============================] - 0s 7ms/step - loss: 37.6548 - mae: 37.6548\n",
      "Epoch 29/100\n",
      "2/2 [==============================] - 0s 5ms/step - loss: 37.6713 - mae: 37.6713\n",
      "Epoch 30/100\n",
      "2/2 [==============================] - 0s 5ms/step - loss: 37.7038 - mae: 37.7038\n",
      "Epoch 31/100\n",
      "2/2 [==============================] - 0s 5ms/step - loss: 39.9954 - mae: 39.9954\n",
      "Epoch 32/100\n",
      "2/2 [==============================] - 0s 6ms/step - loss: 39.9883 - mae: 39.9883\n",
      "Epoch 33/100\n",
      "2/2 [==============================] - 0s 6ms/step - loss: 39.0146 - mae: 39.0146\n",
      "Epoch 34/100\n",
      "2/2 [==============================] - 0s 7ms/step - loss: 37.5080 - mae: 37.5080\n",
      "Epoch 35/100\n",
      "2/2 [==============================] - 0s 8ms/step - loss: 39.1030 - mae: 39.1030\n",
      "Epoch 36/100\n",
      "2/2 [==============================] - 0s 7ms/step - loss: 42.0407 - mae: 42.0407\n",
      "Epoch 37/100\n",
      "2/2 [==============================] - 0s 5ms/step - loss: 39.0415 - mae: 39.0415\n",
      "Epoch 38/100\n",
      "2/2 [==============================] - 0s 6ms/step - loss: 39.1685 - mae: 39.1685\n",
      "Epoch 39/100\n",
      "2/2 [==============================] - 0s 6ms/step - loss: 37.4777 - mae: 37.4777\n",
      "Epoch 40/100\n",
      "2/2 [==============================] - 0s 6ms/step - loss: 37.5621 - mae: 37.5621\n",
      "Epoch 41/100\n",
      "2/2 [==============================] - 0s 7ms/step - loss: 39.7142 - mae: 39.7142\n",
      "Epoch 42/100\n",
      "2/2 [==============================] - 0s 6ms/step - loss: 37.4319 - mae: 37.4319\n",
      "Epoch 43/100\n",
      "2/2 [==============================] - 0s 7ms/step - loss: 37.3740 - mae: 37.3740\n",
      "Epoch 44/100\n",
      "2/2 [==============================] - 0s 6ms/step - loss: 37.5864 - mae: 37.5864\n",
      "Epoch 45/100\n",
      "2/2 [==============================] - 0s 5ms/step - loss: 38.8743 - mae: 38.8743\n",
      "Epoch 46/100\n",
      "2/2 [==============================] - 0s 6ms/step - loss: 37.9229 - mae: 37.9229\n",
      "Epoch 47/100\n",
      "2/2 [==============================] - 0s 5ms/step - loss: 37.8429 - mae: 37.8429\n",
      "Epoch 48/100\n",
      "2/2 [==============================] - 0s 6ms/step - loss: 38.2687 - mae: 38.2687\n",
      "Epoch 49/100\n",
      "2/2 [==============================] - 0s 5ms/step - loss: 37.7195 - mae: 37.7195\n",
      "Epoch 50/100\n",
      "2/2 [==============================] - 0s 5ms/step - loss: 39.3698 - mae: 39.3698\n",
      "Epoch 51/100\n",
      "2/2 [==============================] - 0s 6ms/step - loss: 37.3852 - mae: 37.3852\n",
      "Epoch 52/100\n",
      "2/2 [==============================] - 0s 6ms/step - loss: 40.0068 - mae: 40.0068\n",
      "Epoch 53/100\n",
      "2/2 [==============================] - 0s 7ms/step - loss: 40.1411 - mae: 40.1411\n",
      "Epoch 54/100\n",
      "2/2 [==============================] - 0s 5ms/step - loss: 37.3410 - mae: 37.3410\n",
      "Epoch 55/100\n",
      "2/2 [==============================] - 0s 6ms/step - loss: 37.9731 - mae: 37.9731\n",
      "Epoch 56/100\n",
      "2/2 [==============================] - 0s 5ms/step - loss: 37.3852 - mae: 37.3852\n",
      "Epoch 57/100\n",
      "2/2 [==============================] - 0s 7ms/step - loss: 41.5776 - mae: 41.5776\n",
      "Epoch 58/100\n",
      "2/2 [==============================] - 0s 6ms/step - loss: 37.8458 - mae: 37.8458\n",
      "Epoch 59/100\n",
      "2/2 [==============================] - 0s 6ms/step - loss: 37.1052 - mae: 37.1052\n",
      "Epoch 60/100\n",
      "2/2 [==============================] - 0s 5ms/step - loss: 37.4246 - mae: 37.4246\n",
      "Epoch 61/100\n",
      "2/2 [==============================] - 0s 6ms/step - loss: 37.4921 - mae: 37.4921\n",
      "Epoch 62/100\n",
      "2/2 [==============================] - 0s 6ms/step - loss: 37.6885 - mae: 37.6885\n",
      "Epoch 63/100\n",
      "2/2 [==============================] - 0s 5ms/step - loss: 37.5313 - mae: 37.5313\n",
      "Epoch 64/100\n",
      "2/2 [==============================] - 0s 6ms/step - loss: 39.6139 - mae: 39.6139\n",
      "Epoch 65/100\n",
      "2/2 [==============================] - 0s 6ms/step - loss: 37.1056 - mae: 37.1056\n",
      "Epoch 66/100\n",
      "2/2 [==============================] - 0s 5ms/step - loss: 37.0936 - mae: 37.0936\n",
      "Epoch 67/100\n",
      "2/2 [==============================] - 0s 6ms/step - loss: 37.4852 - mae: 37.4852\n",
      "Epoch 68/100\n",
      "2/2 [==============================] - 0s 8ms/step - loss: 37.5416 - mae: 37.5416\n",
      "Epoch 69/100\n",
      "2/2 [==============================] - 0s 6ms/step - loss: 38.2693 - mae: 38.2693\n",
      "Epoch 70/100\n",
      "2/2 [==============================] - 0s 6ms/step - loss: 37.0378 - mae: 37.0378\n",
      "Epoch 71/100\n",
      "2/2 [==============================] - 0s 7ms/step - loss: 41.6868 - mae: 41.6868\n",
      "Epoch 72/100\n",
      "2/2 [==============================] - 0s 6ms/step - loss: 38.0173 - mae: 38.0173\n",
      "Epoch 73/100\n",
      "2/2 [==============================] - 0s 5ms/step - loss: 37.0090 - mae: 37.0090\n",
      "Epoch 74/100\n",
      "2/2 [==============================] - 0s 8ms/step - loss: 39.8396 - mae: 39.8396\n",
      "Epoch 75/100\n",
      "2/2 [==============================] - 0s 7ms/step - loss: 37.7849 - mae: 37.7849\n",
      "Epoch 76/100\n",
      "2/2 [==============================] - 0s 7ms/step - loss: 37.5744 - mae: 37.5744\n",
      "Epoch 77/100\n",
      "2/2 [==============================] - 0s 5ms/step - loss: 36.9826 - mae: 36.9826\n",
      "Epoch 78/100\n",
      "2/2 [==============================] - 0s 5ms/step - loss: 37.3061 - mae: 37.3061\n",
      "Epoch 79/100\n",
      "2/2 [==============================] - 0s 6ms/step - loss: 36.9454 - mae: 36.9454\n",
      "Epoch 80/100\n",
      "2/2 [==============================] - 0s 4ms/step - loss: 39.7478 - mae: 39.7478\n",
      "Epoch 81/100\n",
      "2/2 [==============================] - 0s 6ms/step - loss: 36.7228 - mae: 36.7228\n",
      "Epoch 82/100\n",
      "2/2 [==============================] - 0s 6ms/step - loss: 36.7523 - mae: 36.7523\n",
      "Epoch 83/100\n",
      "2/2 [==============================] - 0s 5ms/step - loss: 37.0798 - mae: 37.0798\n",
      "Epoch 84/100\n",
      "2/2 [==============================] - 0s 6ms/step - loss: 36.8230 - mae: 36.8230\n",
      "Epoch 85/100\n",
      "2/2 [==============================] - 0s 5ms/step - loss: 38.7543 - mae: 38.7543\n",
      "Epoch 86/100\n",
      "2/2 [==============================] - 0s 8ms/step - loss: 38.6649 - mae: 38.6649\n",
      "Epoch 87/100\n",
      "2/2 [==============================] - 0s 8ms/step - loss: 39.3444 - mae: 39.3444\n",
      "Epoch 88/100\n",
      "2/2 [==============================] - 0s 6ms/step - loss: 41.7329 - mae: 41.7329\n",
      "Epoch 89/100\n",
      "2/2 [==============================] - 0s 4ms/step - loss: 37.5976 - mae: 37.5976\n",
      "Epoch 90/100\n",
      "2/2 [==============================] - 0s 6ms/step - loss: 38.1955 - mae: 38.1955\n",
      "Epoch 91/100\n",
      "2/2 [==============================] - 0s 6ms/step - loss: 38.0601 - mae: 38.0601\n",
      "Epoch 92/100\n",
      "2/2 [==============================] - 0s 7ms/step - loss: 37.2451 - mae: 37.2451\n",
      "Epoch 93/100\n",
      "2/2 [==============================] - 0s 6ms/step - loss: 36.9311 - mae: 36.9311\n",
      "Epoch 94/100\n",
      "2/2 [==============================] - 0s 7ms/step - loss: 36.6188 - mae: 36.6188\n",
      "Epoch 95/100\n",
      "2/2 [==============================] - 0s 5ms/step - loss: 36.8954 - mae: 36.8954\n",
      "Epoch 96/100\n",
      "2/2 [==============================] - 0s 6ms/step - loss: 36.7506 - mae: 36.7506\n",
      "Epoch 97/100\n",
      "2/2 [==============================] - 0s 4ms/step - loss: 40.2115 - mae: 40.2115\n",
      "Epoch 98/100\n",
      "2/2 [==============================] - 0s 6ms/step - loss: 36.7843 - mae: 36.7843\n",
      "Epoch 99/100\n",
      "2/2 [==============================] - 0s 5ms/step - loss: 38.3153 - mae: 38.3153\n",
      "Epoch 100/100\n",
      "2/2 [==============================] - 0s 8ms/step - loss: 36.6216 - mae: 36.6216\n"
     ]
    },
    {
     "data": {
      "text/plain": [
       "<keras.src.callbacks.History at 0x7e4cfb7e9210>"
      ]
     },
     "execution_count": 12,
     "metadata": {},
     "output_type": "execute_result"
    }
   ],
   "source": [
    "model_2.fit(X_train, y_train, epochs = 100)"
   ]
  },
  {
   "cell_type": "code",
   "execution_count": 13,
   "id": "ad8ad239",
   "metadata": {
    "execution": {
     "iopub.execute_input": "2023-12-01T14:48:29.801369Z",
     "iopub.status.busy": "2023-12-01T14:48:29.800201Z",
     "iopub.status.idle": "2023-12-01T14:48:29.930661Z",
     "shell.execute_reply": "2023-12-01T14:48:29.929847Z"
    },
    "papermill": {
     "duration": 0.180342,
     "end_time": "2023-12-01T14:48:29.933442",
     "exception": false,
     "start_time": "2023-12-01T14:48:29.753100",
     "status": "completed"
    },
    "tags": []
   },
   "outputs": [
    {
     "name": "stdout",
     "output_type": "stream",
     "text": [
      "1/1 [==============================] - 0s 61ms/step\n"
     ]
    },
    {
     "data": {
      "text/plain": [
       "(array([[38.34573 ],\n",
       "        [40.741028],\n",
       "        [43.136326],\n",
       "        [45.531624],\n",
       "        [47.926918],\n",
       "        [50.322216],\n",
       "        [52.71751 ],\n",
       "        [55.112812],\n",
       "        [57.508106],\n",
       "        [59.903408]], dtype=float32),\n",
       " <tf.Tensor: shape=(10,), dtype=int32, numpy=array([110, 114, 118, 122, 126, 130, 134, 138, 142, 146], dtype=int32)>)"
      ]
     },
     "execution_count": 13,
     "metadata": {},
     "output_type": "execute_result"
    }
   ],
   "source": [
    "y_pred_2 = model_2.predict(X_test)\n",
    "y_pred_2, y_test"
   ]
  },
  {
   "cell_type": "code",
   "execution_count": 14,
   "id": "80d6913b",
   "metadata": {
    "execution": {
     "iopub.execute_input": "2023-12-01T14:48:30.051647Z",
     "iopub.status.busy": "2023-12-01T14:48:30.051232Z",
     "iopub.status.idle": "2023-12-01T14:48:30.486316Z",
     "shell.execute_reply": "2023-12-01T14:48:30.484523Z"
    },
    "papermill": {
     "duration": 0.502014,
     "end_time": "2023-12-01T14:48:30.489400",
     "exception": false,
     "start_time": "2023-12-01T14:48:29.987386",
     "status": "completed"
    },
    "tags": []
   },
   "outputs": [
    {
     "data": {
      "image/png": "[encoded data removed]",
      "text/plain": [
       "<Figure size 1000x700 with 1 Axes>"
      ]
     },
     "metadata": {},
     "output_type": "display_data"
    }
   ],
   "source": [
    "plt.figure(figsize = [10,7])\n",
    "plt.scatter(X_train, y_train, c=\"b\", label = \"Training data\")\n",
    "plt.scatter(X_test, y_test, c=\"g\", label = \"Test data\")\n",
    "plt.scatter(X_test, y_pred_1, c=\"r\", label = \"prediction 1\")\n",
    "plt.scatter(X_test, y_pred_2, c=\"c\", label = \"prediction 2\")\n",
    "plt.legend();"
   ]
  },
  {
   "cell_type": "markdown",
   "id": "6feba697",
   "metadata": {
    "papermill": {
     "duration": 0.04973,
     "end_time": "2023-12-01T14:48:30.590602",
     "exception": false,
     "start_time": "2023-12-01T14:48:30.540872",
     "status": "completed"
    },
    "tags": []
   },
   "source": [
    "### Conclusion\n",
    "1. model_2 precision increase when the layers and neurons increases\n",
    "2. learning_rate of 0.01 also played significant part"
   ]
  },
  {
   "cell_type": "markdown",
   "id": "ce3ef0b9",
   "metadata": {
    "papermill": {
     "duration": 0.046682,
     "end_time": "2023-12-01T14:48:30.685204",
     "exception": false,
     "start_time": "2023-12-01T14:48:30.638522",
     "status": "completed"
    },
    "tags": []
   },
   "source": [
    "## Creating model_3"
   ]
  },
  {
   "cell_type": "markdown",
   "id": "a0cef0e1",
   "metadata": {
    "execution": {
     "iopub.execute_input": "2023-12-01T14:00:14.269759Z",
     "iopub.status.busy": "2023-12-01T14:00:14.269310Z",
     "iopub.status.idle": "2023-12-01T14:00:14.278744Z",
     "shell.execute_reply": "2023-12-01T14:00:14.276921Z",
     "shell.execute_reply.started": "2023-12-01T14:00:14.269729Z"
    },
    "papermill": {
     "duration": 0.045975,
     "end_time": "2023-12-01T14:48:30.777914",
     "exception": false,
     "start_time": "2023-12-01T14:48:30.731939",
     "status": "completed"
    },
    "tags": []
   },
   "source": [
    "### Parameters of model_2\n",
    "\n",
    "1. no. of layers = 2\n",
    "2. no. of neurons = 1 and 50\n",
    "3. loss = mae\n",
    "4. optimizer = Adam\n",
    "5. epochs = 100\n",
    "6. learning_rate = 0.01"
   ]
  },
  {
   "cell_type": "code",
   "execution_count": 15,
   "id": "e00cc274",
   "metadata": {
    "execution": {
     "iopub.execute_input": "2023-12-01T14:48:30.872891Z",
     "iopub.status.busy": "2023-12-01T14:48:30.872138Z",
     "iopub.status.idle": "2023-12-01T14:48:30.954311Z",
     "shell.execute_reply": "2023-12-01T14:48:30.952557Z"
    },
    "papermill": {
     "duration": 0.133084,
     "end_time": "2023-12-01T14:48:30.957058",
     "exception": false,
     "start_time": "2023-12-01T14:48:30.823974",
     "status": "completed"
    },
    "tags": []
   },
   "outputs": [
    {
     "name": "stdout",
     "output_type": "stream",
     "text": [
      "Model: \"sequential_2\"\n",
      "_________________________________________________________________\n",
      " Layer (type)                Output Shape              Param #   \n",
      "=================================================================\n",
      " input_layer (Dense)         (None, 50)                100       \n",
      "                                                                 \n",
      " output_layer (Dense)        (None, 1)                 51        \n",
      "                                                                 \n",
      "=================================================================\n",
      "Total params: 151 (604.00 Byte)\n",
      "Trainable params: 151 (604.00 Byte)\n",
      "Non-trainable params: 0 (0.00 Byte)\n",
      "_________________________________________________________________\n"
     ]
    }
   ],
   "source": [
    "tf.random.set_seed(42)\n",
    "\n",
    "model_3 = tf.keras.Sequential([\n",
    "    tf.keras.layers.Dense(50,input_shape = [1],name=\"input_layer\"),\n",
    "    tf.keras.layers.Dense(1,name=\"output_layer\")\n",
    "])\n",
    "\n",
    "model_3.compile(loss = tf.keras.losses.mae,\n",
    "               optimizer = tf.keras.optimizers.Adam(learning_rate=0.01),\n",
    "               metrics = [\"mae\"])\n",
    "\n",
    "model_3.summary()"
   ]
  },
  {
   "cell_type": "code",
   "execution_count": 16,
   "id": "baaae229",
   "metadata": {
    "execution": {
     "iopub.execute_input": "2023-12-01T14:48:31.060711Z",
     "iopub.status.busy": "2023-12-01T14:48:31.060308Z",
     "iopub.status.idle": "2023-12-01T14:48:31.106506Z",
     "shell.execute_reply": "2023-12-01T14:48:31.105503Z"
    },
    "papermill": {
     "duration": 0.099346,
     "end_time": "2023-12-01T14:48:31.108461",
     "exception": false,
     "start_time": "2023-12-01T14:48:31.009115",
     "status": "completed"
    },
    "tags": []
   },
   "outputs": [
    {
     "data": {
      "image/png": "[encoded data removed]",
      "text/plain": [
       "<IPython.core.display.Image object>"
      ]
     },
     "execution_count": 16,
     "metadata": {},
     "output_type": "execute_result"
    }
   ],
   "source": [
    "plot_model(model_3, show_shapes=True)"
   ]
  },
  {
   "cell_type": "code",
   "execution_count": 17,
   "id": "f1a12990",
   "metadata": {
    "execution": {
     "iopub.execute_input": "2023-12-01T14:48:31.207451Z",
     "iopub.status.busy": "2023-12-01T14:48:31.206918Z",
     "iopub.status.idle": "2023-12-01T14:48:32.909264Z",
     "shell.execute_reply": "2023-12-01T14:48:32.907740Z"
    },
    "papermill": {
     "duration": 1.754163,
     "end_time": "2023-12-01T14:48:32.912028",
     "exception": false,
     "start_time": "2023-12-01T14:48:31.157865",
     "status": "completed"
    },
    "tags": []
   },
   "outputs": [
    {
     "name": "stdout",
     "output_type": "stream",
     "text": [
      "Epoch 1/100\n",
      "2/2 [==============================] - 0s 9ms/step - loss: 58.9145 - mae: 58.9145\n",
      "Epoch 2/100\n",
      "2/2 [==============================] - 0s 5ms/step - loss: 48.8899 - mae: 48.8899\n",
      "Epoch 3/100\n",
      "2/2 [==============================] - 0s 7ms/step - loss: 41.4924 - mae: 41.4924\n",
      "Epoch 4/100\n",
      "2/2 [==============================] - 0s 5ms/step - loss: 37.3265 - mae: 37.3265\n",
      "Epoch 5/100\n",
      "2/2 [==============================] - 0s 6ms/step - loss: 40.6592 - mae: 40.6592\n",
      "Epoch 6/100\n",
      "2/2 [==============================] - 0s 6ms/step - loss: 43.3605 - mae: 43.3605\n",
      "Epoch 7/100\n",
      "2/2 [==============================] - 0s 5ms/step - loss: 43.7162 - mae: 43.7162\n",
      "Epoch 8/100\n",
      "2/2 [==============================] - 0s 6ms/step - loss: 42.2050 - mae: 42.2050\n",
      "Epoch 9/100\n",
      "2/2 [==============================] - 0s 7ms/step - loss: 40.1701 - mae: 40.1701\n",
      "Epoch 10/100\n",
      "2/2 [==============================] - 0s 6ms/step - loss: 37.7640 - mae: 37.7640\n",
      "Epoch 11/100\n",
      "2/2 [==============================] - 0s 5ms/step - loss: 37.1213 - mae: 37.1213\n",
      "Epoch 12/100\n",
      "2/2 [==============================] - 0s 5ms/step - loss: 37.8783 - mae: 37.8783\n",
      "Epoch 13/100\n",
      "2/2 [==============================] - 0s 6ms/step - loss: 38.3282 - mae: 38.3282\n",
      "Epoch 14/100\n",
      "2/2 [==============================] - 0s 5ms/step - loss: 37.9019 - mae: 37.9019\n",
      "Epoch 15/100\n",
      "2/2 [==============================] - 0s 6ms/step - loss: 37.0737 - mae: 37.0737\n",
      "Epoch 16/100\n",
      "2/2 [==============================] - 0s 7ms/step - loss: 36.6992 - mae: 36.6992\n",
      "Epoch 17/100\n",
      "2/2 [==============================] - 0s 4ms/step - loss: 36.3965 - mae: 36.3965\n",
      "Epoch 18/100\n",
      "2/2 [==============================] - 0s 7ms/step - loss: 36.5228 - mae: 36.5228\n",
      "Epoch 19/100\n",
      "2/2 [==============================] - 0s 5ms/step - loss: 36.4013 - mae: 36.4013\n",
      "Epoch 20/100\n",
      "2/2 [==============================] - 0s 6ms/step - loss: 36.1132 - mae: 36.1132\n",
      "Epoch 21/100\n",
      "2/2 [==============================] - 0s 5ms/step - loss: 35.9007 - mae: 35.9007\n",
      "Epoch 22/100\n",
      "2/2 [==============================] - 0s 5ms/step - loss: 35.9057 - mae: 35.9057\n",
      "Epoch 23/100\n",
      "2/2 [==============================] - 0s 6ms/step - loss: 35.8473 - mae: 35.8473\n",
      "Epoch 24/100\n",
      "2/2 [==============================] - 0s 5ms/step - loss: 35.7525 - mae: 35.7525\n",
      "Epoch 25/100\n",
      "2/2 [==============================] - 0s 6ms/step - loss: 35.5119 - mae: 35.5119\n",
      "Epoch 26/100\n",
      "2/2 [==============================] - 0s 7ms/step - loss: 35.2542 - mae: 35.2542\n",
      "Epoch 27/100\n",
      "2/2 [==============================] - 0s 5ms/step - loss: 35.1187 - mae: 35.1187\n",
      "Epoch 28/100\n",
      "2/2 [==============================] - 0s 4ms/step - loss: 34.9827 - mae: 34.9827\n",
      "Epoch 29/100\n",
      "2/2 [==============================] - 0s 6ms/step - loss: 34.7637 - mae: 34.7637\n",
      "Epoch 30/100\n",
      "2/2 [==============================] - 0s 5ms/step - loss: 34.5801 - mae: 34.5801\n",
      "Epoch 31/100\n",
      "2/2 [==============================] - 0s 5ms/step - loss: 34.4095 - mae: 34.4095\n",
      "Epoch 32/100\n",
      "2/2 [==============================] - 0s 6ms/step - loss: 34.1924 - mae: 34.1924\n",
      "Epoch 33/100\n",
      "2/2 [==============================] - 0s 6ms/step - loss: 34.1275 - mae: 34.1275\n",
      "Epoch 34/100\n",
      "2/2 [==============================] - 0s 5ms/step - loss: 33.9541 - mae: 33.9541\n",
      "Epoch 35/100\n",
      "2/2 [==============================] - 0s 4ms/step - loss: 33.7442 - mae: 33.7442\n",
      "Epoch 36/100\n",
      "2/2 [==============================] - 0s 4ms/step - loss: 33.5258 - mae: 33.5258\n",
      "Epoch 37/100\n",
      "2/2 [==============================] - 0s 7ms/step - loss: 33.3440 - mae: 33.3440\n",
      "Epoch 38/100\n",
      "2/2 [==============================] - 0s 6ms/step - loss: 32.9119 - mae: 32.9119\n",
      "Epoch 39/100\n",
      "2/2 [==============================] - 0s 6ms/step - loss: 32.5884 - mae: 32.5884\n",
      "Epoch 40/100\n",
      "2/2 [==============================] - 0s 5ms/step - loss: 32.1446 - mae: 32.1446\n",
      "Epoch 41/100\n",
      "2/2 [==============================] - 0s 5ms/step - loss: 31.8628 - mae: 31.8628\n",
      "Epoch 42/100\n",
      "2/2 [==============================] - 0s 6ms/step - loss: 31.8076 - mae: 31.8076\n",
      "Epoch 43/100\n",
      "2/2 [==============================] - 0s 5ms/step - loss: 31.2704 - mae: 31.2704\n",
      "Epoch 44/100\n",
      "2/2 [==============================] - 0s 5ms/step - loss: 30.6133 - mae: 30.6133\n",
      "Epoch 45/100\n",
      "2/2 [==============================] - 0s 5ms/step - loss: 30.7740 - mae: 30.7740\n",
      "Epoch 46/100\n",
      "2/2 [==============================] - 0s 4ms/step - loss: 30.7279 - mae: 30.7279\n",
      "Epoch 47/100\n",
      "2/2 [==============================] - 0s 6ms/step - loss: 29.7766 - mae: 29.7766\n",
      "Epoch 48/100\n",
      "2/2 [==============================] - 0s 6ms/step - loss: 28.9066 - mae: 28.9066\n",
      "Epoch 49/100\n",
      "2/2 [==============================] - 0s 4ms/step - loss: 28.5946 - mae: 28.5946\n",
      "Epoch 50/100\n",
      "2/2 [==============================] - 0s 4ms/step - loss: 27.8373 - mae: 27.8373\n",
      "Epoch 51/100\n",
      "2/2 [==============================] - 0s 4ms/step - loss: 27.5071 - mae: 27.5071\n",
      "Epoch 52/100\n",
      "2/2 [==============================] - 0s 4ms/step - loss: 26.8968 - mae: 26.8968\n",
      "Epoch 53/100\n",
      "2/2 [==============================] - 0s 5ms/step - loss: 26.1590 - mae: 26.1590\n",
      "Epoch 54/100\n",
      "2/2 [==============================] - 0s 4ms/step - loss: 25.4199 - mae: 25.4199\n",
      "Epoch 55/100\n",
      "2/2 [==============================] - 0s 5ms/step - loss: 25.3847 - mae: 25.3847\n",
      "Epoch 56/100\n",
      "2/2 [==============================] - 0s 4ms/step - loss: 23.8043 - mae: 23.8043\n",
      "Epoch 57/100\n",
      "2/2 [==============================] - 0s 4ms/step - loss: 24.0624 - mae: 24.0624\n",
      "Epoch 58/100\n",
      "2/2 [==============================] - 0s 5ms/step - loss: 24.9904 - mae: 24.9904\n",
      "Epoch 59/100\n",
      "2/2 [==============================] - 0s 4ms/step - loss: 22.5265 - mae: 22.5265\n",
      "Epoch 60/100\n",
      "2/2 [==============================] - 0s 5ms/step - loss: 22.0756 - mae: 22.0756\n",
      "Epoch 61/100\n",
      "2/2 [==============================] - 0s 6ms/step - loss: 22.2970 - mae: 22.2970\n",
      "Epoch 62/100\n",
      "2/2 [==============================] - 0s 5ms/step - loss: 19.1904 - mae: 19.1904\n",
      "Epoch 63/100\n",
      "2/2 [==============================] - 0s 6ms/step - loss: 20.1865 - mae: 20.1865\n",
      "Epoch 64/100\n",
      "2/2 [==============================] - 0s 4ms/step - loss: 18.1560 - mae: 18.1560\n",
      "Epoch 65/100\n",
      "2/2 [==============================] - 0s 5ms/step - loss: 15.9201 - mae: 15.9201\n",
      "Epoch 66/100\n",
      "2/2 [==============================] - 0s 5ms/step - loss: 14.9216 - mae: 14.9216\n",
      "Epoch 67/100\n",
      "2/2 [==============================] - 0s 6ms/step - loss: 13.7371 - mae: 13.7371\n",
      "Epoch 68/100\n",
      "2/2 [==============================] - 0s 5ms/step - loss: 12.4432 - mae: 12.4432\n",
      "Epoch 69/100\n",
      "2/2 [==============================] - 0s 4ms/step - loss: 11.1446 - mae: 11.1446\n",
      "Epoch 70/100\n",
      "2/2 [==============================] - 0s 6ms/step - loss: 10.2580 - mae: 10.2580\n",
      "Epoch 71/100\n",
      "2/2 [==============================] - 0s 6ms/step - loss: 8.2093 - mae: 8.2093\n",
      "Epoch 72/100\n",
      "2/2 [==============================] - 0s 7ms/step - loss: 8.1798 - mae: 8.1798\n",
      "Epoch 73/100\n",
      "2/2 [==============================] - 0s 7ms/step - loss: 6.2600 - mae: 6.2600\n",
      "Epoch 74/100\n",
      "2/2 [==============================] - 0s 6ms/step - loss: 4.2761 - mae: 4.2761\n",
      "Epoch 75/100\n",
      "2/2 [==============================] - 0s 6ms/step - loss: 7.4251 - mae: 7.4251\n",
      "Epoch 76/100\n",
      "2/2 [==============================] - 0s 6ms/step - loss: 2.5940 - mae: 2.5940\n",
      "Epoch 77/100\n",
      "2/2 [==============================] - 0s 6ms/step - loss: 7.7361 - mae: 7.7361\n",
      "Epoch 78/100\n",
      "2/2 [==============================] - 0s 5ms/step - loss: 2.6853 - mae: 2.6853\n",
      "Epoch 79/100\n",
      "2/2 [==============================] - 0s 6ms/step - loss: 3.5450 - mae: 3.5450\n",
      "Epoch 80/100\n",
      "2/2 [==============================] - 0s 5ms/step - loss: 3.5734 - mae: 3.5734\n",
      "Epoch 81/100\n",
      "2/2 [==============================] - 0s 7ms/step - loss: 4.6924 - mae: 4.6924\n",
      "Epoch 82/100\n",
      "2/2 [==============================] - 0s 5ms/step - loss: 2.1376 - mae: 2.1376\n",
      "Epoch 83/100\n",
      "2/2 [==============================] - 0s 5ms/step - loss: 5.0048 - mae: 5.0048\n",
      "Epoch 84/100\n",
      "2/2 [==============================] - 0s 6ms/step - loss: 1.7202 - mae: 1.7202\n",
      "Epoch 85/100\n",
      "2/2 [==============================] - 0s 5ms/step - loss: 3.9617 - mae: 3.9617\n",
      "Epoch 86/100\n",
      "2/2 [==============================] - 0s 4ms/step - loss: 4.0803 - mae: 4.0803\n",
      "Epoch 87/100\n",
      "2/2 [==============================] - 0s 4ms/step - loss: 2.9763 - mae: 2.9763\n",
      "Epoch 88/100\n",
      "2/2 [==============================] - 0s 4ms/step - loss: 3.3128 - mae: 3.3128\n",
      "Epoch 89/100\n",
      "2/2 [==============================] - 0s 4ms/step - loss: 1.7971 - mae: 1.7971\n",
      "Epoch 90/100\n",
      "2/2 [==============================] - 0s 4ms/step - loss: 1.6882 - mae: 1.6882\n",
      "Epoch 91/100\n",
      "2/2 [==============================] - 0s 4ms/step - loss: 2.9107 - mae: 2.9107\n",
      "Epoch 92/100\n",
      "2/2 [==============================] - 0s 5ms/step - loss: 4.0889 - mae: 4.0889\n",
      "Epoch 93/100\n",
      "2/2 [==============================] - 0s 5ms/step - loss: 3.7179 - mae: 3.7179\n",
      "Epoch 94/100\n",
      "2/2 [==============================] - 0s 4ms/step - loss: 5.3804 - mae: 5.3804\n",
      "Epoch 95/100\n",
      "2/2 [==============================] - 0s 4ms/step - loss: 4.9736 - mae: 4.9736\n",
      "Epoch 96/100\n",
      "2/2 [==============================] - 0s 8ms/step - loss: 5.0472 - mae: 5.0472\n",
      "Epoch 97/100\n",
      "2/2 [==============================] - 0s 5ms/step - loss: 6.0112 - mae: 6.0112\n",
      "Epoch 98/100\n",
      "2/2 [==============================] - 0s 7ms/step - loss: 2.3500 - mae: 2.3500\n",
      "Epoch 99/100\n",
      "2/2 [==============================] - 0s 6ms/step - loss: 2.5737 - mae: 2.5737\n",
      "Epoch 100/100\n",
      "2/2 [==============================] - 0s 5ms/step - loss: 6.0544 - mae: 6.0544\n"
     ]
    },
    {
     "data": {
      "text/plain": [
       "<keras.src.callbacks.History at 0x7e4cfb901030>"
      ]
     },
     "execution_count": 17,
     "metadata": {},
     "output_type": "execute_result"
    }
   ],
   "source": [
    "model_3.fit(X_train, y_train, epochs = 100)"
   ]
  },
  {
   "cell_type": "code",
   "execution_count": 18,
   "id": "5a4951f8",
   "metadata": {
    "execution": {
     "iopub.execute_input": "2023-12-01T14:48:33.047620Z",
     "iopub.status.busy": "2023-12-01T14:48:33.046555Z",
     "iopub.status.idle": "2023-12-01T14:48:33.150269Z",
     "shell.execute_reply": "2023-12-01T14:48:33.148998Z"
    },
    "papermill": {
     "duration": 0.172235,
     "end_time": "2023-12-01T14:48:33.152720",
     "exception": false,
     "start_time": "2023-12-01T14:48:32.980485",
     "status": "completed"
    },
    "tags": []
   },
   "outputs": [
    {
     "name": "stdout",
     "output_type": "stream",
     "text": [
      "1/1 [==============================] - 0s 47ms/step\n"
     ]
    },
    {
     "data": {
      "text/plain": [
       "(array([[ 98.96968],\n",
       "        [102.23759],\n",
       "        [105.50549],\n",
       "        [108.77342],\n",
       "        [112.04132],\n",
       "        [115.30923],\n",
       "        [118.57715],\n",
       "        [121.84506],\n",
       "        [125.11297],\n",
       "        [128.38087]], dtype=float32),\n",
       " <tf.Tensor: shape=(10,), dtype=int32, numpy=array([110, 114, 118, 122, 126, 130, 134, 138, 142, 146], dtype=int32)>)"
      ]
     },
     "execution_count": 18,
     "metadata": {},
     "output_type": "execute_result"
    }
   ],
   "source": [
    "y_pred_3 = model_3.predict(X_test)\n",
    "y_pred_3, y_test"
   ]
  },
  {
   "cell_type": "code",
   "execution_count": 19,
   "id": "6c29682c",
   "metadata": {
    "execution": {
     "iopub.execute_input": "2023-12-01T14:48:33.286339Z",
     "iopub.status.busy": "2023-12-01T14:48:33.285702Z",
     "iopub.status.idle": "2023-12-01T14:48:33.702286Z",
     "shell.execute_reply": "2023-12-01T14:48:33.700921Z"
    },
    "papermill": {
     "duration": 0.485245,
     "end_time": "2023-12-01T14:48:33.704725",
     "exception": false,
     "start_time": "2023-12-01T14:48:33.219480",
     "status": "completed"
    },
    "tags": []
   },
   "outputs": [
    {
     "data": {
      "image/png": "[encoded data removed]",
      "text/plain": [
       "<Figure size 1000x700 with 1 Axes>"
      ]
     },
     "metadata": {},
     "output_type": "display_data"
    }
   ],
   "source": [
    "plt.figure(figsize=(10,7))\n",
    "plt.scatter(X_train, y_train, c=\"b\", label=\"training data\")\n",
    "plt.scatter(X_test, y_test, c=\"g\", label=\"testing data\")\n",
    "plt.scatter(X_test, y_pred_1, c=\"r\", label=\"prediction 1\")\n",
    "plt.scatter(X_test, y_pred_2, c=\"c\", label=\"prediction 2\")\n",
    "plt.scatter(X_test, y_pred_3, c=\"m\", label=\"prediction 3\")\n",
    "plt.legend();"
   ]
  },
  {
   "cell_type": "markdown",
   "id": "5deb68e3",
   "metadata": {
    "papermill": {
     "duration": 0.066592,
     "end_time": "2023-12-01T14:48:33.836938",
     "exception": false,
     "start_time": "2023-12-01T14:48:33.770346",
     "status": "completed"
    },
    "tags": []
   },
   "source": [
    "## Conclusion\n",
    "1. changing the optimizer from SGD to Adam significantly increases the model's accuracy"
   ]
  },
  {
   "cell_type": "markdown",
   "id": "ced1f3e0",
   "metadata": {
    "papermill": {
     "duration": 0.065983,
     "end_time": "2023-12-01T14:48:33.969468",
     "exception": false,
     "start_time": "2023-12-01T14:48:33.903485",
     "status": "completed"
    },
    "tags": []
   },
   "source": [
    "## Creating model 4"
   ]
  },
  {
   "cell_type": "code",
   "execution_count": 20,
   "id": "cbe6c872",
   "metadata": {
    "execution": {
     "iopub.execute_input": "2023-12-01T14:48:34.107628Z",
     "iopub.status.busy": "2023-12-01T14:48:34.107226Z",
     "iopub.status.idle": "2023-12-01T14:48:34.244268Z",
     "shell.execute_reply": "2023-12-01T14:48:34.243303Z"
    },
    "papermill": {
     "duration": 0.2068,
     "end_time": "2023-12-01T14:48:34.246060",
     "exception": false,
     "start_time": "2023-12-01T14:48:34.039260",
     "status": "completed"
    },
    "tags": []
   },
   "outputs": [
    {
     "name": "stdout",
     "output_type": "stream",
     "text": [
      "Model: \"sequential_3\"\n",
      "_________________________________________________________________\n",
      " Layer (type)                Output Shape              Param #   \n",
      "=================================================================\n",
      " input_layer (Dense)         (None, 50)                100       \n",
      "                                                                 \n",
      " hidden_layer_1 (Dense)      (None, 100)               5100      \n",
      "                                                                 \n",
      " output_layer (Dense)        (None, 1)                 101       \n",
      "                                                                 \n",
      "=================================================================\n",
      "Total params: 5301 (20.71 KB)\n",
      "Trainable params: 5301 (20.71 KB)\n",
      "Non-trainable params: 0 (0.00 Byte)\n",
      "_________________________________________________________________\n",
      "Model: \"sequential_2\"\n",
      "_________________________________________________________________\n",
      " Layer (type)                Output Shape              Param #   \n",
      "=================================================================\n",
      " input_layer (Dense)         (None, 50)                100       \n",
      "                                                                 \n",
      " output_layer (Dense)        (None, 1)                 51        \n",
      "                                                                 \n",
      "=================================================================\n",
      "Total params: 151 (604.00 Byte)\n",
      "Trainable params: 151 (604.00 Byte)\n",
      "Non-trainable params: 0 (0.00 Byte)\n",
      "_________________________________________________________________\n",
      "Model: \"sequential_1\"\n",
      "_________________________________________________________________\n",
      " Layer (type)                Output Shape              Param #   \n",
      "=================================================================\n",
      " input_layer (Dense)         (None, 50)                100       \n",
      "                                                                 \n",
      " output_layer (Dense)        (None, 1)                 51        \n",
      "                                                                 \n",
      "=================================================================\n",
      "Total params: 151 (604.00 Byte)\n",
      "Trainable params: 151 (604.00 Byte)\n",
      "Non-trainable params: 0 (0.00 Byte)\n",
      "_________________________________________________________________\n",
      "Model: \"sequential\"\n",
      "_________________________________________________________________\n",
      " Layer (type)                Output Shape              Param #   \n",
      "=================================================================\n",
      " Layer_1 (Dense)             (None, 1)                 2         \n",
      "                                                                 \n",
      "=================================================================\n",
      "Total params: 2 (8.00 Byte)\n",
      "Trainable params: 2 (8.00 Byte)\n",
      "Non-trainable params: 0 (0.00 Byte)\n",
      "_________________________________________________________________\n"
     ]
    },
    {
     "data": {
      "text/plain": [
       "(None, None, None, None)"
      ]
     },
     "execution_count": 20,
     "metadata": {},
     "output_type": "execute_result"
    }
   ],
   "source": [
    "tf.random.set_seed(42)\n",
    "\n",
    "model_4 = tf.keras.Sequential([\n",
    "    tf.keras.layers.Dense(50, input_shape = [1],name=\"input_layer\"),\n",
    "    tf.keras.layers.Dense(100, input_shape = [1],name=\"hidden_layer_1\"),\n",
    "    tf.keras.layers.Dense(1,name=\"output_layer\")\n",
    "])\n",
    "\n",
    "model_4.compile(loss = tf.keras.losses.mae,\n",
    "               optimizer = tf.keras.optimizers.Adam(learning_rate = 0.01),\n",
    "               metrics = [\"mae\"])\n",
    "\n",
    "model_4.summary(), model_3.summary(), model_2.summary(), model_1.summary()"
   ]
  },
  {
   "cell_type": "code",
   "execution_count": 21,
   "id": "496d0aca",
   "metadata": {
    "execution": {
     "iopub.execute_input": "2023-12-01T14:48:34.384266Z",
     "iopub.status.busy": "2023-12-01T14:48:34.383918Z",
     "iopub.status.idle": "2023-12-01T14:48:34.436982Z",
     "shell.execute_reply": "2023-12-01T14:48:34.435552Z"
    },
    "papermill": {
     "duration": 0.125243,
     "end_time": "2023-12-01T14:48:34.439044",
     "exception": false,
     "start_time": "2023-12-01T14:48:34.313801",
     "status": "completed"
    },
    "tags": []
   },
   "outputs": [
    {
     "data": {
      "image/png": "[encoded data removed]",
      "text/plain": [
       "<IPython.core.display.Image object>"
      ]
     },
     "execution_count": 21,
     "metadata": {},
     "output_type": "execute_result"
    }
   ],
   "source": [
    "plot_model(model_4, show_shapes=True)"
   ]
  },
  {
   "cell_type": "code",
   "execution_count": 22,
   "id": "66e16244",
   "metadata": {
    "execution": {
     "iopub.execute_input": "2023-12-01T14:48:34.582240Z",
     "iopub.status.busy": "2023-12-01T14:48:34.581218Z",
     "iopub.status.idle": "2023-12-01T14:48:36.381205Z",
     "shell.execute_reply": "2023-12-01T14:48:36.380008Z"
    },
    "papermill": {
     "duration": 1.874162,
     "end_time": "2023-12-01T14:48:36.383356",
     "exception": false,
     "start_time": "2023-12-01T14:48:34.509194",
     "status": "completed"
    },
    "tags": []
   },
   "outputs": [
    {
     "name": "stdout",
     "output_type": "stream",
     "text": [
      "Epoch 1/100\n",
      "2/2 [==============================] - 1s 10ms/step - loss: 44.2532 - mae: 44.2532\n",
      "Epoch 2/100\n",
      "2/2 [==============================] - 0s 6ms/step - loss: 52.1558 - mae: 52.1558\n",
      "Epoch 3/100\n",
      "2/2 [==============================] - 0s 4ms/step - loss: 45.2942 - mae: 45.2942\n",
      "Epoch 4/100\n",
      "2/2 [==============================] - 0s 4ms/step - loss: 47.6259 - mae: 47.6259\n",
      "Epoch 5/100\n",
      "2/2 [==============================] - 0s 5ms/step - loss: 37.5526 - mae: 37.5526\n",
      "Epoch 6/100\n",
      "2/2 [==============================] - 0s 6ms/step - loss: 44.4645 - mae: 44.4645\n",
      "Epoch 7/100\n",
      "2/2 [==============================] - 0s 4ms/step - loss: 45.1510 - mae: 45.1510\n",
      "Epoch 8/100\n",
      "2/2 [==============================] - 0s 6ms/step - loss: 39.1469 - mae: 39.1469\n",
      "Epoch 9/100\n",
      "2/2 [==============================] - 0s 5ms/step - loss: 37.9040 - mae: 37.9040\n",
      "Epoch 10/100\n",
      "2/2 [==============================] - 0s 5ms/step - loss: 40.0493 - mae: 40.0493\n",
      "Epoch 11/100\n",
      "2/2 [==============================] - 0s 6ms/step - loss: 38.5798 - mae: 38.5798\n",
      "Epoch 12/100\n",
      "2/2 [==============================] - 0s 5ms/step - loss: 36.4664 - mae: 36.4664\n",
      "Epoch 13/100\n",
      "2/2 [==============================] - 0s 6ms/step - loss: 37.0682 - mae: 37.0682\n",
      "Epoch 14/100\n",
      "2/2 [==============================] - 0s 5ms/step - loss: 36.9796 - mae: 36.9796\n",
      "Epoch 15/100\n",
      "2/2 [==============================] - 0s 4ms/step - loss: 36.0678 - mae: 36.0678\n",
      "Epoch 16/100\n",
      "2/2 [==============================] - 0s 5ms/step - loss: 35.9038 - mae: 35.9038\n",
      "Epoch 17/100\n",
      "2/2 [==============================] - 0s 5ms/step - loss: 36.0547 - mae: 36.0547\n",
      "Epoch 18/100\n",
      "2/2 [==============================] - 0s 6ms/step - loss: 35.7278 - mae: 35.7278\n",
      "Epoch 19/100\n",
      "2/2 [==============================] - 0s 4ms/step - loss: 35.0577 - mae: 35.0577\n",
      "Epoch 20/100\n",
      "2/2 [==============================] - 0s 4ms/step - loss: 35.0338 - mae: 35.0338\n",
      "Epoch 21/100\n",
      "2/2 [==============================] - 0s 6ms/step - loss: 34.6011 - mae: 34.6011\n",
      "Epoch 22/100\n",
      "2/2 [==============================] - 0s 4ms/step - loss: 34.2892 - mae: 34.2892\n",
      "Epoch 23/100\n",
      "2/2 [==============================] - 0s 5ms/step - loss: 34.2764 - mae: 34.2764\n",
      "Epoch 24/100\n",
      "2/2 [==============================] - 0s 4ms/step - loss: 33.3665 - mae: 33.3665\n",
      "Epoch 25/100\n",
      "2/2 [==============================] - 0s 7ms/step - loss: 32.9798 - mae: 32.9798\n",
      "Epoch 26/100\n",
      "2/2 [==============================] - 0s 5ms/step - loss: 32.5768 - mae: 32.5768\n",
      "Epoch 27/100\n",
      "2/2 [==============================] - 0s 5ms/step - loss: 31.2518 - mae: 31.2518\n",
      "Epoch 28/100\n",
      "2/2 [==============================] - 0s 5ms/step - loss: 32.1494 - mae: 32.1494\n",
      "Epoch 29/100\n",
      "2/2 [==============================] - 0s 4ms/step - loss: 30.7560 - mae: 30.7560\n",
      "Epoch 30/100\n",
      "2/2 [==============================] - 0s 6ms/step - loss: 28.4728 - mae: 28.4728\n",
      "Epoch 31/100\n",
      "2/2 [==============================] - 0s 4ms/step - loss: 25.8106 - mae: 25.8106\n",
      "Epoch 32/100\n",
      "2/2 [==============================] - 0s 5ms/step - loss: 27.0459 - mae: 27.0459\n",
      "Epoch 33/100\n",
      "2/2 [==============================] - 0s 8ms/step - loss: 22.6752 - mae: 22.6752\n",
      "Epoch 34/100\n",
      "2/2 [==============================] - 0s 6ms/step - loss: 19.1493 - mae: 19.1493\n",
      "Epoch 35/100\n",
      "2/2 [==============================] - 0s 5ms/step - loss: 19.6749 - mae: 19.6749\n",
      "Epoch 36/100\n",
      "2/2 [==============================] - 0s 5ms/step - loss: 10.9797 - mae: 10.9797\n",
      "Epoch 37/100\n",
      "2/2 [==============================] - 0s 4ms/step - loss: 7.2163 - mae: 7.2163\n",
      "Epoch 38/100\n",
      "2/2 [==============================] - 0s 6ms/step - loss: 5.3164 - mae: 5.3164\n",
      "Epoch 39/100\n",
      "2/2 [==============================] - 0s 5ms/step - loss: 16.9186 - mae: 16.9186\n",
      "Epoch 40/100\n",
      "2/2 [==============================] - 0s 7ms/step - loss: 10.0048 - mae: 10.0048\n",
      "Epoch 41/100\n",
      "2/2 [==============================] - 0s 5ms/step - loss: 15.3036 - mae: 15.3036\n",
      "Epoch 42/100\n",
      "2/2 [==============================] - 0s 5ms/step - loss: 2.7925 - mae: 2.7925\n",
      "Epoch 43/100\n",
      "2/2 [==============================] - 0s 6ms/step - loss: 4.8407 - mae: 4.8407\n",
      "Epoch 44/100\n",
      "2/2 [==============================] - 0s 7ms/step - loss: 6.6000 - mae: 6.6000\n",
      "Epoch 45/100\n",
      "2/2 [==============================] - 0s 6ms/step - loss: 10.1870 - mae: 10.1870\n",
      "Epoch 46/100\n",
      "2/2 [==============================] - 0s 6ms/step - loss: 5.2864 - mae: 5.2864\n",
      "Epoch 47/100\n",
      "2/2 [==============================] - 0s 4ms/step - loss: 17.8698 - mae: 17.8698\n",
      "Epoch 48/100\n",
      "2/2 [==============================] - 0s 6ms/step - loss: 8.6100 - mae: 8.6100\n",
      "Epoch 49/100\n",
      "2/2 [==============================] - 0s 5ms/step - loss: 14.1668 - mae: 14.1668\n",
      "Epoch 50/100\n",
      "2/2 [==============================] - 0s 5ms/step - loss: 6.4472 - mae: 6.4472\n",
      "Epoch 51/100\n",
      "2/2 [==============================] - 0s 5ms/step - loss: 13.8784 - mae: 13.8784\n",
      "Epoch 52/100\n",
      "2/2 [==============================] - 0s 4ms/step - loss: 4.3977 - mae: 4.3977\n",
      "Epoch 53/100\n",
      "2/2 [==============================] - 0s 6ms/step - loss: 16.7572 - mae: 16.7572\n",
      "Epoch 54/100\n",
      "2/2 [==============================] - 0s 6ms/step - loss: 9.4381 - mae: 9.4381\n",
      "Epoch 55/100\n",
      "2/2 [==============================] - 0s 4ms/step - loss: 7.7986 - mae: 7.7986\n",
      "Epoch 56/100\n",
      "2/2 [==============================] - 0s 5ms/step - loss: 6.4521 - mae: 6.4521\n",
      "Epoch 57/100\n",
      "2/2 [==============================] - 0s 6ms/step - loss: 4.4032 - mae: 4.4032\n",
      "Epoch 58/100\n",
      "2/2 [==============================] - 0s 6ms/step - loss: 2.6262 - mae: 2.6262\n",
      "Epoch 59/100\n",
      "2/2 [==============================] - 0s 5ms/step - loss: 4.9028 - mae: 4.9028\n",
      "Epoch 60/100\n",
      "2/2 [==============================] - 0s 5ms/step - loss: 3.4053 - mae: 3.4053\n",
      "Epoch 61/100\n",
      "2/2 [==============================] - 0s 4ms/step - loss: 1.0917 - mae: 1.0917\n",
      "Epoch 62/100\n",
      "2/2 [==============================] - 0s 5ms/step - loss: 3.0617 - mae: 3.0617\n",
      "Epoch 63/100\n",
      "2/2 [==============================] - 0s 6ms/step - loss: 3.3510 - mae: 3.3510\n",
      "Epoch 64/100\n",
      "2/2 [==============================] - 0s 4ms/step - loss: 1.7265 - mae: 1.7265\n",
      "Epoch 65/100\n",
      "2/2 [==============================] - 0s 5ms/step - loss: 1.5549 - mae: 1.5549\n",
      "Epoch 66/100\n",
      "2/2 [==============================] - 0s 6ms/step - loss: 3.2915 - mae: 3.2915\n",
      "Epoch 67/100\n",
      "2/2 [==============================] - 0s 5ms/step - loss: 1.7958 - mae: 1.7958\n",
      "Epoch 68/100\n",
      "2/2 [==============================] - 0s 6ms/step - loss: 1.7632 - mae: 1.7632\n",
      "Epoch 69/100\n",
      "2/2 [==============================] - 0s 6ms/step - loss: 5.3676 - mae: 5.3676\n",
      "Epoch 70/100\n",
      "2/2 [==============================] - 0s 6ms/step - loss: 2.6260 - mae: 2.6260\n",
      "Epoch 71/100\n",
      "2/2 [==============================] - 0s 5ms/step - loss: 5.5771 - mae: 5.5771\n",
      "Epoch 72/100\n",
      "2/2 [==============================] - 0s 7ms/step - loss: 6.2586 - mae: 6.2586\n",
      "Epoch 73/100\n",
      "2/2 [==============================] - 0s 6ms/step - loss: 4.5646 - mae: 4.5646\n",
      "Epoch 74/100\n",
      "2/2 [==============================] - 0s 5ms/step - loss: 11.7122 - mae: 11.7122\n",
      "Epoch 75/100\n",
      "2/2 [==============================] - 0s 6ms/step - loss: 14.0097 - mae: 14.0097\n",
      "Epoch 76/100\n",
      "2/2 [==============================] - 0s 5ms/step - loss: 1.7019 - mae: 1.7019\n",
      "Epoch 77/100\n",
      "2/2 [==============================] - 0s 4ms/step - loss: 3.8931 - mae: 3.8931\n",
      "Epoch 78/100\n",
      "2/2 [==============================] - 0s 5ms/step - loss: 2.7239 - mae: 2.7239\n",
      "Epoch 79/100\n",
      "2/2 [==============================] - 0s 5ms/step - loss: 5.8817 - mae: 5.8817\n",
      "Epoch 80/100\n",
      "2/2 [==============================] - 0s 7ms/step - loss: 3.7037 - mae: 3.7037\n",
      "Epoch 81/100\n",
      "2/2 [==============================] - 0s 7ms/step - loss: 6.7437 - mae: 6.7437\n",
      "Epoch 82/100\n",
      "2/2 [==============================] - 0s 7ms/step - loss: 1.0979 - mae: 1.0979\n",
      "Epoch 83/100\n",
      "2/2 [==============================] - 0s 6ms/step - loss: 2.9204 - mae: 2.9204\n",
      "Epoch 84/100\n",
      "2/2 [==============================] - 0s 5ms/step - loss: 3.7612 - mae: 3.7612\n",
      "Epoch 85/100\n",
      "2/2 [==============================] - 0s 5ms/step - loss: 5.1705 - mae: 5.1705\n",
      "Epoch 86/100\n",
      "2/2 [==============================] - 0s 4ms/step - loss: 4.0191 - mae: 4.0191\n",
      "Epoch 87/100\n",
      "2/2 [==============================] - 0s 4ms/step - loss: 1.7877 - mae: 1.7877\n",
      "Epoch 88/100\n",
      "2/2 [==============================] - 0s 7ms/step - loss: 1.6980 - mae: 1.6980\n",
      "Epoch 89/100\n",
      "2/2 [==============================] - 0s 7ms/step - loss: 2.8720 - mae: 2.8720\n",
      "Epoch 90/100\n",
      "2/2 [==============================] - 0s 6ms/step - loss: 2.5457 - mae: 2.5457\n",
      "Epoch 91/100\n",
      "2/2 [==============================] - 0s 6ms/step - loss: 0.9257 - mae: 0.9257\n",
      "Epoch 92/100\n",
      "2/2 [==============================] - 0s 6ms/step - loss: 4.1083 - mae: 4.1083\n",
      "Epoch 93/100\n",
      "2/2 [==============================] - 0s 6ms/step - loss: 1.9845 - mae: 1.9845\n",
      "Epoch 94/100\n",
      "2/2 [==============================] - 0s 5ms/step - loss: 3.2753 - mae: 3.2753\n",
      "Epoch 95/100\n",
      "2/2 [==============================] - 0s 5ms/step - loss: 5.6376 - mae: 5.6376\n",
      "Epoch 96/100\n",
      "2/2 [==============================] - 0s 6ms/step - loss: 4.3773 - mae: 4.3773\n",
      "Epoch 97/100\n",
      "2/2 [==============================] - 0s 4ms/step - loss: 8.8063 - mae: 8.8063\n",
      "Epoch 98/100\n",
      "2/2 [==============================] - 0s 7ms/step - loss: 12.6363 - mae: 12.6363\n",
      "Epoch 99/100\n",
      "2/2 [==============================] - 0s 6ms/step - loss: 5.0612 - mae: 5.0612\n",
      "Epoch 100/100\n",
      "2/2 [==============================] - 0s 5ms/step - loss: 7.2018 - mae: 7.2018\n"
     ]
    },
    {
     "data": {
      "text/plain": [
       "<keras.src.callbacks.History at 0x7e4ce67c1720>"
      ]
     },
     "execution_count": 22,
     "metadata": {},
     "output_type": "execute_result"
    }
   ],
   "source": [
    "model_4.fit(X_train, y_train, epochs = 100)"
   ]
  },
  {
   "cell_type": "code",
   "execution_count": 23,
   "id": "9ef5fa67",
   "metadata": {
    "execution": {
     "iopub.execute_input": "2023-12-01T14:48:36.562312Z",
     "iopub.status.busy": "2023-12-01T14:48:36.561817Z",
     "iopub.status.idle": "2023-12-01T14:48:36.669603Z",
     "shell.execute_reply": "2023-12-01T14:48:36.668664Z"
    },
    "papermill": {
     "duration": 0.200145,
     "end_time": "2023-12-01T14:48:36.671604",
     "exception": false,
     "start_time": "2023-12-01T14:48:36.471459",
     "status": "completed"
    },
    "tags": []
   },
   "outputs": [
    {
     "name": "stdout",
     "output_type": "stream",
     "text": [
      "1/1 [==============================] - 0s 50ms/step\n"
     ]
    },
    {
     "data": {
      "text/plain": [
       "(array([[117.43983 ],\n",
       "        [121.937996],\n",
       "        [126.43618 ],\n",
       "        [130.93433 ],\n",
       "        [135.4325  ],\n",
       "        [139.93068 ],\n",
       "        [144.42883 ],\n",
       "        [148.92702 ],\n",
       "        [153.42519 ],\n",
       "        [157.92336 ]], dtype=float32),\n",
       " <tf.Tensor: shape=(10,), dtype=int32, numpy=array([110, 114, 118, 122, 126, 130, 134, 138, 142, 146], dtype=int32)>)"
      ]
     },
     "execution_count": 23,
     "metadata": {},
     "output_type": "execute_result"
    }
   ],
   "source": [
    "y_pred_4 = model_4.predict(X_test)\n",
    "y_pred_4, y_test"
   ]
  },
  {
   "cell_type": "code",
   "execution_count": 24,
   "id": "4f94b113",
   "metadata": {
    "execution": {
     "iopub.execute_input": "2023-12-01T14:48:36.848780Z",
     "iopub.status.busy": "2023-12-01T14:48:36.847689Z",
     "iopub.status.idle": "2023-12-01T14:48:37.266383Z",
     "shell.execute_reply": "2023-12-01T14:48:37.265379Z"
    },
    "papermill": {
     "duration": 0.509516,
     "end_time": "2023-12-01T14:48:37.269148",
     "exception": false,
     "start_time": "2023-12-01T14:48:36.759632",
     "status": "completed"
    },
    "tags": []
   },
   "outputs": [
    {
     "data": {
      "image/png": "[encoded data removed]",
      "text/plain": [
       "<Figure size 1000x700 with 1 Axes>"
      ]
     },
     "metadata": {},
     "output_type": "display_data"
    }
   ],
   "source": [
    "plt.figure(figsize=(10,7))\n",
    "plt.scatter(X_train, y_train, c=\"b\", label=\"training data\")\n",
    "plt.scatter(X_test, y_test, c=\"g\", label=\"testing data\")\n",
    "plt.scatter(X_test, y_pred_1, c=\"r\", label=\"prediction 1\")\n",
    "plt.scatter(X_test, y_pred_2, c=\"c\", label=\"prediction 2\")\n",
    "plt.scatter(X_test, y_pred_3, c=\"m\", label=\"prediction 3\")\n",
    "plt.scatter(X_test, y_pred_4, c=\"y\", label=\"prediction 4\")\n",
    "plt.legend();"
   ]
  },
  {
   "cell_type": "markdown",
   "id": "7f22cc3c",
   "metadata": {
    "papermill": {
     "duration": 0.086579,
     "end_time": "2023-12-01T14:48:37.443645",
     "exception": false,
     "start_time": "2023-12-01T14:48:37.357066",
     "status": "completed"
    },
    "tags": []
   },
   "source": [
    "## Conclusion\n",
    "1. the prediction deviate lesser than the last model\n",
    "2. suspected entry from hidden layer "
   ]
  },
  {
   "cell_type": "markdown",
   "id": "7a0b07fa",
   "metadata": {
    "papermill": {
     "duration": 0.088275,
     "end_time": "2023-12-01T14:48:37.620628",
     "exception": false,
     "start_time": "2023-12-01T14:48:37.532353",
     "status": "completed"
    },
    "tags": []
   },
   "source": [
    "## Creating model_5"
   ]
  },
  {
   "cell_type": "code",
   "execution_count": 25,
   "id": "e1c75b77",
   "metadata": {
    "execution": {
     "iopub.execute_input": "2023-12-01T14:48:37.799305Z",
     "iopub.status.busy": "2023-12-01T14:48:37.798868Z",
     "iopub.status.idle": "2023-12-01T14:48:37.937128Z",
     "shell.execute_reply": "2023-12-01T14:48:37.935955Z"
    },
    "papermill": {
     "duration": 0.228867,
     "end_time": "2023-12-01T14:48:37.939190",
     "exception": false,
     "start_time": "2023-12-01T14:48:37.710323",
     "status": "completed"
    },
    "tags": []
   },
   "outputs": [
    {
     "name": "stdout",
     "output_type": "stream",
     "text": [
      "Model: \"sequential_4\"\n",
      "_________________________________________________________________\n",
      " Layer (type)                Output Shape              Param #   \n",
      "=================================================================\n",
      " input_layer (Dense)         (None, 50)                100       \n",
      "                                                                 \n",
      " hidden_layer_1 (Dense)      (None, 100)               5100      \n",
      "                                                                 \n",
      " hidden_layer_2 (Dense)      (None, 100)               10100     \n",
      "                                                                 \n",
      " output_layer (Dense)        (None, 1)                 101       \n",
      "                                                                 \n",
      "=================================================================\n",
      "Total params: 15401 (60.16 KB)\n",
      "Trainable params: 15401 (60.16 KB)\n",
      "Non-trainable params: 0 (0.00 Byte)\n",
      "_________________________________________________________________\n",
      "Model: \"sequential_3\"\n",
      "_________________________________________________________________\n",
      " Layer (type)                Output Shape              Param #   \n",
      "=================================================================\n",
      " input_layer (Dense)         (None, 50)                100       \n",
      "                                                                 \n",
      " hidden_layer_1 (Dense)      (None, 100)               5100      \n",
      "                                                                 \n",
      " output_layer (Dense)        (None, 1)                 101       \n",
      "                                                                 \n",
      "=================================================================\n",
      "Total params: 5301 (20.71 KB)\n",
      "Trainable params: 5301 (20.71 KB)\n",
      "Non-trainable params: 0 (0.00 Byte)\n",
      "_________________________________________________________________\n"
     ]
    },
    {
     "data": {
      "text/plain": [
       "(None, None)"
      ]
     },
     "execution_count": 25,
     "metadata": {},
     "output_type": "execute_result"
    }
   ],
   "source": [
    "tf.random.set_seed(42)\n",
    "\n",
    "model_5 = tf.keras.Sequential([\n",
    "    tf.keras.layers.Dense(50, input_shape=[1],name=\"input_layer\"),\n",
    "    tf.keras.layers.Dense(100, input_shape=[1],name=\"hidden_layer_1\"),\n",
    "    tf.keras.layers.Dense(100, input_shape=[1],name=\"hidden_layer_2\"),\n",
    "    tf.keras.layers.Dense(1,name=\"output_layer\")\n",
    "])\n",
    "\n",
    "model_5.compile(loss = tf.keras.losses.mae,\n",
    "               optimizer = tf.keras.optimizers.Adam(learning_rate=0.01),\n",
    "               metrics = [\"mae\"])\n",
    "\n",
    "model_5.summary(), model_4.summary()"
   ]
  },
  {
   "cell_type": "code",
   "execution_count": 26,
   "id": "cef92b11",
   "metadata": {
    "execution": {
     "iopub.execute_input": "2023-12-01T14:48:38.124655Z",
     "iopub.status.busy": "2023-12-01T14:48:38.123048Z",
     "iopub.status.idle": "2023-12-01T14:48:40.207249Z",
     "shell.execute_reply": "2023-12-01T14:48:40.205521Z"
    },
    "papermill": {
     "duration": 2.179316,
     "end_time": "2023-12-01T14:48:40.209928",
     "exception": false,
     "start_time": "2023-12-01T14:48:38.030612",
     "status": "completed"
    },
    "tags": []
   },
   "outputs": [
    {
     "name": "stdout",
     "output_type": "stream",
     "text": [
      "Epoch 1/100\n",
      "2/2 [==============================] - 1s 8ms/step - loss: 59.3540 - mae: 59.3540\n",
      "Epoch 2/100\n",
      "2/2 [==============================] - 0s 6ms/step - loss: 57.7032 - mae: 57.7032\n",
      "Epoch 3/100\n",
      "2/2 [==============================] - 0s 6ms/step - loss: 69.2578 - mae: 69.2578\n",
      "Epoch 4/100\n",
      "2/2 [==============================] - 0s 4ms/step - loss: 44.5164 - mae: 44.5164\n",
      "Epoch 5/100\n",
      "2/2 [==============================] - 0s 4ms/step - loss: 47.2044 - mae: 47.2044\n",
      "Epoch 6/100\n",
      "2/2 [==============================] - 0s 5ms/step - loss: 47.5547 - mae: 47.5547\n",
      "Epoch 7/100\n",
      "2/2 [==============================] - 0s 7ms/step - loss: 39.2647 - mae: 39.2647\n",
      "Epoch 8/100\n",
      "2/2 [==============================] - 0s 6ms/step - loss: 43.2758 - mae: 43.2758\n",
      "Epoch 9/100\n",
      "2/2 [==============================] - 0s 6ms/step - loss: 43.4854 - mae: 43.4854\n",
      "Epoch 10/100\n",
      "2/2 [==============================] - 0s 7ms/step - loss: 38.8085 - mae: 38.8085\n",
      "Epoch 11/100\n",
      "2/2 [==============================] - 0s 8ms/step - loss: 37.2075 - mae: 37.2075\n",
      "Epoch 12/100\n",
      "2/2 [==============================] - 0s 7ms/step - loss: 37.2810 - mae: 37.2810\n",
      "Epoch 13/100\n",
      "2/2 [==============================] - 0s 6ms/step - loss: 37.0113 - mae: 37.0113\n",
      "Epoch 14/100\n",
      "2/2 [==============================] - 0s 7ms/step - loss: 37.0491 - mae: 37.0491\n",
      "Epoch 15/100\n",
      "2/2 [==============================] - 0s 6ms/step - loss: 35.9675 - mae: 35.9675\n",
      "Epoch 16/100\n",
      "2/2 [==============================] - 0s 5ms/step - loss: 36.4270 - mae: 36.4270\n",
      "Epoch 17/100\n",
      "2/2 [==============================] - 0s 7ms/step - loss: 36.3708 - mae: 36.3708\n",
      "Epoch 18/100\n",
      "2/2 [==============================] - 0s 6ms/step - loss: 34.9976 - mae: 34.9976\n",
      "Epoch 19/100\n",
      "2/2 [==============================] - 0s 6ms/step - loss: 34.7883 - mae: 34.7883\n",
      "Epoch 20/100\n",
      "2/2 [==============================] - 0s 6ms/step - loss: 34.4665 - mae: 34.4665\n",
      "Epoch 21/100\n",
      "2/2 [==============================] - 0s 7ms/step - loss: 33.8443 - mae: 33.8443\n",
      "Epoch 22/100\n",
      "2/2 [==============================] - 0s 7ms/step - loss: 33.5554 - mae: 33.5554\n",
      "Epoch 23/100\n",
      "2/2 [==============================] - 0s 5ms/step - loss: 32.0748 - mae: 32.0748\n",
      "Epoch 24/100\n",
      "2/2 [==============================] - 0s 7ms/step - loss: 31.7781 - mae: 31.7781\n",
      "Epoch 25/100\n",
      "2/2 [==============================] - 0s 7ms/step - loss: 29.8776 - mae: 29.8776\n",
      "Epoch 26/100\n",
      "2/2 [==============================] - 0s 5ms/step - loss: 27.3516 - mae: 27.3516\n",
      "Epoch 27/100\n",
      "2/2 [==============================] - 0s 6ms/step - loss: 25.1768 - mae: 25.1768\n",
      "Epoch 28/100\n",
      "2/2 [==============================] - 0s 4ms/step - loss: 23.0212 - mae: 23.0212\n",
      "Epoch 29/100\n",
      "2/2 [==============================] - 0s 6ms/step - loss: 17.2346 - mae: 17.2346\n",
      "Epoch 30/100\n",
      "2/2 [==============================] - 0s 8ms/step - loss: 27.8292 - mae: 27.8292\n",
      "Epoch 31/100\n",
      "2/2 [==============================] - 0s 6ms/step - loss: 11.2557 - mae: 11.2557\n",
      "Epoch 32/100\n",
      "2/2 [==============================] - 0s 7ms/step - loss: 9.5912 - mae: 9.5912\n",
      "Epoch 33/100\n",
      "2/2 [==============================] - 0s 7ms/step - loss: 32.8185 - mae: 32.8185\n",
      "Epoch 34/100\n",
      "2/2 [==============================] - 0s 9ms/step - loss: 8.9469 - mae: 8.9469\n",
      "Epoch 35/100\n",
      "2/2 [==============================] - 0s 6ms/step - loss: 34.2812 - mae: 34.2812\n",
      "Epoch 36/100\n",
      "2/2 [==============================] - 0s 4ms/step - loss: 24.0157 - mae: 24.0157\n",
      "Epoch 37/100\n",
      "2/2 [==============================] - 0s 8ms/step - loss: 16.1296 - mae: 16.1296\n",
      "Epoch 38/100\n",
      "2/2 [==============================] - 0s 6ms/step - loss: 21.4858 - mae: 21.4858\n",
      "Epoch 39/100\n",
      "2/2 [==============================] - 0s 6ms/step - loss: 17.2575 - mae: 17.2575\n",
      "Epoch 40/100\n",
      "2/2 [==============================] - 0s 7ms/step - loss: 9.8510 - mae: 9.8510\n",
      "Epoch 41/100\n",
      "2/2 [==============================] - 0s 5ms/step - loss: 10.7414 - mae: 10.7414\n",
      "Epoch 42/100\n",
      "2/2 [==============================] - 0s 6ms/step - loss: 11.6391 - mae: 11.6391\n",
      "Epoch 43/100\n",
      "2/2 [==============================] - 0s 5ms/step - loss: 12.3655 - mae: 12.3655\n",
      "Epoch 44/100\n",
      "2/2 [==============================] - 0s 5ms/step - loss: 11.6569 - mae: 11.6569\n",
      "Epoch 45/100\n",
      "2/2 [==============================] - 0s 4ms/step - loss: 11.7468 - mae: 11.7468\n",
      "Epoch 46/100\n",
      "2/2 [==============================] - 0s 6ms/step - loss: 7.0402 - mae: 7.0402\n",
      "Epoch 47/100\n",
      "2/2 [==============================] - 0s 7ms/step - loss: 10.3023 - mae: 10.3023\n",
      "Epoch 48/100\n",
      "2/2 [==============================] - 0s 5ms/step - loss: 3.4250 - mae: 3.4250\n",
      "Epoch 49/100\n",
      "2/2 [==============================] - 0s 6ms/step - loss: 14.8996 - mae: 14.8996\n",
      "Epoch 50/100\n",
      "2/2 [==============================] - 0s 6ms/step - loss: 5.0832 - mae: 5.0832\n",
      "Epoch 51/100\n",
      "2/2 [==============================] - 0s 7ms/step - loss: 13.8044 - mae: 13.8044\n",
      "Epoch 52/100\n",
      "2/2 [==============================] - 0s 6ms/step - loss: 6.8043 - mae: 6.8043\n",
      "Epoch 53/100\n",
      "2/2 [==============================] - 0s 6ms/step - loss: 6.2595 - mae: 6.2595\n",
      "Epoch 54/100\n",
      "2/2 [==============================] - 0s 6ms/step - loss: 3.8842 - mae: 3.8842\n",
      "Epoch 55/100\n",
      "2/2 [==============================] - 0s 6ms/step - loss: 3.3052 - mae: 3.3052\n",
      "Epoch 56/100\n",
      "2/2 [==============================] - 0s 5ms/step - loss: 4.7548 - mae: 4.7548\n",
      "Epoch 57/100\n",
      "2/2 [==============================] - 0s 6ms/step - loss: 6.4561 - mae: 6.4561\n",
      "Epoch 58/100\n",
      "2/2 [==============================] - 0s 8ms/step - loss: 6.3089 - mae: 6.3089\n",
      "Epoch 59/100\n",
      "2/2 [==============================] - 0s 5ms/step - loss: 7.2112 - mae: 7.2112\n",
      "Epoch 60/100\n",
      "2/2 [==============================] - 0s 9ms/step - loss: 6.2208 - mae: 6.2208\n",
      "Epoch 61/100\n",
      "2/2 [==============================] - 0s 7ms/step - loss: 7.2430 - mae: 7.2430\n",
      "Epoch 62/100\n",
      "2/2 [==============================] - 0s 6ms/step - loss: 7.1620 - mae: 7.1620\n",
      "Epoch 63/100\n",
      "2/2 [==============================] - 0s 5ms/step - loss: 6.4862 - mae: 6.4862\n",
      "Epoch 64/100\n",
      "2/2 [==============================] - 0s 6ms/step - loss: 4.7621 - mae: 4.7621\n",
      "Epoch 65/100\n",
      "2/2 [==============================] - 0s 6ms/step - loss: 4.0353 - mae: 4.0353\n",
      "Epoch 66/100\n",
      "2/2 [==============================] - 0s 7ms/step - loss: 2.0171 - mae: 2.0171\n",
      "Epoch 67/100\n",
      "2/2 [==============================] - 0s 7ms/step - loss: 1.6631 - mae: 1.6631\n",
      "Epoch 68/100\n",
      "2/2 [==============================] - 0s 6ms/step - loss: 0.9762 - mae: 0.9762\n",
      "Epoch 69/100\n",
      "2/2 [==============================] - 0s 8ms/step - loss: 1.2515 - mae: 1.2515\n",
      "Epoch 70/100\n",
      "2/2 [==============================] - 0s 6ms/step - loss: 2.3900 - mae: 2.3900\n",
      "Epoch 71/100\n",
      "2/2 [==============================] - 0s 8ms/step - loss: 3.2052 - mae: 3.2052\n",
      "Epoch 72/100\n",
      "2/2 [==============================] - 0s 5ms/step - loss: 1.5705 - mae: 1.5705\n",
      "Epoch 73/100\n",
      "2/2 [==============================] - 0s 7ms/step - loss: 2.1704 - mae: 2.1704\n",
      "Epoch 74/100\n",
      "2/2 [==============================] - 0s 7ms/step - loss: 4.1286 - mae: 4.1286\n",
      "Epoch 75/100\n",
      "2/2 [==============================] - 0s 6ms/step - loss: 3.2600 - mae: 3.2600\n",
      "Epoch 76/100\n",
      "2/2 [==============================] - 0s 7ms/step - loss: 1.7582 - mae: 1.7582\n",
      "Epoch 77/100\n",
      "2/2 [==============================] - 0s 7ms/step - loss: 1.4325 - mae: 1.4325\n",
      "Epoch 78/100\n",
      "2/2 [==============================] - 0s 6ms/step - loss: 0.5783 - mae: 0.5783\n",
      "Epoch 79/100\n",
      "2/2 [==============================] - 0s 5ms/step - loss: 0.5180 - mae: 0.5180\n",
      "Epoch 80/100\n",
      "2/2 [==============================] - 0s 6ms/step - loss: 0.8976 - mae: 0.8976\n",
      "Epoch 81/100\n",
      "2/2 [==============================] - 0s 6ms/step - loss: 0.5907 - mae: 0.5907\n",
      "Epoch 82/100\n",
      "2/2 [==============================] - 0s 4ms/step - loss: 4.3609 - mae: 4.3609\n",
      "Epoch 83/100\n",
      "2/2 [==============================] - 0s 6ms/step - loss: 1.4742 - mae: 1.4742\n",
      "Epoch 84/100\n",
      "2/2 [==============================] - 0s 7ms/step - loss: 3.5383 - mae: 3.5383\n",
      "Epoch 85/100\n",
      "2/2 [==============================] - 0s 6ms/step - loss: 2.7823 - mae: 2.7823\n",
      "Epoch 86/100\n",
      "2/2 [==============================] - 0s 6ms/step - loss: 2.0249 - mae: 2.0249\n",
      "Epoch 87/100\n",
      "2/2 [==============================] - 0s 4ms/step - loss: 4.5399 - mae: 4.5399\n",
      "Epoch 88/100\n",
      "2/2 [==============================] - 0s 4ms/step - loss: 6.6120 - mae: 6.6120\n",
      "Epoch 89/100\n",
      "2/2 [==============================] - 0s 4ms/step - loss: 7.6131 - mae: 7.6131\n",
      "Epoch 90/100\n",
      "2/2 [==============================] - 0s 6ms/step - loss: 2.6931 - mae: 2.6931\n",
      "Epoch 91/100\n",
      "2/2 [==============================] - 0s 6ms/step - loss: 3.1909 - mae: 3.1909\n",
      "Epoch 92/100\n",
      "2/2 [==============================] - 0s 6ms/step - loss: 1.7858 - mae: 1.7858\n",
      "Epoch 93/100\n",
      "2/2 [==============================] - 0s 7ms/step - loss: 0.8341 - mae: 0.8341\n",
      "Epoch 94/100\n",
      "2/2 [==============================] - 0s 5ms/step - loss: 0.9902 - mae: 0.9902\n",
      "Epoch 95/100\n",
      "2/2 [==============================] - 0s 6ms/step - loss: 1.4580 - mae: 1.4580\n",
      "Epoch 96/100\n",
      "2/2 [==============================] - 0s 7ms/step - loss: 1.7159 - mae: 1.7159\n",
      "Epoch 97/100\n",
      "2/2 [==============================] - 0s 5ms/step - loss: 1.4755 - mae: 1.4755\n",
      "Epoch 98/100\n",
      "2/2 [==============================] - 0s 5ms/step - loss: 1.1593 - mae: 1.1593\n",
      "Epoch 99/100\n",
      "2/2 [==============================] - 0s 4ms/step - loss: 2.1134 - mae: 2.1134\n",
      "Epoch 100/100\n",
      "2/2 [==============================] - 0s 5ms/step - loss: 1.1669 - mae: 1.1669\n"
     ]
    },
    {
     "data": {
      "text/plain": [
       "<keras.src.callbacks.History at 0x7e4ce6405510>"
      ]
     },
     "execution_count": 26,
     "metadata": {},
     "output_type": "execute_result"
    }
   ],
   "source": [
    "model_5.fit(X_train, y_train, epochs = 100)"
   ]
  },
  {
   "cell_type": "code",
   "execution_count": 27,
   "id": "653bbff0",
   "metadata": {
    "execution": {
     "iopub.execute_input": "2023-12-01T14:48:40.430274Z",
     "iopub.status.busy": "2023-12-01T14:48:40.429916Z",
     "iopub.status.idle": "2023-12-01T14:48:40.543214Z",
     "shell.execute_reply": "2023-12-01T14:48:40.541698Z"
    },
    "papermill": {
     "duration": 0.226823,
     "end_time": "2023-12-01T14:48:40.545722",
     "exception": false,
     "start_time": "2023-12-01T14:48:40.318899",
     "status": "completed"
    },
    "tags": []
   },
   "outputs": [
    {
     "name": "stdout",
     "output_type": "stream",
     "text": [
      "1/1 [==============================] - 0s 57ms/step\n"
     ]
    },
    {
     "data": {
      "text/plain": [
       "(array([[111.990715],\n",
       "        [116.05343 ],\n",
       "        [120.11614 ],\n",
       "        [124.178856],\n",
       "        [128.24158 ],\n",
       "        [132.30428 ],\n",
       "        [136.36699 ],\n",
       "        [140.42973 ],\n",
       "        [144.49245 ],\n",
       "        [148.55513 ]], dtype=float32),\n",
       " <tf.Tensor: shape=(10,), dtype=int32, numpy=array([110, 114, 118, 122, 126, 130, 134, 138, 142, 146], dtype=int32)>)"
      ]
     },
     "execution_count": 27,
     "metadata": {},
     "output_type": "execute_result"
    }
   ],
   "source": [
    "y_pred_5 = model_5.predict(X_test)\n",
    "\n",
    "y_pred_5, y_test"
   ]
  },
  {
   "cell_type": "code",
   "execution_count": 28,
   "id": "e1260120",
   "metadata": {
    "execution": {
     "iopub.execute_input": "2023-12-01T14:48:40.777041Z",
     "iopub.status.busy": "2023-12-01T14:48:40.776382Z",
     "iopub.status.idle": "2023-12-01T14:48:41.212586Z",
     "shell.execute_reply": "2023-12-01T14:48:41.211640Z"
    },
    "papermill": {
     "duration": 0.549386,
     "end_time": "2023-12-01T14:48:41.214551",
     "exception": false,
     "start_time": "2023-12-01T14:48:40.665165",
     "status": "completed"
    },
    "tags": []
   },
   "outputs": [
    {
     "data": {
      "image/png": "[encoded data removed]",
      "text/plain": [
       "<Figure size 1000x700 with 1 Axes>"
      ]
     },
     "metadata": {},
     "output_type": "display_data"
    }
   ],
   "source": [
    "plt.figure(figsize=(10,7))\n",
    "plt.scatter(X_train, y_train, c=\"b\", label=\"training data\")\n",
    "plt.scatter(X_test, y_test, c=\"g\", label=\"testing data\")\n",
    "plt.scatter(X_test, y_pred_1, c=\"r\", label=\"prediction 1\")\n",
    "plt.scatter(X_test, y_pred_2, c=\"c\", label=\"prediction 2\")\n",
    "plt.scatter(X_test, y_pred_3, c=\"m\", label=\"prediction 3\")\n",
    "plt.scatter(X_test, y_pred_4, c=\"y\", label=\"prediction 4\")\n",
    "plt.scatter(X_test, y_pred_5, c=\"k\", label=\"prediction 5\")\n",
    "plt.legend();"
   ]
  },
  {
   "cell_type": "markdown",
   "id": "fa8b35e9",
   "metadata": {
    "papermill": {
     "duration": 0.110753,
     "end_time": "2023-12-01T14:48:41.497805",
     "exception": false,
     "start_time": "2023-12-01T14:48:41.387052",
     "status": "completed"
    },
    "tags": []
   },
   "source": [
    "## Conclusion\n",
    "1. when i add more layers (another 1 layer with 100 neurons, the MAE significantly lowered.\n",
    "2. but when i generate the prediction, the output is not promising \n",
    "3. i'm somewhat sure it is overfitting"
   ]
  },
  {
   "cell_type": "markdown",
   "id": "98ea461e",
   "metadata": {
    "papermill": {
     "duration": 0.107392,
     "end_time": "2023-12-01T14:48:41.716582",
     "exception": false,
     "start_time": "2023-12-01T14:48:41.609190",
     "status": "completed"
    },
    "tags": []
   },
   "source": [
    "## Creating model_6"
   ]
  }
 ],
 "metadata": {
  "kaggle": {
   "accelerator": "none",
   "dataSources": [],
   "dockerImageVersionId": 30587,
   "isGpuEnabled": false,
   "isInternetEnabled": false,
   "language": "python",
   "sourceType": "notebook"
  },
  "kernelspec": {
   "display_name": "Python 3",
   "language": "python",
   "name": "python3"
  },
  "language_info": {
   "codemirror_mode": {
    "name": "ipython",
    "version": 3
   },
   "file_extension": ".py",
   "mimetype": "text/x-python",
   "name": "python",
   "nbconvert_exporter": "python",
   "pygments_lexer": "ipython3",
   "version": "3.10.12"
  },
  "papermill": {
   "default_parameters": {},
   "duration": 40.272577,
   "end_time": "2023-12-01T14:48:44.153560",
   "environment_variables": {},
   "exception": null,
   "input_path": "__notebook__.ipynb",
   "output_path": "__notebook__.ipynb",
   "parameters": {},
   "start_time": "2023-12-01T14:48:03.880983",
   "version": "2.4.0"
  }
 },
 "nbformat": 4,
 "nbformat_minor": 5
}
