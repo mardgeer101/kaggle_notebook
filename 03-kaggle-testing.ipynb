{
 "cells": [
  {
   "cell_type": "code",
   "execution_count": 1,
   "id": "b3070bc8",
   "metadata": {
    "execution": {
     "iopub.execute_input": "2023-12-01T13:14:21.842970Z",
     "iopub.status.busy": "2023-12-01T13:14:21.842380Z",
     "iopub.status.idle": "2023-12-01T13:14:34.929110Z",
     "shell.execute_reply": "2023-12-01T13:14:34.928266Z"
    },
    "papermill": {
     "duration": 13.095533,
     "end_time": "2023-12-01T13:14:34.931577",
     "exception": false,
     "start_time": "2023-12-01T13:14:21.836044",
     "status": "completed"
    },
    "tags": []
   },
   "outputs": [],
   "source": [
    "import tensorflow as tf\n",
    "import numpy as np\n",
    "import matplotlib.pyplot as plt\n",
    "from tensorflow.keras.utils import plot_model"
   ]
  },
  {
   "cell_type": "code",
   "execution_count": 2,
   "id": "c79f75a7",
   "metadata": {
    "execution": {
     "iopub.execute_input": "2023-12-01T13:14:34.944708Z",
     "iopub.status.busy": "2023-12-01T13:14:34.943874Z",
     "iopub.status.idle": "2023-12-01T13:14:35.038201Z",
     "shell.execute_reply": "2023-12-01T13:14:35.037047Z"
    },
    "papermill": {
     "duration": 0.102612,
     "end_time": "2023-12-01T13:14:35.040782",
     "exception": false,
     "start_time": "2023-12-01T13:14:34.938170",
     "status": "completed"
    },
    "tags": []
   },
   "outputs": [
    {
     "data": {
      "text/plain": [
       "(<tf.Tensor: shape=(50,), dtype=int32, numpy=\n",
       " array([-100,  -96,  -92,  -88,  -84,  -80,  -76,  -72,  -68,  -64,  -60,\n",
       "         -56,  -52,  -48,  -44,  -40,  -36,  -32,  -28,  -24,  -20,  -16,\n",
       "         -12,   -8,   -4,    0,    4,    8,   12,   16,   20,   24,   28,\n",
       "          32,   36,   40,   44,   48,   52,   56,   60,   64,   68,   72,\n",
       "          76,   80,   84,   88,   92,   96], dtype=int32)>,\n",
       " <tf.Tensor: shape=(50,), dtype=int32, numpy=\n",
       " array([-50, -46, -42, -38, -34, -30, -26, -22, -18, -14, -10,  -6,  -2,\n",
       "          2,   6,  10,  14,  18,  22,  26,  30,  34,  38,  42,  46,  50,\n",
       "         54,  58,  62,  66,  70,  74,  78,  82,  86,  90,  94,  98, 102,\n",
       "        106, 110, 114, 118, 122, 126, 130, 134, 138, 142, 146], dtype=int32)>)"
      ]
     },
     "execution_count": 2,
     "metadata": {},
     "output_type": "execute_result"
    }
   ],
   "source": [
    "X = tf.range(-100, 100, 4)\n",
    "y = X + 50\n",
    "\n",
    "X, y"
   ]
  },
  {
   "cell_type": "code",
   "execution_count": 3,
   "id": "ba4fb272",
   "metadata": {
    "execution": {
     "iopub.execute_input": "2023-12-01T13:14:35.051367Z",
     "iopub.status.busy": "2023-12-01T13:14:35.051001Z",
     "iopub.status.idle": "2023-12-01T13:14:35.069431Z",
     "shell.execute_reply": "2023-12-01T13:14:35.068224Z"
    },
    "papermill": {
     "duration": 0.025987,
     "end_time": "2023-12-01T13:14:35.071521",
     "exception": false,
     "start_time": "2023-12-01T13:14:35.045534",
     "status": "completed"
    },
    "tags": []
   },
   "outputs": [
    {
     "data": {
      "text/plain": [
       "(<tf.Tensor: shape=(40,), dtype=int32, numpy=\n",
       " array([-100,  -96,  -92,  -88,  -84,  -80,  -76,  -72,  -68,  -64,  -60,\n",
       "         -56,  -52,  -48,  -44,  -40,  -36,  -32,  -28,  -24,  -20,  -16,\n",
       "         -12,   -8,   -4,    0,    4,    8,   12,   16,   20,   24,   28,\n",
       "          32,   36,   40,   44,   48,   52,   56], dtype=int32)>,\n",
       " <tf.Tensor: shape=(40,), dtype=int32, numpy=\n",
       " array([-50, -46, -42, -38, -34, -30, -26, -22, -18, -14, -10,  -6,  -2,\n",
       "          2,   6,  10,  14,  18,  22,  26,  30,  34,  38,  42,  46,  50,\n",
       "         54,  58,  62,  66,  70,  74,  78,  82,  86,  90,  94,  98, 102,\n",
       "        106], dtype=int32)>,\n",
       " <tf.Tensor: shape=(10,), dtype=int32, numpy=array([60, 64, 68, 72, 76, 80, 84, 88, 92, 96], dtype=int32)>,\n",
       " <tf.Tensor: shape=(10,), dtype=int32, numpy=array([110, 114, 118, 122, 126, 130, 134, 138, 142, 146], dtype=int32)>)"
      ]
     },
     "execution_count": 3,
     "metadata": {},
     "output_type": "execute_result"
    }
   ],
   "source": [
    "X_train = X[:40]\n",
    "y_train = y[:40]\n",
    "\n",
    "X_test = X[40:]\n",
    "y_test = y[40:]\n",
    "\n",
    "X_train, y_train, X_test, y_test"
   ]
  },
  {
   "cell_type": "code",
   "execution_count": 4,
   "id": "8d3845d7",
   "metadata": {
    "execution": {
     "iopub.execute_input": "2023-12-01T13:14:35.082387Z",
     "iopub.status.busy": "2023-12-01T13:14:35.081347Z",
     "iopub.status.idle": "2023-12-01T13:14:35.446202Z",
     "shell.execute_reply": "2023-12-01T13:14:35.444811Z"
    },
    "papermill": {
     "duration": 0.37326,
     "end_time": "2023-12-01T13:14:35.449170",
     "exception": false,
     "start_time": "2023-12-01T13:14:35.075910",
     "status": "completed"
    },
    "tags": []
   },
   "outputs": [
    {
     "data": {
      "image/png": "[encoded data removed]",
      "text/plain": [
       "<Figure size 1000x700 with 1 Axes>"
      ]
     },
     "metadata": {},
     "output_type": "display_data"
    }
   ],
   "source": [
    "plt.figure(figsize=[10,7])\n",
    "plt.scatter(X_train, y_train, c=\"b\", label=\"Training data\")\n",
    "plt.scatter(X_test, y_test, c=\"g\", label=\"Test data\")\n",
    "plt.legend();"
   ]
  },
  {
   "cell_type": "markdown",
   "id": "59255811",
   "metadata": {
    "papermill": {
     "duration": 0.004319,
     "end_time": "2023-12-01T13:14:35.458412",
     "exception": false,
     "start_time": "2023-12-01T13:14:35.454093",
     "status": "completed"
    },
    "tags": []
   },
   "source": [
    "## Creating model_1\n",
    "\n",
    "### Parameters of model_1\n",
    "1. no. of layers = 1\n",
    "2. no. of neurons = 1\n",
    "3. loss = mae\n",
    "4. optimizer = SGD\n",
    "5. epochs = 100"
   ]
  },
  {
   "cell_type": "code",
   "execution_count": 5,
   "id": "d55d47bd",
   "metadata": {
    "execution": {
     "iopub.execute_input": "2023-12-01T13:14:35.469939Z",
     "iopub.status.busy": "2023-12-01T13:14:35.468852Z",
     "iopub.status.idle": "2023-12-01T13:14:35.568801Z",
     "shell.execute_reply": "2023-12-01T13:14:35.566631Z"
    },
    "papermill": {
     "duration": 0.108462,
     "end_time": "2023-12-01T13:14:35.571401",
     "exception": false,
     "start_time": "2023-12-01T13:14:35.462939",
     "status": "completed"
    },
    "tags": []
   },
   "outputs": [
    {
     "name": "stdout",
     "output_type": "stream",
     "text": [
      "Model: \"sequential\"\n",
      "_________________________________________________________________\n",
      " Layer (type)                Output Shape              Param #   \n",
      "=================================================================\n",
      " dense (Dense)               (None, 1)                 2         \n",
      "                                                                 \n",
      "=================================================================\n",
      "Total params: 2 (8.00 Byte)\n",
      "Trainable params: 2 (8.00 Byte)\n",
      "Non-trainable params: 0 (0.00 Byte)\n",
      "_________________________________________________________________\n"
     ]
    }
   ],
   "source": [
    "tf.random.set_seed(40)\n",
    "model_1 = tf.keras.Sequential([\n",
    "    tf.keras.layers.Dense(1, input_shape=[1])\n",
    "])\n",
    "\n",
    "model_1.compile(loss = tf.keras.losses.mae,\n",
    "             optimizer = tf.keras.optimizers.SGD(),\n",
    "             metrics = [\"mae\"])\n",
    "\n",
    "model_1.summary()"
   ]
  },
  {
   "cell_type": "code",
   "execution_count": 6,
   "id": "9cf2cdbf",
   "metadata": {
    "execution": {
     "iopub.execute_input": "2023-12-01T13:14:35.584464Z",
     "iopub.status.busy": "2023-12-01T13:14:35.583997Z",
     "iopub.status.idle": "2023-12-01T13:14:35.826455Z",
     "shell.execute_reply": "2023-12-01T13:14:35.824943Z"
    },
    "papermill": {
     "duration": 0.251955,
     "end_time": "2023-12-01T13:14:35.829027",
     "exception": false,
     "start_time": "2023-12-01T13:14:35.577072",
     "status": "completed"
    },
    "tags": []
   },
   "outputs": [
    {
     "data": {
      "image/png": "[encoded data removed]",
      "text/plain": [
       "<IPython.core.display.Image object>"
      ]
     },
     "execution_count": 6,
     "metadata": {},
     "output_type": "execute_result"
    }
   ],
   "source": [
    "plot_model(model_1, show_shapes=True)"
   ]
  },
  {
   "cell_type": "code",
   "execution_count": 7,
   "id": "2115665f",
   "metadata": {
    "execution": {
     "iopub.execute_input": "2023-12-01T13:14:35.841875Z",
     "iopub.status.busy": "2023-12-01T13:14:35.841534Z",
     "iopub.status.idle": "2023-12-01T13:14:37.538662Z",
     "shell.execute_reply": "2023-12-01T13:14:37.537921Z"
    },
    "papermill": {
     "duration": 1.705681,
     "end_time": "2023-12-01T13:14:37.540472",
     "exception": false,
     "start_time": "2023-12-01T13:14:35.834791",
     "status": "completed"
    },
    "tags": []
   },
   "outputs": [
    {
     "name": "stdout",
     "output_type": "stream",
     "text": [
      "Epoch 1/100\n",
      "2/2 [==============================] - 0s 10ms/step - loss: 71.5440 - mae: 71.5440\n",
      "Epoch 2/100\n",
      "2/2 [==============================] - 0s 5ms/step - loss: 44.4708 - mae: 44.4708\n",
      "Epoch 3/100\n",
      "2/2 [==============================] - 0s 6ms/step - loss: 38.0005 - mae: 38.0005\n",
      "Epoch 4/100\n",
      "2/2 [==============================] - 0s 5ms/step - loss: 41.4799 - mae: 41.4799\n",
      "Epoch 5/100\n",
      "2/2 [==============================] - 0s 5ms/step - loss: 40.7885 - mae: 40.7885\n",
      "Epoch 6/100\n",
      "2/2 [==============================] - 0s 4ms/step - loss: 38.1976 - mae: 38.1976\n",
      "Epoch 7/100\n",
      "2/2 [==============================] - 0s 4ms/step - loss: 39.9946 - mae: 39.9946\n",
      "Epoch 8/100\n",
      "2/2 [==============================] - 0s 6ms/step - loss: 38.8546 - mae: 38.8546\n",
      "Epoch 9/100\n",
      "2/2 [==============================] - 0s 5ms/step - loss: 41.2051 - mae: 41.2051\n",
      "Epoch 10/100\n",
      "2/2 [==============================] - 0s 4ms/step - loss: 39.9976 - mae: 39.9976\n",
      "Epoch 11/100\n",
      "2/2 [==============================] - 0s 5ms/step - loss: 38.3413 - mae: 38.3413\n",
      "Epoch 12/100\n",
      "2/2 [==============================] - 0s 5ms/step - loss: 41.0861 - mae: 41.0861\n",
      "Epoch 13/100\n",
      "2/2 [==============================] - 0s 5ms/step - loss: 38.4725 - mae: 38.4725\n",
      "Epoch 14/100\n",
      "2/2 [==============================] - 0s 4ms/step - loss: 39.5584 - mae: 39.5584\n",
      "Epoch 15/100\n",
      "2/2 [==============================] - 0s 4ms/step - loss: 40.9717 - mae: 40.9717\n",
      "Epoch 16/100\n",
      "2/2 [==============================] - 0s 4ms/step - loss: 43.4216 - mae: 43.4216\n",
      "Epoch 17/100\n",
      "2/2 [==============================] - 0s 4ms/step - loss: 38.0597 - mae: 38.0597\n",
      "Epoch 18/100\n",
      "2/2 [==============================] - 0s 6ms/step - loss: 39.9112 - mae: 39.9112\n",
      "Epoch 19/100\n",
      "2/2 [==============================] - 0s 4ms/step - loss: 40.7292 - mae: 40.7292\n",
      "Epoch 20/100\n",
      "2/2 [==============================] - 0s 5ms/step - loss: 38.1157 - mae: 38.1157\n",
      "Epoch 21/100\n",
      "2/2 [==============================] - 0s 7ms/step - loss: 37.9415 - mae: 37.9415\n",
      "Epoch 22/100\n",
      "2/2 [==============================] - 0s 4ms/step - loss: 39.1848 - mae: 39.1848\n",
      "Epoch 23/100\n",
      "2/2 [==============================] - 0s 6ms/step - loss: 38.7626 - mae: 38.7626\n",
      "Epoch 24/100\n",
      "2/2 [==============================] - 0s 5ms/step - loss: 39.5997 - mae: 39.5997\n",
      "Epoch 25/100\n",
      "2/2 [==============================] - 0s 6ms/step - loss: 37.9537 - mae: 37.9537\n",
      "Epoch 26/100\n",
      "2/2 [==============================] - 0s 5ms/step - loss: 39.1087 - mae: 39.1087\n",
      "Epoch 27/100\n",
      "2/2 [==============================] - 0s 5ms/step - loss: 38.0307 - mae: 38.0307\n",
      "Epoch 28/100\n",
      "2/2 [==============================] - 0s 4ms/step - loss: 38.8440 - mae: 38.8440\n",
      "Epoch 29/100\n",
      "2/2 [==============================] - 0s 4ms/step - loss: 40.2751 - mae: 40.2751\n",
      "Epoch 30/100\n",
      "2/2 [==============================] - 0s 7ms/step - loss: 40.4315 - mae: 40.4315\n",
      "Epoch 31/100\n",
      "2/2 [==============================] - 0s 6ms/step - loss: 38.3476 - mae: 38.3476\n",
      "Epoch 32/100\n",
      "2/2 [==============================] - 0s 5ms/step - loss: 37.9156 - mae: 37.9156\n",
      "Epoch 33/100\n",
      "2/2 [==============================] - 0s 5ms/step - loss: 38.3027 - mae: 38.3027\n",
      "Epoch 34/100\n",
      "2/2 [==============================] - 0s 6ms/step - loss: 38.1928 - mae: 38.1928\n",
      "Epoch 35/100\n",
      "2/2 [==============================] - 0s 5ms/step - loss: 42.1665 - mae: 42.1665\n",
      "Epoch 36/100\n",
      "2/2 [==============================] - 0s 5ms/step - loss: 39.2056 - mae: 39.2056\n",
      "Epoch 37/100\n",
      "2/2 [==============================] - 0s 5ms/step - loss: 38.2136 - mae: 38.2136\n",
      "Epoch 38/100\n",
      "2/2 [==============================] - 0s 6ms/step - loss: 37.9947 - mae: 37.9947\n",
      "Epoch 39/100\n",
      "2/2 [==============================] - 0s 5ms/step - loss: 37.8018 - mae: 37.8018\n",
      "Epoch 40/100\n",
      "2/2 [==============================] - 0s 4ms/step - loss: 38.1039 - mae: 38.1039\n",
      "Epoch 41/100\n",
      "2/2 [==============================] - 0s 5ms/step - loss: 37.9219 - mae: 37.9219\n",
      "Epoch 42/100\n",
      "2/2 [==============================] - 0s 6ms/step - loss: 39.8472 - mae: 39.8472\n",
      "Epoch 43/100\n",
      "2/2 [==============================] - 0s 5ms/step - loss: 42.5785 - mae: 42.5785\n",
      "Epoch 44/100\n",
      "2/2 [==============================] - 0s 6ms/step - loss: 38.4207 - mae: 38.4207\n",
      "Epoch 45/100\n",
      "2/2 [==============================] - 0s 6ms/step - loss: 37.6163 - mae: 37.6163\n",
      "Epoch 46/100\n",
      "2/2 [==============================] - 0s 7ms/step - loss: 39.8786 - mae: 39.8786\n",
      "Epoch 47/100\n",
      "2/2 [==============================] - 0s 5ms/step - loss: 37.8512 - mae: 37.8512\n",
      "Epoch 48/100\n",
      "2/2 [==============================] - 0s 4ms/step - loss: 37.8814 - mae: 37.8814\n",
      "Epoch 49/100\n",
      "2/2 [==============================] - 0s 7ms/step - loss: 40.7086 - mae: 40.7086\n",
      "Epoch 50/100\n",
      "2/2 [==============================] - 0s 7ms/step - loss: 37.9481 - mae: 37.9481\n",
      "Epoch 51/100\n",
      "2/2 [==============================] - 0s 7ms/step - loss: 37.5896 - mae: 37.5896\n",
      "Epoch 52/100\n",
      "2/2 [==============================] - 0s 4ms/step - loss: 37.6004 - mae: 37.6004\n",
      "Epoch 53/100\n",
      "2/2 [==============================] - 0s 5ms/step - loss: 39.2122 - mae: 39.2122\n",
      "Epoch 54/100\n",
      "2/2 [==============================] - 0s 5ms/step - loss: 39.0399 - mae: 39.0399\n",
      "Epoch 55/100\n",
      "2/2 [==============================] - 0s 4ms/step - loss: 39.8132 - mae: 39.8132\n",
      "Epoch 56/100\n",
      "2/2 [==============================] - 0s 6ms/step - loss: 37.6476 - mae: 37.6476\n",
      "Epoch 57/100\n",
      "2/2 [==============================] - 0s 4ms/step - loss: 38.9092 - mae: 38.9092\n",
      "Epoch 58/100\n",
      "2/2 [==============================] - 0s 4ms/step - loss: 39.1342 - mae: 39.1342\n",
      "Epoch 59/100\n",
      "2/2 [==============================] - 0s 6ms/step - loss: 37.4882 - mae: 37.4882\n",
      "Epoch 60/100\n",
      "2/2 [==============================] - 0s 6ms/step - loss: 38.5402 - mae: 38.5402\n",
      "Epoch 61/100\n",
      "2/2 [==============================] - 0s 5ms/step - loss: 39.4889 - mae: 39.4889\n",
      "Epoch 62/100\n",
      "2/2 [==============================] - 0s 5ms/step - loss: 37.9937 - mae: 37.9937\n",
      "Epoch 63/100\n",
      "2/2 [==============================] - 0s 4ms/step - loss: 38.4459 - mae: 38.4459\n",
      "Epoch 64/100\n",
      "2/2 [==============================] - 0s 4ms/step - loss: 37.7704 - mae: 37.7704\n",
      "Epoch 65/100\n",
      "2/2 [==============================] - 0s 5ms/step - loss: 37.5785 - mae: 37.5785\n",
      "Epoch 66/100\n",
      "2/2 [==============================] - 0s 4ms/step - loss: 38.1357 - mae: 38.1357\n",
      "Epoch 67/100\n",
      "2/2 [==============================] - 0s 4ms/step - loss: 41.1708 - mae: 41.1708\n",
      "Epoch 68/100\n",
      "2/2 [==============================] - 0s 4ms/step - loss: 38.1508 - mae: 38.1508\n",
      "Epoch 69/100\n",
      "2/2 [==============================] - 0s 7ms/step - loss: 38.2943 - mae: 38.2943\n",
      "Epoch 70/100\n",
      "2/2 [==============================] - 0s 6ms/step - loss: 37.9509 - mae: 37.9509\n",
      "Epoch 71/100\n",
      "2/2 [==============================] - 0s 5ms/step - loss: 37.6506 - mae: 37.6506\n",
      "Epoch 72/100\n",
      "2/2 [==============================] - 0s 5ms/step - loss: 37.3588 - mae: 37.3588\n",
      "Epoch 73/100\n",
      "2/2 [==============================] - 0s 6ms/step - loss: 37.3512 - mae: 37.3512\n",
      "Epoch 74/100\n",
      "2/2 [==============================] - 0s 5ms/step - loss: 37.4229 - mae: 37.4229\n",
      "Epoch 75/100\n",
      "2/2 [==============================] - 0s 6ms/step - loss: 37.4198 - mae: 37.4198\n",
      "Epoch 76/100\n",
      "2/2 [==============================] - 0s 6ms/step - loss: 40.1087 - mae: 40.1087\n",
      "Epoch 77/100\n",
      "2/2 [==============================] - 0s 5ms/step - loss: 37.3622 - mae: 37.3622\n",
      "Epoch 78/100\n",
      "2/2 [==============================] - 0s 7ms/step - loss: 38.1654 - mae: 38.1654\n",
      "Epoch 79/100\n",
      "2/2 [==============================] - 0s 5ms/step - loss: 40.3273 - mae: 40.3273\n",
      "Epoch 80/100\n",
      "2/2 [==============================] - 0s 7ms/step - loss: 38.6010 - mae: 38.6010\n",
      "Epoch 81/100\n",
      "2/2 [==============================] - 0s 5ms/step - loss: 38.9580 - mae: 38.9580\n",
      "Epoch 82/100\n",
      "2/2 [==============================] - 0s 6ms/step - loss: 37.5988 - mae: 37.5988\n",
      "Epoch 83/100\n",
      "2/2 [==============================] - 0s 5ms/step - loss: 38.4661 - mae: 38.4661\n",
      "Epoch 84/100\n",
      "2/2 [==============================] - 0s 5ms/step - loss: 38.1627 - mae: 38.1627\n",
      "Epoch 85/100\n",
      "2/2 [==============================] - 0s 5ms/step - loss: 39.2523 - mae: 39.2523\n",
      "Epoch 86/100\n",
      "2/2 [==============================] - 0s 4ms/step - loss: 38.6519 - mae: 38.6519\n",
      "Epoch 87/100\n",
      "2/2 [==============================] - 0s 5ms/step - loss: 39.9421 - mae: 39.9421\n",
      "Epoch 88/100\n",
      "2/2 [==============================] - 0s 6ms/step - loss: 38.0755 - mae: 38.0755\n",
      "Epoch 89/100\n",
      "2/2 [==============================] - 0s 4ms/step - loss: 37.4402 - mae: 37.4402\n",
      "Epoch 90/100\n",
      "2/2 [==============================] - 0s 5ms/step - loss: 41.7935 - mae: 41.7935\n",
      "Epoch 91/100\n",
      "2/2 [==============================] - 0s 5ms/step - loss: 37.6946 - mae: 37.6946\n",
      "Epoch 92/100\n",
      "2/2 [==============================] - 0s 6ms/step - loss: 43.8135 - mae: 43.8135\n",
      "Epoch 93/100\n",
      "2/2 [==============================] - 0s 4ms/step - loss: 37.1417 - mae: 37.1417\n",
      "Epoch 94/100\n",
      "2/2 [==============================] - 0s 5ms/step - loss: 37.8245 - mae: 37.8245\n",
      "Epoch 95/100\n",
      "2/2 [==============================] - 0s 6ms/step - loss: 40.7149 - mae: 40.7149\n",
      "Epoch 96/100\n",
      "2/2 [==============================] - 0s 6ms/step - loss: 37.7753 - mae: 37.7753\n",
      "Epoch 97/100\n",
      "2/2 [==============================] - 0s 5ms/step - loss: 38.1141 - mae: 38.1141\n",
      "Epoch 98/100\n",
      "2/2 [==============================] - 0s 5ms/step - loss: 40.7882 - mae: 40.7882\n",
      "Epoch 99/100\n",
      "2/2 [==============================] - 0s 6ms/step - loss: 38.0754 - mae: 38.0754\n",
      "Epoch 100/100\n",
      "2/2 [==============================] - 0s 4ms/step - loss: 39.5616 - mae: 39.5616\n"
     ]
    },
    {
     "data": {
      "text/plain": [
       "<keras.src.callbacks.History at 0x79c5fba9c340>"
      ]
     },
     "execution_count": 7,
     "metadata": {},
     "output_type": "execute_result"
    }
   ],
   "source": [
    "model_1.fit(X_train, y_train, epochs=100)"
   ]
  },
  {
   "cell_type": "code",
   "execution_count": 8,
   "id": "6eb1168b",
   "metadata": {
    "execution": {
     "iopub.execute_input": "2023-12-01T13:14:37.589672Z",
     "iopub.status.busy": "2023-12-01T13:14:37.589117Z",
     "iopub.status.idle": "2023-12-01T13:14:37.719618Z",
     "shell.execute_reply": "2023-12-01T13:14:37.718576Z"
    },
    "papermill": {
     "duration": 0.157629,
     "end_time": "2023-12-01T13:14:37.721630",
     "exception": false,
     "start_time": "2023-12-01T13:14:37.564001",
     "status": "completed"
    },
    "tags": []
   },
   "outputs": [
    {
     "name": "stdout",
     "output_type": "stream",
     "text": [
      "1/1 [==============================] - 0s 72ms/step\n"
     ]
    },
    {
     "data": {
      "text/plain": [
       "(array([[28.099213],\n",
       "        [29.87566 ],\n",
       "        [31.652107],\n",
       "        [33.428555],\n",
       "        [35.205   ],\n",
       "        [36.98145 ],\n",
       "        [38.757896],\n",
       "        [40.534344],\n",
       "        [42.31079 ],\n",
       "        [44.087242]], dtype=float32),\n",
       " <tf.Tensor: shape=(10,), dtype=int32, numpy=array([110, 114, 118, 122, 126, 130, 134, 138, 142, 146], dtype=int32)>)"
      ]
     },
     "execution_count": 8,
     "metadata": {},
     "output_type": "execute_result"
    }
   ],
   "source": [
    "y_pred_1 = model_1.predict(X_test)\n",
    "y_pred_1, y_test"
   ]
  },
  {
   "cell_type": "code",
   "execution_count": 9,
   "id": "16abc157",
   "metadata": {
    "execution": {
     "iopub.execute_input": "2023-12-01T13:14:37.768607Z",
     "iopub.status.busy": "2023-12-01T13:14:37.768221Z",
     "iopub.status.idle": "2023-12-01T13:14:38.116313Z",
     "shell.execute_reply": "2023-12-01T13:14:38.114980Z"
    },
    "papermill": {
     "duration": 0.373733,
     "end_time": "2023-12-01T13:14:38.118324",
     "exception": false,
     "start_time": "2023-12-01T13:14:37.744591",
     "status": "completed"
    },
    "tags": []
   },
   "outputs": [
    {
     "data": {
      "image/png": "[encoded data removed]",
      "text/plain": [
       "<Figure size 1000x700 with 1 Axes>"
      ]
     },
     "metadata": {},
     "output_type": "display_data"
    }
   ],
   "source": [
    "plt.figure(figsize=(10,7))\n",
    "plt.scatter(X_train, y_train, c=\"b\", label = \"Training data\")\n",
    "plt.scatter(X_test, y_test, c=\"g\", label = \"test data\")\n",
    "plt.scatter(X_test, y_pred_1, c=\"r\", label = \"predictions\")\n",
    "plt.legend();"
   ]
  },
  {
   "cell_type": "markdown",
   "id": "a029a384",
   "metadata": {
    "papermill": {
     "duration": 0.022754,
     "end_time": "2023-12-01T13:14:38.164915",
     "exception": false,
     "start_time": "2023-12-01T13:14:38.142161",
     "status": "completed"
    },
    "tags": []
   },
   "source": [
    "## Conclusion\n",
    "\n",
    "1. predicted values vs. test values are too far using simple model"
   ]
  },
  {
   "cell_type": "markdown",
   "id": "50f61b05",
   "metadata": {
    "papermill": {
     "duration": 0.023971,
     "end_time": "2023-12-01T13:14:38.212197",
     "exception": false,
     "start_time": "2023-12-01T13:14:38.188226",
     "status": "completed"
    },
    "tags": []
   },
   "source": [
    "## Creating model_2"
   ]
  },
  {
   "cell_type": "markdown",
   "id": "70bae2ee",
   "metadata": {
    "papermill": {
     "duration": 0.023974,
     "end_time": "2023-12-01T13:14:38.260041",
     "exception": false,
     "start_time": "2023-12-01T13:14:38.236067",
     "status": "completed"
    },
    "tags": []
   },
   "source": [
    "### Parameters of model_2\n",
    "\n",
    "1. no. of layers = 2\n",
    "2. no. of neurons = 1 and 50\n",
    "3. loss = mae\n",
    "4. optimizer = SGD\n",
    "5. epochs = 100\n",
    "6. learning_rate = 0.01"
   ]
  },
  {
   "cell_type": "code",
   "execution_count": 10,
   "id": "1ca90b1d",
   "metadata": {
    "execution": {
     "iopub.execute_input": "2023-12-01T13:14:38.309623Z",
     "iopub.status.busy": "2023-12-01T13:14:38.309212Z",
     "iopub.status.idle": "2023-12-01T13:14:38.380332Z",
     "shell.execute_reply": "2023-12-01T13:14:38.378894Z"
    },
    "papermill": {
     "duration": 0.099666,
     "end_time": "2023-12-01T13:14:38.383634",
     "exception": false,
     "start_time": "2023-12-01T13:14:38.283968",
     "status": "completed"
    },
    "tags": []
   },
   "outputs": [
    {
     "name": "stdout",
     "output_type": "stream",
     "text": [
      "Model: \"sequential_1\"\n",
      "_________________________________________________________________\n",
      " Layer (type)                Output Shape              Param #   \n",
      "=================================================================\n",
      " dense_1 (Dense)             (None, 50)                100       \n",
      "                                                                 \n",
      " dense_2 (Dense)             (None, 1)                 51        \n",
      "                                                                 \n",
      "=================================================================\n",
      "Total params: 151 (604.00 Byte)\n",
      "Trainable params: 151 (604.00 Byte)\n",
      "Non-trainable params: 0 (0.00 Byte)\n",
      "_________________________________________________________________\n"
     ]
    }
   ],
   "source": [
    "tf.random.set_seed(42)\n",
    "model_2 = tf.keras.Sequential([\n",
    "    tf.keras.layers.Dense(50, input_shape = [1]),\n",
    "    tf.keras.layers.Dense(1)\n",
    "])\n",
    "\n",
    "model_2.compile(loss = tf.keras.losses.mae,\n",
    "               optimizer = tf.keras.optimizers.SGD(learning_rate = 0.01),\n",
    "               metrics = [\"mae\"])\n",
    "\n",
    "model_2.summary()"
   ]
  },
  {
   "cell_type": "code",
   "execution_count": 11,
   "id": "66ee1374",
   "metadata": {
    "execution": {
     "iopub.execute_input": "2023-12-01T13:14:38.436231Z",
     "iopub.status.busy": "2023-12-01T13:14:38.435819Z",
     "iopub.status.idle": "2023-12-01T13:14:38.481108Z",
     "shell.execute_reply": "2023-12-01T13:14:38.479835Z"
    },
    "papermill": {
     "duration": 0.073782,
     "end_time": "2023-12-01T13:14:38.483053",
     "exception": false,
     "start_time": "2023-12-01T13:14:38.409271",
     "status": "completed"
    },
    "tags": []
   },
   "outputs": [
    {
     "data": {
      "image/png": "[encoded data removed]",
      "text/plain": [
       "<IPython.core.display.Image object>"
      ]
     },
     "execution_count": 11,
     "metadata": {},
     "output_type": "execute_result"
    }
   ],
   "source": [
    "plot_model(model_2, show_shapes=True)"
   ]
  },
  {
   "cell_type": "code",
   "execution_count": 12,
   "id": "4f480f10",
   "metadata": {
    "execution": {
     "iopub.execute_input": "2023-12-01T13:14:38.534180Z",
     "iopub.status.busy": "2023-12-01T13:14:38.533671Z",
     "iopub.status.idle": "2023-12-01T13:14:40.434138Z",
     "shell.execute_reply": "2023-12-01T13:14:40.432537Z"
    },
    "papermill": {
     "duration": 1.928821,
     "end_time": "2023-12-01T13:14:40.436626",
     "exception": false,
     "start_time": "2023-12-01T13:14:38.507805",
     "status": "completed"
    },
    "tags": []
   },
   "outputs": [
    {
     "name": "stdout",
     "output_type": "stream",
     "text": [
      "Epoch 1/100\n",
      "2/2 [==============================] - 0s 9ms/step - loss: 41.3127 - mae: 41.3127\n",
      "Epoch 2/100\n",
      "2/2 [==============================] - 0s 6ms/step - loss: 47.0368 - mae: 47.0368\n",
      "Epoch 3/100\n",
      "2/2 [==============================] - 0s 6ms/step - loss: 46.6260 - mae: 46.6260\n",
      "Epoch 4/100\n",
      "2/2 [==============================] - 0s 6ms/step - loss: 39.2451 - mae: 39.2451\n",
      "Epoch 5/100\n",
      "2/2 [==============================] - 0s 4ms/step - loss: 39.5594 - mae: 39.5594\n",
      "Epoch 6/100\n",
      "2/2 [==============================] - 0s 5ms/step - loss: 38.6711 - mae: 38.6711\n",
      "Epoch 7/100\n",
      "2/2 [==============================] - 0s 5ms/step - loss: 43.8869 - mae: 43.8869\n",
      "Epoch 8/100\n",
      "2/2 [==============================] - 0s 6ms/step - loss: 39.1088 - mae: 39.1088\n",
      "Epoch 9/100\n",
      "2/2 [==============================] - 0s 6ms/step - loss: 44.3522 - mae: 44.3522\n",
      "Epoch 10/100\n",
      "2/2 [==============================] - 0s 6ms/step - loss: 41.5718 - mae: 41.5718\n",
      "Epoch 11/100\n",
      "2/2 [==============================] - 0s 6ms/step - loss: 37.8383 - mae: 37.8383\n",
      "Epoch 12/100\n",
      "2/2 [==============================] - 0s 6ms/step - loss: 37.9642 - mae: 37.9642\n",
      "Epoch 13/100\n",
      "2/2 [==============================] - 0s 7ms/step - loss: 40.5892 - mae: 40.5892\n",
      "Epoch 14/100\n",
      "2/2 [==============================] - 0s 6ms/step - loss: 42.6320 - mae: 42.6320\n",
      "Epoch 15/100\n",
      "2/2 [==============================] - 0s 5ms/step - loss: 37.7716 - mae: 37.7716\n",
      "Epoch 16/100\n",
      "2/2 [==============================] - 0s 5ms/step - loss: 38.5710 - mae: 38.5710\n",
      "Epoch 17/100\n",
      "2/2 [==============================] - 0s 6ms/step - loss: 39.2158 - mae: 39.2158\n",
      "Epoch 18/100\n",
      "2/2 [==============================] - 0s 5ms/step - loss: 41.1660 - mae: 41.1660\n",
      "Epoch 19/100\n",
      "2/2 [==============================] - 0s 6ms/step - loss: 39.1652 - mae: 39.1652\n",
      "Epoch 20/100\n",
      "2/2 [==============================] - 0s 5ms/step - loss: 38.4578 - mae: 38.4578\n",
      "Epoch 21/100\n",
      "2/2 [==============================] - 0s 4ms/step - loss: 38.4898 - mae: 38.4898\n",
      "Epoch 22/100\n",
      "2/2 [==============================] - 0s 8ms/step - loss: 38.1013 - mae: 38.1013\n",
      "Epoch 23/100\n",
      "2/2 [==============================] - 0s 6ms/step - loss: 37.7118 - mae: 37.7118\n",
      "Epoch 24/100\n",
      "2/2 [==============================] - 0s 7ms/step - loss: 37.8816 - mae: 37.8816\n",
      "Epoch 25/100\n",
      "2/2 [==============================] - 0s 5ms/step - loss: 39.0424 - mae: 39.0424\n",
      "Epoch 26/100\n",
      "2/2 [==============================] - 0s 4ms/step - loss: 37.6723 - mae: 37.6723\n",
      "Epoch 27/100\n",
      "2/2 [==============================] - 0s 7ms/step - loss: 37.6631 - mae: 37.6631\n",
      "Epoch 28/100\n",
      "2/2 [==============================] - 0s 6ms/step - loss: 37.6677 - mae: 37.6677\n",
      "Epoch 29/100\n",
      "2/2 [==============================] - 0s 4ms/step - loss: 37.7008 - mae: 37.7008\n",
      "Epoch 30/100\n",
      "2/2 [==============================] - 0s 7ms/step - loss: 37.7410 - mae: 37.7410\n",
      "Epoch 31/100\n",
      "2/2 [==============================] - 0s 5ms/step - loss: 39.9652 - mae: 39.9652\n",
      "Epoch 32/100\n",
      "2/2 [==============================] - 0s 6ms/step - loss: 40.0162 - mae: 40.0162\n",
      "Epoch 33/100\n",
      "2/2 [==============================] - 0s 6ms/step - loss: 39.0530 - mae: 39.0530\n",
      "Epoch 34/100\n",
      "2/2 [==============================] - 0s 6ms/step - loss: 37.5136 - mae: 37.5136\n",
      "Epoch 35/100\n",
      "2/2 [==============================] - 0s 6ms/step - loss: 39.1224 - mae: 39.1224\n",
      "Epoch 36/100\n",
      "2/2 [==============================] - 0s 5ms/step - loss: 42.0501 - mae: 42.0501\n",
      "Epoch 37/100\n",
      "2/2 [==============================] - 0s 5ms/step - loss: 39.0736 - mae: 39.0736\n",
      "Epoch 38/100\n",
      "2/2 [==============================] - 0s 6ms/step - loss: 39.2224 - mae: 39.2224\n",
      "Epoch 39/100\n",
      "2/2 [==============================] - 0s 5ms/step - loss: 37.4885 - mae: 37.4885\n",
      "Epoch 40/100\n",
      "2/2 [==============================] - 0s 7ms/step - loss: 37.6199 - mae: 37.6199\n",
      "Epoch 41/100\n",
      "2/2 [==============================] - 0s 7ms/step - loss: 39.5991 - mae: 39.5991\n",
      "Epoch 42/100\n",
      "2/2 [==============================] - 0s 5ms/step - loss: 37.4405 - mae: 37.4405\n",
      "Epoch 43/100\n",
      "2/2 [==============================] - 0s 5ms/step - loss: 37.4059 - mae: 37.4059\n",
      "Epoch 44/100\n",
      "2/2 [==============================] - 0s 4ms/step - loss: 37.5911 - mae: 37.5911\n",
      "Epoch 45/100\n",
      "2/2 [==============================] - 0s 6ms/step - loss: 38.9313 - mae: 38.9313\n",
      "Epoch 46/100\n",
      "2/2 [==============================] - 0s 6ms/step - loss: 37.9857 - mae: 37.9857\n",
      "Epoch 47/100\n",
      "2/2 [==============================] - 0s 5ms/step - loss: 37.8889 - mae: 37.8889\n",
      "Epoch 48/100\n",
      "2/2 [==============================] - 0s 5ms/step - loss: 38.3431 - mae: 38.3431\n",
      "Epoch 49/100\n",
      "2/2 [==============================] - 0s 4ms/step - loss: 37.7444 - mae: 37.7444\n",
      "Epoch 50/100\n",
      "2/2 [==============================] - 0s 5ms/step - loss: 39.4423 - mae: 39.4423\n",
      "Epoch 51/100\n",
      "2/2 [==============================] - 0s 4ms/step - loss: 37.4731 - mae: 37.4731\n",
      "Epoch 52/100\n",
      "2/2 [==============================] - 0s 4ms/step - loss: 39.7506 - mae: 39.7506\n",
      "Epoch 53/100\n",
      "2/2 [==============================] - 0s 4ms/step - loss: 40.2181 - mae: 40.2181\n",
      "Epoch 54/100\n",
      "2/2 [==============================] - 0s 4ms/step - loss: 37.3340 - mae: 37.3340\n",
      "Epoch 55/100\n",
      "2/2 [==============================] - 0s 6ms/step - loss: 38.0716 - mae: 38.0716\n",
      "Epoch 56/100\n",
      "2/2 [==============================] - 0s 4ms/step - loss: 37.4561 - mae: 37.4561\n",
      "Epoch 57/100\n",
      "2/2 [==============================] - 0s 5ms/step - loss: 41.2670 - mae: 41.2670\n",
      "Epoch 58/100\n",
      "2/2 [==============================] - 0s 6ms/step - loss: 37.6190 - mae: 37.6190\n",
      "Epoch 59/100\n",
      "2/2 [==============================] - 0s 4ms/step - loss: 37.2270 - mae: 37.2270\n",
      "Epoch 60/100\n",
      "2/2 [==============================] - 0s 5ms/step - loss: 37.8316 - mae: 37.8316\n",
      "Epoch 61/100\n",
      "2/2 [==============================] - 0s 5ms/step - loss: 37.2188 - mae: 37.2188\n",
      "Epoch 62/100\n",
      "2/2 [==============================] - 0s 6ms/step - loss: 37.3224 - mae: 37.3224\n",
      "Epoch 63/100\n",
      "2/2 [==============================] - 0s 6ms/step - loss: 37.2262 - mae: 37.2262\n",
      "Epoch 64/100\n",
      "2/2 [==============================] - 0s 8ms/step - loss: 39.9477 - mae: 39.9477\n",
      "Epoch 65/100\n",
      "2/2 [==============================] - 0s 4ms/step - loss: 37.0124 - mae: 37.0124\n",
      "Epoch 66/100\n",
      "2/2 [==============================] - 0s 5ms/step - loss: 37.5438 - mae: 37.5438\n",
      "Epoch 67/100\n",
      "2/2 [==============================] - 0s 6ms/step - loss: 37.0361 - mae: 37.0361\n",
      "Epoch 68/100\n",
      "2/2 [==============================] - 0s 5ms/step - loss: 37.8009 - mae: 37.8009\n",
      "Epoch 69/100\n",
      "2/2 [==============================] - 0s 5ms/step - loss: 36.9758 - mae: 36.9758\n",
      "Epoch 70/100\n",
      "2/2 [==============================] - 0s 7ms/step - loss: 37.6845 - mae: 37.6845\n",
      "Epoch 71/100\n",
      "2/2 [==============================] - 0s 5ms/step - loss: 40.5992 - mae: 40.5992\n",
      "Epoch 72/100\n",
      "2/2 [==============================] - 0s 5ms/step - loss: 37.3613 - mae: 37.3613\n",
      "Epoch 73/100\n",
      "2/2 [==============================] - 0s 6ms/step - loss: 37.0651 - mae: 37.0651\n",
      "Epoch 74/100\n",
      "2/2 [==============================] - 0s 7ms/step - loss: 39.4200 - mae: 39.4200\n",
      "Epoch 75/100\n",
      "2/2 [==============================] - 0s 6ms/step - loss: 37.8913 - mae: 37.8913\n",
      "Epoch 76/100\n",
      "2/2 [==============================] - 0s 5ms/step - loss: 37.6962 - mae: 37.6962\n",
      "Epoch 77/100\n",
      "2/2 [==============================] - 0s 4ms/step - loss: 37.0191 - mae: 37.0191\n",
      "Epoch 78/100\n",
      "2/2 [==============================] - 0s 5ms/step - loss: 37.4047 - mae: 37.4047\n",
      "Epoch 79/100\n",
      "2/2 [==============================] - 0s 6ms/step - loss: 37.2844 - mae: 37.2844\n",
      "Epoch 80/100\n",
      "2/2 [==============================] - 0s 6ms/step - loss: 38.9802 - mae: 38.9802\n",
      "Epoch 81/100\n",
      "2/2 [==============================] - 0s 6ms/step - loss: 36.7657 - mae: 36.7657\n",
      "Epoch 82/100\n",
      "2/2 [==============================] - 0s 6ms/step - loss: 36.7575 - mae: 36.7575\n",
      "Epoch 83/100\n",
      "2/2 [==============================] - 0s 7ms/step - loss: 37.0356 - mae: 37.0356\n",
      "Epoch 84/100\n",
      "2/2 [==============================] - 0s 6ms/step - loss: 36.8900 - mae: 36.8900\n",
      "Epoch 85/100\n",
      "2/2 [==============================] - 0s 5ms/step - loss: 38.2225 - mae: 38.2225\n",
      "Epoch 86/100\n",
      "2/2 [==============================] - 0s 5ms/step - loss: 36.8973 - mae: 36.8973\n",
      "Epoch 87/100\n",
      "2/2 [==============================] - 0s 6ms/step - loss: 41.5479 - mae: 41.5479\n",
      "Epoch 88/100\n",
      "2/2 [==============================] - 0s 6ms/step - loss: 36.8992 - mae: 36.8992\n",
      "Epoch 89/100\n",
      "2/2 [==============================] - 0s 5ms/step - loss: 38.5243 - mae: 38.5243\n",
      "Epoch 90/100\n",
      "2/2 [==============================] - 0s 6ms/step - loss: 36.6394 - mae: 36.6394\n",
      "Epoch 91/100\n",
      "2/2 [==============================] - 0s 6ms/step - loss: 38.2036 - mae: 38.2036\n",
      "Epoch 92/100\n",
      "2/2 [==============================] - 0s 5ms/step - loss: 37.2027 - mae: 37.2027\n",
      "Epoch 93/100\n",
      "2/2 [==============================] - 0s 4ms/step - loss: 36.9782 - mae: 36.9782\n",
      "Epoch 94/100\n",
      "2/2 [==============================] - 0s 4ms/step - loss: 36.6459 - mae: 36.6459\n",
      "Epoch 95/100\n",
      "2/2 [==============================] - 0s 4ms/step - loss: 36.9296 - mae: 36.9296\n",
      "Epoch 96/100\n",
      "2/2 [==============================] - 0s 6ms/step - loss: 36.8361 - mae: 36.8361\n",
      "Epoch 97/100\n",
      "2/2 [==============================] - 0s 5ms/step - loss: 40.1411 - mae: 40.1411\n",
      "Epoch 98/100\n",
      "2/2 [==============================] - 0s 6ms/step - loss: 36.7749 - mae: 36.7749\n",
      "Epoch 99/100\n",
      "2/2 [==============================] - 0s 6ms/step - loss: 38.2306 - mae: 38.2306\n",
      "Epoch 100/100\n",
      "2/2 [==============================] - 0s 5ms/step - loss: 36.6839 - mae: 36.6839\n"
     ]
    },
    {
     "data": {
      "text/plain": [
       "<keras.src.callbacks.History at 0x79c608abe380>"
      ]
     },
     "execution_count": 12,
     "metadata": {},
     "output_type": "execute_result"
    }
   ],
   "source": [
    "model_2.fit(X_train, y_train, epochs = 100)"
   ]
  },
  {
   "cell_type": "code",
   "execution_count": 13,
   "id": "5cc1564d",
   "metadata": {
    "execution": {
     "iopub.execute_input": "2023-12-01T13:14:40.579792Z",
     "iopub.status.busy": "2023-12-01T13:14:40.579341Z",
     "iopub.status.idle": "2023-12-01T13:14:40.679782Z",
     "shell.execute_reply": "2023-12-01T13:14:40.678663Z"
    },
    "papermill": {
     "duration": 0.146673,
     "end_time": "2023-12-01T13:14:40.681938",
     "exception": false,
     "start_time": "2023-12-01T13:14:40.535265",
     "status": "completed"
    },
    "tags": []
   },
   "outputs": [
    {
     "name": "stdout",
     "output_type": "stream",
     "text": [
      "1/1 [==============================] - 0s 48ms/step\n"
     ]
    },
    {
     "data": {
      "text/plain": [
       "(array([[37.93156 ],\n",
       "        [40.300518],\n",
       "        [42.669476],\n",
       "        [45.03843 ],\n",
       "        [47.407387],\n",
       "        [49.77634 ],\n",
       "        [52.145294],\n",
       "        [54.51425 ],\n",
       "        [56.88321 ],\n",
       "        [59.25216 ]], dtype=float32),\n",
       " <tf.Tensor: shape=(10,), dtype=int32, numpy=array([110, 114, 118, 122, 126, 130, 134, 138, 142, 146], dtype=int32)>)"
      ]
     },
     "execution_count": 13,
     "metadata": {},
     "output_type": "execute_result"
    }
   ],
   "source": [
    "y_pred_2 = model_2.predict(X_test)\n",
    "y_pred_2, y_test"
   ]
  },
  {
   "cell_type": "code",
   "execution_count": 14,
   "id": "b3527917",
   "metadata": {
    "execution": {
     "iopub.execute_input": "2023-12-01T13:14:40.769204Z",
     "iopub.status.busy": "2023-12-01T13:14:40.768795Z",
     "iopub.status.idle": "2023-12-01T13:14:41.150713Z",
     "shell.execute_reply": "2023-12-01T13:14:41.149663Z"
    },
    "papermill": {
     "duration": 0.42866,
     "end_time": "2023-12-01T13:14:41.152729",
     "exception": false,
     "start_time": "2023-12-01T13:14:40.724069",
     "status": "completed"
    },
    "tags": []
   },
   "outputs": [
    {
     "data": {
      "image/png": "[encoded data removed]",
      "text/plain": [
       "<Figure size 1000x700 with 1 Axes>"
      ]
     },
     "metadata": {},
     "output_type": "display_data"
    }
   ],
   "source": [
    "plt.figure(figsize = [10,7])\n",
    "plt.scatter(X_train, y_train, c=\"b\", label = \"Training data\")\n",
    "plt.scatter(X_test, y_test, c=\"g\", label = \"Test data\")\n",
    "plt.scatter(X_test, y_pred_1, c=\"r\", label = \"prediction 1\")\n",
    "plt.scatter(X_test, y_pred_2, c=\"c\", label = \"prediction 2\")\n",
    "plt.legend();"
   ]
  },
  {
   "cell_type": "markdown",
   "id": "1354e7a8",
   "metadata": {
    "papermill": {
     "duration": 0.042575,
     "end_time": "2023-12-01T13:14:41.239176",
     "exception": false,
     "start_time": "2023-12-01T13:14:41.196601",
     "status": "completed"
    },
    "tags": []
   },
   "source": [
    "### Conclusion\n",
    "1. model_2 precision increase when the layers and neurons increases\n",
    "2. learning_rate of 0.01 also played significant part"
   ]
  }
 ],
 "metadata": {
  "kaggle": {
   "accelerator": "none",
   "dataSources": [],
   "dockerImageVersionId": 30587,
   "isGpuEnabled": false,
   "isInternetEnabled": false,
   "language": "python",
   "sourceType": "notebook"
  },
  "kernelspec": {
   "display_name": "Python 3",
   "language": "python",
   "name": "python3"
  },
  "language_info": {
   "codemirror_mode": {
    "name": "ipython",
    "version": 3
   },
   "file_extension": ".py",
   "mimetype": "text/x-python",
   "name": "python",
   "nbconvert_exporter": "python",
   "pygments_lexer": "ipython3",
   "version": "3.10.12"
  },
  "papermill": {
   "default_parameters": {},
   "duration": 23.612544,
   "end_time": "2023-12-01T13:14:42.806754",
   "environment_variables": {},
   "exception": null,
   "input_path": "__notebook__.ipynb",
   "output_path": "__notebook__.ipynb",
   "parameters": {},
   "start_time": "2023-12-01T13:14:19.194210",
   "version": "2.4.0"
  }
 },
 "nbformat": 4,
 "nbformat_minor": 5
}
